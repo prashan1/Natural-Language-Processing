{
 "cells": [
  {
   "cell_type": "code",
   "execution_count": 1,
   "metadata": {},
   "outputs": [],
   "source": [
    "import nltk"
   ]
  },
  {
   "cell_type": "code",
   "execution_count": 2,
   "metadata": {},
   "outputs": [],
   "source": [
    "doc= 'For more details please mail us at xyz@abc.com , pqr@mno.com'"
   ]
  },
  {
   "cell_type": "code",
   "execution_count": 3,
   "metadata": {},
   "outputs": [
    {
     "data": {
      "text/plain": [
       "'For more details please mail us at xyz@abc.com , pqr@mno.com'"
      ]
     },
     "execution_count": 3,
     "metadata": {},
     "output_type": "execute_result"
    }
   ],
   "source": [
    "doc"
   ]
  },
  {
   "cell_type": "code",
   "execution_count": 4,
   "metadata": {},
   "outputs": [
    {
     "data": {
      "text/plain": [
       "['xyz@abc', 'pqr@mno']"
      ]
     },
     "execution_count": 4,
     "metadata": {},
     "output_type": "execute_result"
    }
   ],
   "source": [
    "import re\n",
    "re.findall(r'[a-zA-Z]+@[a-zA-Z]+' , doc)"
   ]
  },
  {
   "cell_type": "code",
   "execution_count": 5,
   "metadata": {},
   "outputs": [
    {
     "data": {
      "text/plain": [
       "['xyz@abc.com', 'pqr@mno.com']"
      ]
     },
     "execution_count": 5,
     "metadata": {},
     "output_type": "execute_result"
    }
   ],
   "source": [
    "re.findall(r'[\\w]+@[\\w\\.]+' , doc)"
   ]
  },
  {
   "cell_type": "code",
   "execution_count": 6,
   "metadata": {},
   "outputs": [
    {
     "data": {
      "text/plain": [
       "[\"-------------------------------------------------------------------------\\nGMREADME.TXT\\nCopyright (c) 1998-2000 Microsoft Corporation.  All Rights Reserved.\\n------------\\n\\nThe GM.DLS file contains the Roland SoundCanvas Sound Set which is \\nprotected under the following copyright: \\nRoland GS Sound Set/Microsoft (P) 1996 Roland Corporation U.S.  \\nThe Roland SoundCanvas Sound Set is licensed under Microsoft's \\nEnd User License Agreement for use with Microsoft operating \\nsystem products only.  All other uses require a separate written \\nlicense from Roland.\\n\\n-------------------------------------------------------------------------\\n\"]"
      ]
     },
     "execution_count": 6,
     "metadata": {},
     "output_type": "execute_result"
    }
   ],
   "source": [
    "import os\n",
    "if os.path.isfile('gmreadme.txt') :\n",
    "    with open('gmreadme.txt', 'r' ) as f:\n",
    "        tempApps = f.read()\n",
    "        tempApps = tempApps.split(' , ')\n",
    "        apps = [ x for x  in tempApps if x.strip() ]\n",
    "apps"
   ]
  },
  {
   "cell_type": "code",
   "execution_count": 7,
   "metadata": {},
   "outputs": [
    {
     "data": {
      "text/plain": [
       "\"-------------------------------------------------------------------------\\nGMREADME.TXT\\nCopyright(c)1998-2000MicrosoftCorporation.AllRightsReserved.\\n------------\\n\\nTheGM.DLSfilecontainstheRolandSoundCanvasSoundSetwhichis\\nprotectedunderthefollowingcopyright:\\nRolandGSSoundSet/Microsoft(P)1996RolandCorporationU.S.\\nTheRolandSoundCanvasSoundSetislicensedunderMicrosoft's\\nEndUserLicenseAgreementforusewithMicrosoftoperating\\nsystemproductsonly.Allotherusesrequireaseparatewritten\\nlicensefromRoland.\\n\\n-------------------------------------------------------------------------\\n\""
      ]
     },
     "execution_count": 7,
     "metadata": {},
     "output_type": "execute_result"
    }
   ],
   "source": [
    "spli = ''.join(tempApps[0].split(' '))\n",
    "spli"
   ]
  },
  {
   "cell_type": "code",
   "execution_count": 8,
   "metadata": {},
   "outputs": [
    {
     "data": {
      "text/plain": [
       "'gmreadmetxtcopyrightc19982000microsoftcorporationallrightsreservedthegmdlsfilecontainstherolandsoundcanvassoundsetwhichisprotectedunderthefollowingcopyrightrolandgssoundsetmicrosoftp1996rolandcorporationustherolandsoundcanvassoundsetislicensedundermicrosoftsenduserlicenseagreementforusewithmicrosoftoperatingsystemproductsonlyallotherusesrequireaseparatewrittenlicensefromroland'"
      ]
     },
     "execution_count": 8,
     "metadata": {},
     "output_type": "execute_result"
    }
   ],
   "source": [
    "re.sub('[^A-Za-z0-9]' , '' , spli).lower()"
   ]
  },
  {
   "cell_type": "code",
   "execution_count": 9,
   "metadata": {},
   "outputs": [],
   "source": [
    "spli = '''produced by martin adamson david widger with\n",
    "corrections by andrew sly the idiot by fyodor\n",
    "dostoyevsky translated by eva martin part i i. towards\n",
    "the end of november during a thaw at nine o clock one\n",
    "morning a train on the warsaw and petersburg railway\n",
    "was approaching the latter city at full speed. the\n",
    "morning was so damp and misty that it was only with\n",
    "great difficulty that the day succeeded in breaking\n",
    "and it was impossible to distinguish anything more\n",
    "than a few yards away from the carriage windows.\n",
    "some of the passengers by this particular train were\n",
    "returning from abroad but the third class carriages\n",
    "were the best filled chiefly with insignificant\n",
    "persons of various occupations and degrees picked up\n",
    "at the different stations nearer town. all of them\n",
    "seemed weary and most of them had sleepy eyes and a\n",
    "shivering expression while their complexions generally\n",
    "appeared to have taken on the colour of the fog\n",
    "outside. when da\n",
    "'''"
   ]
  },
  {
   "cell_type": "code",
   "execution_count": 10,
   "metadata": {},
   "outputs": [],
   "source": [
    "spli = re.sub('\\n' , ',' , spli)"
   ]
  },
  {
   "cell_type": "code",
   "execution_count": 11,
   "metadata": {},
   "outputs": [],
   "source": [
    "import pandas as pd\n",
    "li = spli.split(',')\n",
    "data = pd.DataFrame({'Data':li})"
   ]
  },
  {
   "cell_type": "code",
   "execution_count": 12,
   "metadata": {},
   "outputs": [
    {
     "data": {
      "text/html": [
       "<div>\n",
       "<style scoped>\n",
       "    .dataframe tbody tr th:only-of-type {\n",
       "        vertical-align: middle;\n",
       "    }\n",
       "\n",
       "    .dataframe tbody tr th {\n",
       "        vertical-align: top;\n",
       "    }\n",
       "\n",
       "    .dataframe thead th {\n",
       "        text-align: right;\n",
       "    }\n",
       "</style>\n",
       "<table border=\"1\" class=\"dataframe\">\n",
       "  <thead>\n",
       "    <tr style=\"text-align: right;\">\n",
       "      <th></th>\n",
       "      <th>Data</th>\n",
       "    </tr>\n",
       "  </thead>\n",
       "  <tbody>\n",
       "    <tr>\n",
       "      <td>0</td>\n",
       "      <td>produced by martin adamson david widger with</td>\n",
       "    </tr>\n",
       "    <tr>\n",
       "      <td>1</td>\n",
       "      <td>corrections by andrew sly the idiot by fyodor</td>\n",
       "    </tr>\n",
       "    <tr>\n",
       "      <td>2</td>\n",
       "      <td>dostoyevsky translated by eva martin part i i....</td>\n",
       "    </tr>\n",
       "    <tr>\n",
       "      <td>3</td>\n",
       "      <td>the end of november during a thaw at nine o cl...</td>\n",
       "    </tr>\n",
       "    <tr>\n",
       "      <td>4</td>\n",
       "      <td>morning a train on the warsaw and petersburg r...</td>\n",
       "    </tr>\n",
       "    <tr>\n",
       "      <td>5</td>\n",
       "      <td>was approaching the latter city at full speed....</td>\n",
       "    </tr>\n",
       "    <tr>\n",
       "      <td>6</td>\n",
       "      <td>morning was so damp and misty that it was only...</td>\n",
       "    </tr>\n",
       "    <tr>\n",
       "      <td>7</td>\n",
       "      <td>great difficulty that the day succeeded in bre...</td>\n",
       "    </tr>\n",
       "    <tr>\n",
       "      <td>8</td>\n",
       "      <td>and it was impossible to distinguish anything ...</td>\n",
       "    </tr>\n",
       "    <tr>\n",
       "      <td>9</td>\n",
       "      <td>than a few yards away from the carriage windows.</td>\n",
       "    </tr>\n",
       "    <tr>\n",
       "      <td>10</td>\n",
       "      <td>some of the passengers by this particular trai...</td>\n",
       "    </tr>\n",
       "    <tr>\n",
       "      <td>11</td>\n",
       "      <td>returning from abroad but the third class carr...</td>\n",
       "    </tr>\n",
       "    <tr>\n",
       "      <td>12</td>\n",
       "      <td>were the best filled chiefly with insignificant</td>\n",
       "    </tr>\n",
       "    <tr>\n",
       "      <td>13</td>\n",
       "      <td>persons of various occupations and degrees pic...</td>\n",
       "    </tr>\n",
       "    <tr>\n",
       "      <td>14</td>\n",
       "      <td>at the different stations nearer town. all of ...</td>\n",
       "    </tr>\n",
       "    <tr>\n",
       "      <td>15</td>\n",
       "      <td>seemed weary and most of them had sleepy eyes ...</td>\n",
       "    </tr>\n",
       "    <tr>\n",
       "      <td>16</td>\n",
       "      <td>shivering expression while their complexions g...</td>\n",
       "    </tr>\n",
       "    <tr>\n",
       "      <td>17</td>\n",
       "      <td>appeared to have taken on the colour of the fog</td>\n",
       "    </tr>\n",
       "    <tr>\n",
       "      <td>18</td>\n",
       "      <td>outside. when da</td>\n",
       "    </tr>\n",
       "    <tr>\n",
       "      <td>19</td>\n",
       "      <td></td>\n",
       "    </tr>\n",
       "  </tbody>\n",
       "</table>\n",
       "</div>"
      ],
      "text/plain": [
       "                                                 Data\n",
       "0        produced by martin adamson david widger with\n",
       "1       corrections by andrew sly the idiot by fyodor\n",
       "2   dostoyevsky translated by eva martin part i i....\n",
       "3   the end of november during a thaw at nine o cl...\n",
       "4   morning a train on the warsaw and petersburg r...\n",
       "5   was approaching the latter city at full speed....\n",
       "6   morning was so damp and misty that it was only...\n",
       "7   great difficulty that the day succeeded in bre...\n",
       "8   and it was impossible to distinguish anything ...\n",
       "9    than a few yards away from the carriage windows.\n",
       "10  some of the passengers by this particular trai...\n",
       "11  returning from abroad but the third class carr...\n",
       "12    were the best filled chiefly with insignificant\n",
       "13  persons of various occupations and degrees pic...\n",
       "14  at the different stations nearer town. all of ...\n",
       "15  seemed weary and most of them had sleepy eyes ...\n",
       "16  shivering expression while their complexions g...\n",
       "17    appeared to have taken on the colour of the fog\n",
       "18                                   outside. when da\n",
       "19                                                   "
      ]
     },
     "execution_count": 12,
     "metadata": {},
     "output_type": "execute_result"
    }
   ],
   "source": [
    "data"
   ]
  },
  {
   "cell_type": "code",
   "execution_count": 13,
   "metadata": {},
   "outputs": [],
   "source": [
    "data['Data']=data['Data'].apply(lambda x : x.lower() )"
   ]
  },
  {
   "cell_type": "code",
   "execution_count": 14,
   "metadata": {},
   "outputs": [
    {
     "data": {
      "text/html": [
       "<div>\n",
       "<style scoped>\n",
       "    .dataframe tbody tr th:only-of-type {\n",
       "        vertical-align: middle;\n",
       "    }\n",
       "\n",
       "    .dataframe tbody tr th {\n",
       "        vertical-align: top;\n",
       "    }\n",
       "\n",
       "    .dataframe thead th {\n",
       "        text-align: right;\n",
       "    }\n",
       "</style>\n",
       "<table border=\"1\" class=\"dataframe\">\n",
       "  <thead>\n",
       "    <tr style=\"text-align: right;\">\n",
       "      <th></th>\n",
       "      <th>Data</th>\n",
       "    </tr>\n",
       "  </thead>\n",
       "  <tbody>\n",
       "    <tr>\n",
       "      <td>0</td>\n",
       "      <td>produced by martin adamson david widger with</td>\n",
       "    </tr>\n",
       "    <tr>\n",
       "      <td>1</td>\n",
       "      <td>corrections by andrew sly the idiot by fyodor</td>\n",
       "    </tr>\n",
       "    <tr>\n",
       "      <td>2</td>\n",
       "      <td>dostoyevsky translated by eva martin part i i....</td>\n",
       "    </tr>\n",
       "    <tr>\n",
       "      <td>3</td>\n",
       "      <td>the end of november during a thaw at nine o cl...</td>\n",
       "    </tr>\n",
       "    <tr>\n",
       "      <td>4</td>\n",
       "      <td>morning a train on the warsaw and petersburg r...</td>\n",
       "    </tr>\n",
       "    <tr>\n",
       "      <td>5</td>\n",
       "      <td>was approaching the latter city at full speed....</td>\n",
       "    </tr>\n",
       "    <tr>\n",
       "      <td>6</td>\n",
       "      <td>morning was so damp and misty that it was only...</td>\n",
       "    </tr>\n",
       "    <tr>\n",
       "      <td>7</td>\n",
       "      <td>great difficulty that the day succeeded in bre...</td>\n",
       "    </tr>\n",
       "    <tr>\n",
       "      <td>8</td>\n",
       "      <td>and it was impossible to distinguish anything ...</td>\n",
       "    </tr>\n",
       "    <tr>\n",
       "      <td>9</td>\n",
       "      <td>than a few yards away from the carriage windows.</td>\n",
       "    </tr>\n",
       "    <tr>\n",
       "      <td>10</td>\n",
       "      <td>some of the passengers by this particular trai...</td>\n",
       "    </tr>\n",
       "    <tr>\n",
       "      <td>11</td>\n",
       "      <td>returning from abroad but the third class carr...</td>\n",
       "    </tr>\n",
       "    <tr>\n",
       "      <td>12</td>\n",
       "      <td>were the best filled chiefly with insignificant</td>\n",
       "    </tr>\n",
       "    <tr>\n",
       "      <td>13</td>\n",
       "      <td>persons of various occupations and degrees pic...</td>\n",
       "    </tr>\n",
       "    <tr>\n",
       "      <td>14</td>\n",
       "      <td>at the different stations nearer town. all of ...</td>\n",
       "    </tr>\n",
       "    <tr>\n",
       "      <td>15</td>\n",
       "      <td>seemed weary and most of them had sleepy eyes ...</td>\n",
       "    </tr>\n",
       "    <tr>\n",
       "      <td>16</td>\n",
       "      <td>shivering expression while their complexions g...</td>\n",
       "    </tr>\n",
       "    <tr>\n",
       "      <td>17</td>\n",
       "      <td>appeared to have taken on the colour of the fog</td>\n",
       "    </tr>\n",
       "    <tr>\n",
       "      <td>18</td>\n",
       "      <td>outside. when da</td>\n",
       "    </tr>\n",
       "    <tr>\n",
       "      <td>19</td>\n",
       "      <td></td>\n",
       "    </tr>\n",
       "  </tbody>\n",
       "</table>\n",
       "</div>"
      ],
      "text/plain": [
       "                                                 Data\n",
       "0        produced by martin adamson david widger with\n",
       "1       corrections by andrew sly the idiot by fyodor\n",
       "2   dostoyevsky translated by eva martin part i i....\n",
       "3   the end of november during a thaw at nine o cl...\n",
       "4   morning a train on the warsaw and petersburg r...\n",
       "5   was approaching the latter city at full speed....\n",
       "6   morning was so damp and misty that it was only...\n",
       "7   great difficulty that the day succeeded in bre...\n",
       "8   and it was impossible to distinguish anything ...\n",
       "9    than a few yards away from the carriage windows.\n",
       "10  some of the passengers by this particular trai...\n",
       "11  returning from abroad but the third class carr...\n",
       "12    were the best filled chiefly with insignificant\n",
       "13  persons of various occupations and degrees pic...\n",
       "14  at the different stations nearer town. all of ...\n",
       "15  seemed weary and most of them had sleepy eyes ...\n",
       "16  shivering expression while their complexions g...\n",
       "17    appeared to have taken on the colour of the fog\n",
       "18                                   outside. when da\n",
       "19                                                   "
      ]
     },
     "execution_count": 14,
     "metadata": {},
     "output_type": "execute_result"
    }
   ],
   "source": [
    "data"
   ]
  },
  {
   "cell_type": "code",
   "execution_count": 15,
   "metadata": {},
   "outputs": [
    {
     "data": {
      "text/plain": [
       "16"
      ]
     },
     "execution_count": 15,
     "metadata": {},
     "output_type": "execute_result"
    }
   ],
   "source": [
    "len(re.findall('the' , spli))"
   ]
  },
  {
   "cell_type": "markdown",
   "metadata": {},
   "source": [
    "## Web Scraping practices"
   ]
  },
  {
   "cell_type": "code",
   "execution_count": null,
   "metadata": {},
   "outputs": [],
   "source": [
    "from bs4 import BeautifulSoup\n",
    "import requests\n",
    "from urllib.request import urlopen\n",
    "html = urlopen('https://mail.google.com/mail/u/0/?tab=rm&ogbl#inbox')\n",
    "# print(html.read())\n",
    "bf = BeautifulSoup(html.read(),'html.parser')\n",
    "# print(bf)"
   ]
  },
  {
   "cell_type": "code",
   "execution_count": 17,
   "metadata": {},
   "outputs": [
    {
     "data": {
      "text/html": [
       "<div>\n",
       "<style scoped>\n",
       "    .dataframe tbody tr th:only-of-type {\n",
       "        vertical-align: middle;\n",
       "    }\n",
       "\n",
       "    .dataframe tbody tr th {\n",
       "        vertical-align: top;\n",
       "    }\n",
       "\n",
       "    .dataframe thead th {\n",
       "        text-align: right;\n",
       "    }\n",
       "</style>\n",
       "<table border=\"1\" class=\"dataframe\">\n",
       "  <thead>\n",
       "    <tr style=\"text-align: right;\">\n",
       "      <th></th>\n",
       "      <th>Data</th>\n",
       "    </tr>\n",
       "  </thead>\n",
       "  <tbody>\n",
       "    <tr>\n",
       "      <td>0</td>\n",
       "      <td>produced by martin adamson david widger with</td>\n",
       "    </tr>\n",
       "    <tr>\n",
       "      <td>1</td>\n",
       "      <td>corrections by andrew sly the idiot by fyodor</td>\n",
       "    </tr>\n",
       "    <tr>\n",
       "      <td>2</td>\n",
       "      <td>dostoyevsky translated by eva martin part i i....</td>\n",
       "    </tr>\n",
       "    <tr>\n",
       "      <td>3</td>\n",
       "      <td>the end of november during a thaw at nine o cl...</td>\n",
       "    </tr>\n",
       "    <tr>\n",
       "      <td>4</td>\n",
       "      <td>morning a train on the warsaw and petersburg r...</td>\n",
       "    </tr>\n",
       "    <tr>\n",
       "      <td>5</td>\n",
       "      <td>was approaching the latter city at full speed....</td>\n",
       "    </tr>\n",
       "    <tr>\n",
       "      <td>6</td>\n",
       "      <td>morning was so damp and misty that it was only...</td>\n",
       "    </tr>\n",
       "    <tr>\n",
       "      <td>7</td>\n",
       "      <td>great difficulty that the day succeeded in bre...</td>\n",
       "    </tr>\n",
       "    <tr>\n",
       "      <td>8</td>\n",
       "      <td>and it was impossible to distinguish anything ...</td>\n",
       "    </tr>\n",
       "    <tr>\n",
       "      <td>9</td>\n",
       "      <td>than a few yards away from the carriage windows.</td>\n",
       "    </tr>\n",
       "    <tr>\n",
       "      <td>10</td>\n",
       "      <td>some of the passengers by this particular trai...</td>\n",
       "    </tr>\n",
       "    <tr>\n",
       "      <td>11</td>\n",
       "      <td>returning from abroad but the third class carr...</td>\n",
       "    </tr>\n",
       "    <tr>\n",
       "      <td>12</td>\n",
       "      <td>were the best filled chiefly with insignificant</td>\n",
       "    </tr>\n",
       "    <tr>\n",
       "      <td>13</td>\n",
       "      <td>persons of various occupations and degrees pic...</td>\n",
       "    </tr>\n",
       "    <tr>\n",
       "      <td>14</td>\n",
       "      <td>at the different stations nearer town. all of ...</td>\n",
       "    </tr>\n",
       "    <tr>\n",
       "      <td>15</td>\n",
       "      <td>seemed weary and most of them had sleepy eyes ...</td>\n",
       "    </tr>\n",
       "    <tr>\n",
       "      <td>16</td>\n",
       "      <td>shivering expression while their complexions g...</td>\n",
       "    </tr>\n",
       "    <tr>\n",
       "      <td>17</td>\n",
       "      <td>appeared to have taken on the colour of the fog</td>\n",
       "    </tr>\n",
       "    <tr>\n",
       "      <td>18</td>\n",
       "      <td>outside. when da</td>\n",
       "    </tr>\n",
       "    <tr>\n",
       "      <td>19</td>\n",
       "      <td></td>\n",
       "    </tr>\n",
       "  </tbody>\n",
       "</table>\n",
       "</div>"
      ],
      "text/plain": [
       "                                                 Data\n",
       "0        produced by martin adamson david widger with\n",
       "1       corrections by andrew sly the idiot by fyodor\n",
       "2   dostoyevsky translated by eva martin part i i....\n",
       "3   the end of november during a thaw at nine o cl...\n",
       "4   morning a train on the warsaw and petersburg r...\n",
       "5   was approaching the latter city at full speed....\n",
       "6   morning was so damp and misty that it was only...\n",
       "7   great difficulty that the day succeeded in bre...\n",
       "8   and it was impossible to distinguish anything ...\n",
       "9    than a few yards away from the carriage windows.\n",
       "10  some of the passengers by this particular trai...\n",
       "11  returning from abroad but the third class carr...\n",
       "12    were the best filled chiefly with insignificant\n",
       "13  persons of various occupations and degrees pic...\n",
       "14  at the different stations nearer town. all of ...\n",
       "15  seemed weary and most of them had sleepy eyes ...\n",
       "16  shivering expression while their complexions g...\n",
       "17    appeared to have taken on the colour of the fog\n",
       "18                                   outside. when da\n",
       "19                                                   "
      ]
     },
     "execution_count": 17,
     "metadata": {},
     "output_type": "execute_result"
    }
   ],
   "source": [
    "data"
   ]
  },
  {
   "cell_type": "code",
   "execution_count": 18,
   "metadata": {},
   "outputs": [],
   "source": [
    "data.loc[0] =  '!' + data.loc[0] + ','"
   ]
  },
  {
   "cell_type": "code",
   "execution_count": 19,
   "metadata": {},
   "outputs": [
    {
     "data": {
      "text/plain": [
       "Data    !produced by martin adamson david widger with,\n",
       "Name: 0, dtype: object"
      ]
     },
     "execution_count": 19,
     "metadata": {},
     "output_type": "execute_result"
    }
   ],
   "source": [
    "data.loc[0]"
   ]
  },
  {
   "cell_type": "markdown",
   "metadata": {},
   "source": [
    "## Removing Punctuation\n",
    "# Using AnyTHing"
   ]
  },
  {
   "cell_type": "code",
   "execution_count": 20,
   "metadata": {},
   "outputs": [
    {
     "data": {
      "text/plain": [
       "'Hey  This is me '"
      ]
     },
     "execution_count": 20,
     "metadata": {},
     "output_type": "execute_result"
    }
   ],
   "source": [
    "punct = 'Hey !. This is me !!!'\n",
    "re.sub(r'[^\\w\\s]' , '' ,punct)\n"
   ]
  },
  {
   "cell_type": "code",
   "execution_count": 21,
   "metadata": {},
   "outputs": [],
   "source": [
    "data['Data'] = data['Data'].apply(lambda x : re.sub(r'[^\\w\\s]','' , x))"
   ]
  },
  {
   "cell_type": "code",
   "execution_count": 22,
   "metadata": {},
   "outputs": [
    {
     "data": {
      "text/plain": [
       "0          produced by martin adamson david widger with\n",
       "1         corrections by andrew sly the idiot by fyodor\n",
       "2     dostoyevsky translated by eva martin part i i ...\n",
       "3     the end of november during a thaw at nine o cl...\n",
       "4     morning a train on the warsaw and petersburg r...\n",
       "5     was approaching the latter city at full speed the\n",
       "6     morning was so damp and misty that it was only...\n",
       "7     great difficulty that the day succeeded in bre...\n",
       "8     and it was impossible to distinguish anything ...\n",
       "9       than a few yards away from the carriage windows\n",
       "10    some of the passengers by this particular trai...\n",
       "11    returning from abroad but the third class carr...\n",
       "12      were the best filled chiefly with insignificant\n",
       "13    persons of various occupations and degrees pic...\n",
       "14    at the different stations nearer town all of them\n",
       "15    seemed weary and most of them had sleepy eyes ...\n",
       "16    shivering expression while their complexions g...\n",
       "17      appeared to have taken on the colour of the fog\n",
       "18                                      outside when da\n",
       "19                                                     \n",
       "Name: Data, dtype: object"
      ]
     },
     "execution_count": 22,
     "metadata": {},
     "output_type": "execute_result"
    }
   ],
   "source": [
    "data.Data"
   ]
  },
  {
   "cell_type": "markdown",
   "metadata": {},
   "source": [
    "## Dealing with stopWords\n",
    "# Using StopWord"
   ]
  },
  {
   "cell_type": "code",
   "execution_count": 23,
   "metadata": {},
   "outputs": [],
   "source": [
    "#!pip uninstall nltk\n",
    "from nltk.corpus import stopwords\n",
    "#nltk.download('stopwords')"
   ]
  },
  {
   "cell_type": "code",
   "execution_count": 24,
   "metadata": {},
   "outputs": [
    {
     "data": {
      "text/plain": [
       "\"This example stopword let's see good \""
      ]
     },
     "execution_count": 24,
     "metadata": {},
     "output_type": "execute_result"
    }
   ],
   "source": [
    "stpwrd = stopwords.words('english')\n",
    "Input = 'This is just an example of stopword let\\'s see if this is any good'\n",
    "output = ''\n",
    "for word in Input.split(' '):\n",
    "    if word not in stpwrd:\n",
    "        output += word+ ' '\n",
    "output"
   ]
  },
  {
   "cell_type": "code",
   "execution_count": 25,
   "metadata": {},
   "outputs": [],
   "source": [
    "data2 = data.copy()\n",
    "data2['Data'] = data2['Data'].apply(lambda x : \" \".join(x for x in x.split()  if x not in stpwrd))"
   ]
  },
  {
   "cell_type": "code",
   "execution_count": 26,
   "metadata": {},
   "outputs": [
    {
     "data": {
      "text/plain": [
       "'dostoyevsky translated eva martin part towards'"
      ]
     },
     "execution_count": 26,
     "metadata": {},
     "output_type": "execute_result"
    }
   ],
   "source": [
    "data2.loc[2,'Data']"
   ]
  },
  {
   "cell_type": "code",
   "execution_count": 27,
   "metadata": {},
   "outputs": [
    {
     "data": {
      "text/plain": [
       "'dostoyevsky translated by eva martin part i i towards'"
      ]
     },
     "execution_count": 27,
     "metadata": {},
     "output_type": "execute_result"
    }
   ],
   "source": [
    "data.loc[2,'Data']"
   ]
  },
  {
   "cell_type": "markdown",
   "metadata": {},
   "source": [
    "## Standardizing Text\n",
    "# using Simple Dictionary"
   ]
  },
  {
   "cell_type": "code",
   "execution_count": 28,
   "metadata": {},
   "outputs": [
    {
     "data": {
      "text/html": [
       "<div>\n",
       "<style scoped>\n",
       "    .dataframe tbody tr th:only-of-type {\n",
       "        vertical-align: middle;\n",
       "    }\n",
       "\n",
       "    .dataframe tbody tr th {\n",
       "        vertical-align: top;\n",
       "    }\n",
       "\n",
       "    .dataframe thead th {\n",
       "        text-align: right;\n",
       "    }\n",
       "</style>\n",
       "<table border=\"1\" class=\"dataframe\">\n",
       "  <thead>\n",
       "    <tr style=\"text-align: right;\">\n",
       "      <th></th>\n",
       "      <th>Data</th>\n",
       "    </tr>\n",
       "  </thead>\n",
       "  <tbody>\n",
       "    <tr>\n",
       "      <td>0</td>\n",
       "      <td>produced by martin adamson david widger with</td>\n",
       "    </tr>\n",
       "    <tr>\n",
       "      <td>1</td>\n",
       "      <td>corrections by andrew sly the idiot by fyodor</td>\n",
       "    </tr>\n",
       "    <tr>\n",
       "      <td>2</td>\n",
       "      <td>dostoyevsky translated by eva martin part i i....</td>\n",
       "    </tr>\n",
       "    <tr>\n",
       "      <td>3</td>\n",
       "      <td>the end of november during a thaw at nine o cl...</td>\n",
       "    </tr>\n",
       "    <tr>\n",
       "      <td>4</td>\n",
       "      <td>morning a train on the warsaw and petersburg r...</td>\n",
       "    </tr>\n",
       "    <tr>\n",
       "      <td>5</td>\n",
       "      <td>was approaching the latter city at full speed....</td>\n",
       "    </tr>\n",
       "    <tr>\n",
       "      <td>6</td>\n",
       "      <td>morning was so damp and misty that it was only...</td>\n",
       "    </tr>\n",
       "    <tr>\n",
       "      <td>7</td>\n",
       "      <td>great difficulty that the day succeeded in bre...</td>\n",
       "    </tr>\n",
       "    <tr>\n",
       "      <td>8</td>\n",
       "      <td>and it was impossible to distinguish anything ...</td>\n",
       "    </tr>\n",
       "    <tr>\n",
       "      <td>9</td>\n",
       "      <td>than a few yards away from the carriage windows.</td>\n",
       "    </tr>\n",
       "    <tr>\n",
       "      <td>10</td>\n",
       "      <td>some of the passengers by this particular trai...</td>\n",
       "    </tr>\n",
       "    <tr>\n",
       "      <td>11</td>\n",
       "      <td>returning from abroad but the third class carr...</td>\n",
       "    </tr>\n",
       "    <tr>\n",
       "      <td>12</td>\n",
       "      <td>were the best filled chiefly with insignificant</td>\n",
       "    </tr>\n",
       "    <tr>\n",
       "      <td>13</td>\n",
       "      <td>persons of various occupations and degrees pic...</td>\n",
       "    </tr>\n",
       "    <tr>\n",
       "      <td>14</td>\n",
       "      <td>at the different stations nearer town. all of ...</td>\n",
       "    </tr>\n",
       "    <tr>\n",
       "      <td>15</td>\n",
       "      <td>seemed weary and most of them had sleepy eyes ...</td>\n",
       "    </tr>\n",
       "    <tr>\n",
       "      <td>16</td>\n",
       "      <td>shivering expression while their complexions g...</td>\n",
       "    </tr>\n",
       "    <tr>\n",
       "      <td>17</td>\n",
       "      <td>appeared to have taken on the colour of the fog</td>\n",
       "    </tr>\n",
       "    <tr>\n",
       "      <td>18</td>\n",
       "      <td>outside. when da</td>\n",
       "    </tr>\n",
       "    <tr>\n",
       "      <td>19</td>\n",
       "      <td></td>\n",
       "    </tr>\n",
       "  </tbody>\n",
       "</table>\n",
       "</div>"
      ],
      "text/plain": [
       "                                                 Data\n",
       "0        produced by martin adamson david widger with\n",
       "1       corrections by andrew sly the idiot by fyodor\n",
       "2   dostoyevsky translated by eva martin part i i....\n",
       "3   the end of november during a thaw at nine o cl...\n",
       "4   morning a train on the warsaw and petersburg r...\n",
       "5   was approaching the latter city at full speed....\n",
       "6   morning was so damp and misty that it was only...\n",
       "7   great difficulty that the day succeeded in bre...\n",
       "8   and it was impossible to distinguish anything ...\n",
       "9    than a few yards away from the carriage windows.\n",
       "10  some of the passengers by this particular trai...\n",
       "11  returning from abroad but the third class carr...\n",
       "12    were the best filled chiefly with insignificant\n",
       "13  persons of various occupations and degrees pic...\n",
       "14  at the different stations nearer town. all of ...\n",
       "15  seemed weary and most of them had sleepy eyes ...\n",
       "16  shivering expression while their complexions g...\n",
       "17    appeared to have taken on the colour of the fog\n",
       "18                                   outside. when da\n",
       "19                                                   "
      ]
     },
     "execution_count": 28,
     "metadata": {},
     "output_type": "execute_result"
    }
   ],
   "source": [
    "newData = pd.DataFrame({'Data':spli.split(',')})\n",
    "newData"
   ]
  },
  {
   "cell_type": "code",
   "execution_count": 29,
   "metadata": {},
   "outputs": [],
   "source": [
    "newData.Data[17] = re.sub('appeared' , 'apprd' , newData.Data[17])"
   ]
  },
  {
   "cell_type": "code",
   "execution_count": 30,
   "metadata": {},
   "outputs": [
    {
     "data": {
      "text/plain": [
       "'apprd to have taken on the colour of the fog'"
      ]
     },
     "execution_count": 30,
     "metadata": {},
     "output_type": "execute_result"
    }
   ],
   "source": [
    "newData.Data[17]"
   ]
  },
  {
   "cell_type": "code",
   "execution_count": 31,
   "metadata": {},
   "outputs": [],
   "source": [
    "look_up = {'apprd':'appeared'}\n",
    "newData.Data = newData.Data.apply(lambda x : ' '.join(look_up[x] if x in look_up else x for x in x.split() ))"
   ]
  },
  {
   "cell_type": "code",
   "execution_count": 32,
   "metadata": {},
   "outputs": [
    {
     "data": {
      "text/plain": [
       "'appeared to have taken on the colour of the fog'"
      ]
     },
     "execution_count": 32,
     "metadata": {},
     "output_type": "execute_result"
    }
   ],
   "source": [
    "newData.Data[17]\n"
   ]
  },
  {
   "cell_type": "markdown",
   "metadata": {},
   "source": [
    "## Correcting Spelling\n",
    "# using textBlob"
   ]
  },
  {
   "cell_type": "code",
   "execution_count": 33,
   "metadata": {},
   "outputs": [
    {
     "name": "stdout",
     "output_type": "stream",
     "text": [
      "Requirement already satisfied: textBlob in c:\\users\\prashant\\anaconda3\\lib\\site-packages (0.15.3)\n",
      "Requirement already satisfied: nltk>=3.1 in c:\\users\\prashant\\anaconda3\\lib\\site-packages (from textBlob) (3.5)\n",
      "Requirement already satisfied: joblib in c:\\users\\prashant\\anaconda3\\lib\\site-packages (from nltk>=3.1->textBlob) (0.13.2)\n",
      "Requirement already satisfied: tqdm in c:\\users\\prashant\\anaconda3\\lib\\site-packages (from nltk>=3.1->textBlob) (4.36.1)\n",
      "Requirement already satisfied: regex in c:\\users\\prashant\\anaconda3\\lib\\site-packages (from nltk>=3.1->textBlob) (2020.4.4)\n",
      "Requirement already satisfied: click in c:\\users\\prashant\\anaconda3\\lib\\site-packages (from nltk>=3.1->textBlob) (7.0)\n"
     ]
    }
   ],
   "source": [
    "!pip install textBlob"
   ]
  },
  {
   "cell_type": "code",
   "execution_count": 34,
   "metadata": {},
   "outputs": [
    {
     "data": {
      "text/html": [
       "<div>\n",
       "<style scoped>\n",
       "    .dataframe tbody tr th:only-of-type {\n",
       "        vertical-align: middle;\n",
       "    }\n",
       "\n",
       "    .dataframe tbody tr th {\n",
       "        vertical-align: top;\n",
       "    }\n",
       "\n",
       "    .dataframe thead th {\n",
       "        text-align: right;\n",
       "    }\n",
       "</style>\n",
       "<table border=\"1\" class=\"dataframe\">\n",
       "  <thead>\n",
       "    <tr style=\"text-align: right;\">\n",
       "      <th></th>\n",
       "      <th>Data</th>\n",
       "    </tr>\n",
       "  </thead>\n",
       "  <tbody>\n",
       "    <tr>\n",
       "      <td>0</td>\n",
       "      <td>this is nw data</td>\n",
       "    </tr>\n",
       "    <tr>\n",
       "      <td>1</td>\n",
       "      <td>nd i don't knw wht i am doing wth it</td>\n",
       "    </tr>\n",
       "  </tbody>\n",
       "</table>\n",
       "</div>"
      ],
      "text/plain": [
       "                                    Data\n",
       "0                       this is nw data \n",
       "1   nd i don't knw wht i am doing wth it"
      ]
     },
     "execution_count": 34,
     "metadata": {},
     "output_type": "execute_result"
    }
   ],
   "source": [
    "rawData = 'This is nw data , nd i don\\'t knw wht i am doing wth it' \n",
    "splblob = pd.DataFrame({'Data': rawData.lower().split(',')})\n",
    "splblob"
   ]
  },
  {
   "cell_type": "code",
   "execution_count": 35,
   "metadata": {},
   "outputs": [
    {
     "data": {
      "text/plain": [
       "TextBlob(\"this is an example\")"
      ]
     },
     "execution_count": 35,
     "metadata": {},
     "output_type": "execute_result"
    }
   ],
   "source": [
    "example = 'this is an exmple'\n",
    "from textblob import TextBlob\n",
    "TextBlob(example).correct()"
   ]
  },
  {
   "cell_type": "code",
   "execution_count": 36,
   "metadata": {},
   "outputs": [],
   "source": [
    "splblob.Data = splblob.Data.apply(lambda x : str(TextBlob(str(x)).correct()))"
   ]
  },
  {
   "cell_type": "code",
   "execution_count": 37,
   "metadata": {},
   "outputs": [
    {
     "data": {
      "text/html": [
       "<div>\n",
       "<style scoped>\n",
       "    .dataframe tbody tr th:only-of-type {\n",
       "        vertical-align: middle;\n",
       "    }\n",
       "\n",
       "    .dataframe tbody tr th {\n",
       "        vertical-align: top;\n",
       "    }\n",
       "\n",
       "    .dataframe thead th {\n",
       "        text-align: right;\n",
       "    }\n",
       "</style>\n",
       "<table border=\"1\" class=\"dataframe\">\n",
       "  <thead>\n",
       "    <tr style=\"text-align: right;\">\n",
       "      <th></th>\n",
       "      <th>Data</th>\n",
       "    </tr>\n",
       "  </thead>\n",
       "  <tbody>\n",
       "    <tr>\n",
       "      <td>0</td>\n",
       "      <td>this is no data</td>\n",
       "    </tr>\n",
       "    <tr>\n",
       "      <td>1</td>\n",
       "      <td>nd i don't know who i am doing with it</td>\n",
       "    </tr>\n",
       "  </tbody>\n",
       "</table>\n",
       "</div>"
      ],
      "text/plain": [
       "                                      Data\n",
       "0                         this is no data \n",
       "1   nd i don't know who i am doing with it"
      ]
     },
     "execution_count": 37,
     "metadata": {},
     "output_type": "execute_result"
    }
   ],
   "source": [
    "splblob"
   ]
  },
  {
   "cell_type": "markdown",
   "metadata": {},
   "source": [
    "## Tokenization\n",
    "# Basically split"
   ]
  },
  {
   "cell_type": "code",
   "execution_count": 38,
   "metadata": {},
   "outputs": [
    {
     "data": {
      "text/plain": [
       "['My', 'favorite', 'animal', 'is', 'cat']"
      ]
     },
     "execution_count": 38,
     "metadata": {},
     "output_type": "execute_result"
    }
   ],
   "source": [
    "#Using textblob\n",
    "\n",
    "import nltk\n",
    "#create data\n",
    "mystring = \"My favorite animal is cat\"\n",
    "nltk.word_tokenize(mystring)\n",
    "#from textblob import TextBlob\n",
    "#TextBlob(newData.Data[3]).words\n"
   ]
  },
  {
   "cell_type": "code",
   "execution_count": 39,
   "metadata": {},
   "outputs": [
    {
     "data": {
      "text/plain": [
       "0          produced by martin adamson david widger with\n",
       "1         corrections by andrew sly the idiot by fyodor\n",
       "2     dostoyevsky translated by eva martin part i i....\n",
       "3     the end of november during a thaw at nine o cl...\n",
       "4     morning a train on the warsaw and petersburg r...\n",
       "5     was approaching the latter city at full speed....\n",
       "6     morning was so damp and misty that it was only...\n",
       "7     great difficulty that the day succeeded in bre...\n",
       "8     and it was impossible to distinguish anything ...\n",
       "9      than a few yards away from the carriage windows.\n",
       "10    some of the passengers by this particular trai...\n",
       "11    returning from abroad but the third class carr...\n",
       "12      were the best filled chiefly with insignificant\n",
       "13    persons of various occupations and degrees pic...\n",
       "14    at the different stations nearer town. all of ...\n",
       "15    seemed weary and most of them had sleepy eyes ...\n",
       "16    shivering expression while their complexions g...\n",
       "17      appeared to have taken on the colour of the fog\n",
       "18                                     outside. when da\n",
       "19                                                     \n",
       "Name: Data, dtype: object"
      ]
     },
     "execution_count": 39,
     "metadata": {},
     "output_type": "execute_result"
    }
   ],
   "source": [
    "newData.Data"
   ]
  },
  {
   "cell_type": "code",
   "execution_count": 40,
   "metadata": {},
   "outputs": [],
   "source": [
    "newData.Data = newData.Data.apply(lambda x : nltk.word_tokenize(x))"
   ]
  },
  {
   "cell_type": "code",
   "execution_count": 41,
   "metadata": {},
   "outputs": [
    {
     "data": {
      "text/plain": [
       "0     [produced, by, martin, adamson, david, widger,...\n",
       "1     [corrections, by, andrew, sly, the, idiot, by,...\n",
       "2     [dostoyevsky, translated, by, eva, martin, par...\n",
       "3     [the, end, of, november, during, a, thaw, at, ...\n",
       "4     [morning, a, train, on, the, warsaw, and, pete...\n",
       "5     [was, approaching, the, latter, city, at, full...\n",
       "6     [morning, was, so, damp, and, misty, that, it,...\n",
       "7     [great, difficulty, that, the, day, succeeded,...\n",
       "8     [and, it, was, impossible, to, distinguish, an...\n",
       "9     [than, a, few, yards, away, from, the, carriag...\n",
       "10    [some, of, the, passengers, by, this, particul...\n",
       "11    [returning, from, abroad, but, the, third, cla...\n",
       "12    [were, the, best, filled, chiefly, with, insig...\n",
       "13    [persons, of, various, occupations, and, degre...\n",
       "14    [at, the, different, stations, nearer, town, ....\n",
       "15    [seemed, weary, and, most, of, them, had, slee...\n",
       "16    [shivering, expression, while, their, complexi...\n",
       "17    [appeared, to, have, taken, on, the, colour, o...\n",
       "18                               [outside, ., when, da]\n",
       "19                                                   []\n",
       "Name: Data, dtype: object"
      ]
     },
     "execution_count": 41,
     "metadata": {},
     "output_type": "execute_result"
    }
   ],
   "source": [
    "newData.Data"
   ]
  },
  {
   "cell_type": "markdown",
   "metadata": {},
   "source": [
    "## Stemming\n",
    "leaves -> leave , leafs -> leaf"
   ]
  },
  {
   "cell_type": "code",
   "execution_count": 42,
   "metadata": {},
   "outputs": [
    {
     "data": {
      "text/html": [
       "<div>\n",
       "<style scoped>\n",
       "    .dataframe tbody tr th:only-of-type {\n",
       "        vertical-align: middle;\n",
       "    }\n",
       "\n",
       "    .dataframe tbody tr th {\n",
       "        vertical-align: top;\n",
       "    }\n",
       "\n",
       "    .dataframe thead th {\n",
       "        text-align: right;\n",
       "    }\n",
       "</style>\n",
       "<table border=\"1\" class=\"dataframe\">\n",
       "  <thead>\n",
       "    <tr style=\"text-align: right;\">\n",
       "      <th></th>\n",
       "      <th>Data</th>\n",
       "    </tr>\n",
       "  </thead>\n",
       "  <tbody>\n",
       "    <tr>\n",
       "      <td>0</td>\n",
       "      <td>you look better leaves</td>\n",
       "    </tr>\n",
       "    <tr>\n",
       "      <td>1</td>\n",
       "      <td>what is the matter are you leaf</td>\n",
       "    </tr>\n",
       "    <tr>\n",
       "      <td>2</td>\n",
       "      <td>you look leaf</td>\n",
       "    </tr>\n",
       "  </tbody>\n",
       "</table>\n",
       "</div>"
      ],
      "text/plain": [
       "                                Data\n",
       "0             you look better leaves\n",
       "1   what is the matter are you leaf \n",
       "2                      you look leaf"
      ]
     },
     "execution_count": 42,
     "metadata": {},
     "output_type": "execute_result"
    }
   ],
   "source": [
    "Data= 'you look better leaves, what is the matter are you leaf , you look leaf'\n",
    "newData = pd.DataFrame({'Data': Data.lower().split(',')})\n",
    "newData"
   ]
  },
  {
   "cell_type": "code",
   "execution_count": 43,
   "metadata": {},
   "outputs": [
    {
     "data": {
      "text/plain": [
       "0               you look better leav\n",
       "1    what is the matter are you leaf\n",
       "2                      you look leaf\n",
       "Name: Data, dtype: object"
      ]
     },
     "execution_count": 43,
     "metadata": {},
     "output_type": "execute_result"
    }
   ],
   "source": [
    "stemData = newData.copy()\n",
    "from nltk.stem import PorterStemmer\n",
    "st = PorterStemmer()\n",
    "stemData.Data = stemData.Data.apply(lambda x : ' '.join([st.stem(x) for x in x.split() ]) )\n",
    "stemData.Data\n"
   ]
  },
  {
   "cell_type": "code",
   "execution_count": 44,
   "metadata": {},
   "outputs": [
    {
     "data": {
      "text/plain": [
       "'best'"
      ]
     },
     "execution_count": 44,
     "metadata": {},
     "output_type": "execute_result"
    }
   ],
   "source": [
    "st.stem('Best')"
   ]
  },
  {
   "cell_type": "markdown",
   "metadata": {},
   "source": [
    "## Lemmatization\n",
    "# map cars to car or even car to automible\n",
    "# map better best to good"
   ]
  },
  {
   "cell_type": "markdown",
   "metadata": {},
   "source": [
    "# Lemmatization can get better results.\n",
    "•   The stemmed form of leafs is leaf.\n",
    "•   The stemmed form of leaves is leav.\n",
    "•   The lemmatized form of leafs is leaf.\n",
    "•   The lemmatized form of leaves is leaf.\n"
   ]
  },
  {
   "cell_type": "code",
   "execution_count": 45,
   "metadata": {},
   "outputs": [
    {
     "data": {
      "text/html": [
       "<div>\n",
       "<style scoped>\n",
       "    .dataframe tbody tr th:only-of-type {\n",
       "        vertical-align: middle;\n",
       "    }\n",
       "\n",
       "    .dataframe tbody tr th {\n",
       "        vertical-align: top;\n",
       "    }\n",
       "\n",
       "    .dataframe thead th {\n",
       "        text-align: right;\n",
       "    }\n",
       "</style>\n",
       "<table border=\"1\" class=\"dataframe\">\n",
       "  <thead>\n",
       "    <tr style=\"text-align: right;\">\n",
       "      <th></th>\n",
       "      <th>Data</th>\n",
       "    </tr>\n",
       "  </thead>\n",
       "  <tbody>\n",
       "    <tr>\n",
       "      <td>0</td>\n",
       "      <td>you look better leaves</td>\n",
       "    </tr>\n",
       "    <tr>\n",
       "      <td>1</td>\n",
       "      <td>what is the matter are you leaf</td>\n",
       "    </tr>\n",
       "    <tr>\n",
       "      <td>2</td>\n",
       "      <td>you look leaf</td>\n",
       "    </tr>\n",
       "  </tbody>\n",
       "</table>\n",
       "</div>"
      ],
      "text/plain": [
       "                                Data\n",
       "0             you look better leaves\n",
       "1   what is the matter are you leaf \n",
       "2                      you look leaf"
      ]
     },
     "execution_count": 45,
     "metadata": {},
     "output_type": "execute_result"
    }
   ],
   "source": [
    "data= 'you look better leaves, what is the matter are you leaf , you look leaf'\n",
    "data = pd.DataFrame({'Data':data.split(',')})\n",
    "data"
   ]
  },
  {
   "cell_type": "code",
   "execution_count": 46,
   "metadata": {},
   "outputs": [],
   "source": [
    "from nltk.stem import WordNetLemmatizer"
   ]
  },
  {
   "cell_type": "code",
   "execution_count": 47,
   "metadata": {},
   "outputs": [
    {
     "data": {
      "text/plain": [
       "0                 you look better leaf\n",
       "1     what is the matter are you leaf \n",
       "2                        you look leaf\n",
       "Name: Data, dtype: object"
      ]
     },
     "execution_count": 47,
     "metadata": {},
     "output_type": "execute_result"
    }
   ],
   "source": [
    "lmtzr = WordNetLemmatizer()\n",
    "data.Data = data.Data.apply(lambda x : ' '.join(lmtzr.lemmatize(x) for x in x.split(' ')))\n",
    "data.Data\n"
   ]
  },
  {
   "cell_type": "markdown",
   "metadata": {},
   "source": [
    "## Exploring Data"
   ]
  },
  {
   "cell_type": "code",
   "execution_count": 48,
   "metadata": {},
   "outputs": [
    {
     "name": "stderr",
     "output_type": "stream",
     "text": [
      "[nltk_data] Downloading package webtext to\n",
      "[nltk_data]     C:\\Users\\prashant\\AppData\\Roaming\\nltk_data...\n",
      "[nltk_data]   Package webtext is already up-to-date!\n"
     ]
    }
   ],
   "source": [
    "nltk.download('webtext')\n",
    "from nltk.corpus import webtext\n",
    "sent = webtext.sents('firefox.txt')\n",
    "words = webtext.words('firefox.txt')"
   ]
  },
  {
   "cell_type": "code",
   "execution_count": 49,
   "metadata": {},
   "outputs": [
    {
     "data": {
      "text/plain": [
       "[['Cookie', 'Manager', ':', '\"', 'Don', \"'\", 't', 'allow', 'sites', 'that', 'set', 'removed', 'cookies', 'to', 'set', 'future', 'cookies', '\"', 'should', 'stay', 'checked', 'When', 'in', 'full', 'screen', 'mode', 'Pressing', 'Ctrl', '-', 'N', 'should', 'open', 'a', 'new', 'browser', 'when', 'only', 'download', 'dialog', 'is', 'left', 'open', 'add', 'icons', 'to', 'context', 'menu', 'So', 'called', '\"', 'tab', 'bar', '\"', 'should', 'be', 'made', 'a', 'proper', 'toolbar', 'or', 'given', 'the', 'ability', 'collapse', '/', 'expand', '.'], ['[', 'XUL', ']', 'Implement', 'Cocoa', '-', 'style', 'toolbar', 'customization', '.'], ...]"
      ]
     },
     "execution_count": 49,
     "metadata": {},
     "output_type": "execute_result"
    }
   ],
   "source": [
    "sent"
   ]
  },
  {
   "cell_type": "code",
   "execution_count": 50,
   "metadata": {},
   "outputs": [
    {
     "data": {
      "text/plain": [
       "['Cookie', 'Manager', ':', '\"', 'Don', \"'\", 't', ...]"
      ]
     },
     "execution_count": 50,
     "metadata": {},
     "output_type": "execute_result"
    }
   ],
   "source": [
    "words"
   ]
  },
  {
   "cell_type": "code",
   "execution_count": 51,
   "metadata": {},
   "outputs": [
    {
     "data": {
      "text/plain": [
       "(1142, 102457)"
      ]
     },
     "execution_count": 51,
     "metadata": {},
     "output_type": "execute_result"
    }
   ],
   "source": [
    "len(sent) , len(words)"
   ]
  },
  {
   "cell_type": "markdown",
   "metadata": {},
   "source": [
    "# Compute frequency\n"
   ]
  },
  {
   "cell_type": "code",
   "execution_count": 52,
   "metadata": {},
   "outputs": [],
   "source": [
    "from nltk.probability import FreqDist\n",
    "freq = FreqDist(words)\n",
    "# sorted(freq , reverse = True , key = freq.__getitem__)"
   ]
  },
  {
   "cell_type": "code",
   "execution_count": 53,
   "metadata": {},
   "outputs": [
    {
     "data": {
      "image/png": "[encoded data removed]",
      "text/plain": [
       "<Figure size 432x288 with 1 Axes>"
      ]
     },
     "metadata": {
      "needs_background": "light"
     },
     "output_type": "display_data"
    },
    {
     "data": {
      "text/plain": [
       "<matplotlib.axes._subplots.AxesSubplot at 0x130923c8>"
      ]
     },
     "execution_count": 53,
     "metadata": {},
     "output_type": "execute_result"
    }
   ],
   "source": [
    "import matplotlib.pyplot as plt\n",
    "words = dict([ ( k , v ) for k , v in freq.items() if len(k) > 5 ])\n",
    "fd = nltk.FreqDist(words)\n",
    "fd.plot(10 , cumulative = False)\n"
   ]
  },
  {
   "cell_type": "markdown",
   "metadata": {},
   "source": [
    "# WordCloud"
   ]
  },
  {
   "cell_type": "code",
   "execution_count": 54,
   "metadata": {},
   "outputs": [],
   "source": [
    "# !pip install wordcloud"
   ]
  },
  {
   "cell_type": "code",
   "execution_count": 55,
   "metadata": {
    "scrolled": false
   },
   "outputs": [
    {
     "data": {
      "image/png": "[encoded data removed]",
      "text/plain": [
       "<Figure size 720x1656 with 1 Axes>"
      ]
     },
     "metadata": {
      "needs_background": "light"
     },
     "output_type": "display_data"
    }
   ],
   "source": [
    "from wordcloud import WordCloud\n",
    "wcloud = WordCloud().generate_from_frequencies(fd)\n",
    "plt.figure(figsize = [10,23])\n",
    "plt.imshow(wcloud)\n",
    "plt.axis('off')\n",
    "(-0.5 ,399.5 , 199.5 ,-0.5)\n",
    "plt.show()"
   ]
  },
  {
   "cell_type": "code",
   "execution_count": null,
   "metadata": {},
   "outputs": [],
   "source": []
  }
 ],
 "metadata": {
  "kernelspec": {
   "display_name": "Python 3",
   "language": "python",
   "name": "python3"
  },
  "language_info": {
   "codemirror_mode": {
    "name": "ipython",
    "version": 3
   },
   "file_extension": ".py",
   "mimetype": "text/x-python",
   "name": "python",
   "nbconvert_exporter": "python",
   "pygments_lexer": "ipython3",
   "version": "3.7.4"
  }
 },
 "nbformat": 4,
 "nbformat_minor": 4
}
