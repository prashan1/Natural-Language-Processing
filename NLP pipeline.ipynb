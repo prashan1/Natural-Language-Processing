{
 "cells": [
  {
   "cell_type": "code",
   "execution_count": 1,
   "metadata": {},
   "outputs": [],
   "source": [
    "import nltk , re , os\n",
    "from nltk.corpus import stopwords \n",
    "from nltk.stem import PorterStemmer, WordNetLemmatizer\n",
    "from textblob import TextBlob\n",
    "import pandas as pd\n",
    "import matplotlib.pyplot as plt"
   ]
  },
  {
   "cell_type": "markdown",
   "metadata": {},
   "source": [
    "## Import the data "
   ]
  },
  {
   "cell_type": "code",
   "execution_count": 2,
   "metadata": {},
   "outputs": [],
   "source": [
    "if os.path.isfile('gmreadme.txt') :\n",
    "    with open('gmreadme.txt') as f:\n",
    "        rawData = f.read()"
   ]
  },
  {
   "cell_type": "code",
   "execution_count": 3,
   "metadata": {},
   "outputs": [
    {
     "data": {
      "text/plain": [
       "\"-------------------------------------------------------------------------\\nGMREADME.TXT\\nCopyright (c) 1998-2000 Microsoft Corporation.  All Rights Reserved.\\n------------\\n\\nThe GM.DLS file contains the Roland SoundCanvas Sound Set which is \\nprotected under the following copyright: \\nRoland GS Sound Set/Microsoft (P) 1996 Roland Corporation U.S.  \\nThe Roland SoundCanvas Sound Set is licensed under Microsoft's \\nEnd User License Agreement for use with Microsoft operating \\nsystem products only.  All other uses require a separate written \\nlicense from Roland.\\n\\n-------------------------------------------------------------------------\\n\""
      ]
     },
     "execution_count": 3,
     "metadata": {},
     "output_type": "execute_result"
    }
   ],
   "source": [
    "rawData"
   ]
  },
  {
   "cell_type": "code",
   "execution_count": 72,
   "metadata": {},
   "outputs": [],
   "source": [
    "def processRow(row):\n",
    "    import re\n",
    "    import nltk\n",
    "    from textblob import TextBlob\n",
    "    from nltk.corpus import stopwords\n",
    "    from nltk.stem import PorterStemmer\n",
    "    from textblob import Word\n",
    "    from nltk.util import ngrams\n",
    "    import re\n",
    "    from wordcloud import WordCloud, STOPWORDS\n",
    "    from nltk.tokenize import word_tokenize\n",
    "    tweet = row\n",
    "    \n",
    "    #Lower case\n",
    "    tweet.lower()\n",
    "    \n",
    "    #Removes unicode strings like \"\\u002c\" and \"x96\"\n",
    "    tweet = re.sub(r'(\\\\u[0-9A-Fa-f]+)',\"\", tweet)\n",
    "    tweet = re.sub(r'[^\\x00-\\x7f]',\"\",tweet)\n",
    "    \n",
    "    #Remove additional white spaces\n",
    "    tweet = re.sub('[ +]', ' ', tweet)\n",
    "    tweet = re.sub('[\\n]+', '', tweet)\n",
    "    \n",
    "    #Remove not alphanumeric symbols white spaces\n",
    "    tweet = re.sub(r'[^\\w]', ' ', tweet)\n",
    "    \n",
    "    #Convert any @Username to \"AT_USER\"\n",
    "    tweet = re.sub(r'@([^\\s]+)' ,r'\\1' , tweet)\n",
    "    \n",
    "    #Removes hastag in front of a word \"\"\"\n",
    "    tweet = re.sub(r'#([^\\s]+)', r'\\1 ', tweet)\n",
    "    \n",
    "    #Remove :( or :)\n",
    "    tweet = re.sub(':\\)|;\\)|:-\\)|\\(-:|:-D|=D|:P|xD|X-p|\\^\\^|:-*|\\^\\.\\^|\\^\\-\\^|\\^\\_\\^|\\,-\\)|\\)-:|:\\'\\(|:\\(|:-\\(|:\\S|T\\.T|\\.\\_\\.|:<|:-\\S|:-<|\\*\\-\\*|:O|=O|=\\-O|O\\.o|XO|O\\_O|:-\\@|=/|:/|X\\-\\(|>\\.<|>=\\(|D:', '', tweet)\n",
    "    \n",
    "    #remove multiple exclamation\n",
    "    tweet = re.sub(r\"(\\!)\\1+\", ' ', tweet)\n",
    "    \n",
    "    #remove multiple question marks\n",
    "    tweet = re.sub(r\"(\\?)\\1+\", ' ', tweet)\n",
    "    \n",
    "    #remove multistop\n",
    "    tweet = re.sub(r\"(\\.)\\1+\", ' ', tweet)\n",
    "    \n",
    "    #removing stopwords\n",
    "    stpwrd = stopwords.words('english')\n",
    "    tweet = ' '.join(word for word in tweet.split(' ') if word not in stpwrd )\n",
    "    \n",
    "    #fixing wrong words using textblob\n",
    "    tweet = ' '.join(str(TextBlob(word).correct()) for word in tweet.split(' ') )\n",
    "    \n",
    "    #lemma\n",
    "    from textblob import Word\n",
    "    tweet = \" \".join([Word(word).lemmatize() for word in tweet.split()])\n",
    "    \n",
    "    # Tokenizing\n",
    "    row = nltk.word_tokenize(tweet)\n",
    "    return row\n"
   ]
  },
  {
   "cell_type": "code",
   "execution_count": 77,
   "metadata": {},
   "outputs": [
    {
     "data": {
      "text/plain": [
       "\"-------------------------------------------------------------------------\\nGMREADME.TXT\\nCopyright (c) 1998-2000 Microsoft Corporation.  All Rights Reserved.\\n------------\\n\\nThe GM.DLS file contains the Roland SoundCanvas Sound Set which is \\nprotected under the following copyright: \\nRoland GS Sound Set/Microsoft (P) 1996 Roland Corporation U.S.  \\nThe Roland SoundCanvas Sound Set is licensed under Microsoft's \\nEnd User License Agreement for use with Microsoft operating \\nsystem products only.  All other uses require a separate written \\nlicense from Roland.\\n\\n-------------------------------------------------------------------------\\n\""
      ]
     },
     "execution_count": 77,
     "metadata": {},
     "output_type": "execute_result"
    }
   ],
   "source": [
    "rawData"
   ]
  },
  {
   "cell_type": "code",
   "execution_count": 79,
   "metadata": {},
   "outputs": [
    {
     "name": "stdout",
     "output_type": "stream",
     "text": [
      "['GMREADME', 'TXTCopyright', 'c', '1998', '2000', 'Microsoft', 'Corporation', 'All', 'Rights', 'Reserved', 'The', 'of', 'DLS', 'file', 'contains', 'Poland', 'SoundCanvas', 'Round', 'Met', 'protected', 'following', 'copyright', 'Poland', 'of', 'Round', 'Met', 'Microsoft', 'P', '1996', 'Poland', 'Corporation', 'U', 'S', 'The', 'Poland', 'SoundCanvas', 'Round', 'Met', 'licensed', 'Microsoft', 'And', 'User', 'License', 'Agreement', 'use', 'Microsoft', 'operating', 'system', 'product', 'All', 'us', 'require', 'separate', 'written', 'license', 'Poland']\n"
     ]
    }
   ],
   "source": [
    "#call the function with your data\n",
    "print(processRow(rawData))"
   ]
  },
  {
   "cell_type": "code",
   "execution_count": null,
   "metadata": {},
   "outputs": [],
   "source": []
  }
 ],
 "metadata": {
  "kernelspec": {
   "display_name": "Python 3",
   "language": "python",
   "name": "python3"
  },
  "language_info": {
   "codemirror_mode": {
    "name": "ipython",
    "version": 3
   },
   "file_extension": ".py",
   "mimetype": "text/x-python",
   "name": "python",
   "nbconvert_exporter": "python",
   "pygments_lexer": "ipython3",
   "version": "3.7.4"
  }
 },
 "nbformat": 4,
 "nbformat_minor": 4
}
