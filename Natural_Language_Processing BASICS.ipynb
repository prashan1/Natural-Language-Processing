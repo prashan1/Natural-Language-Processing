{
 "cells": [
  {
   "cell_type": "code",
   "execution_count": 1,
   "metadata": {},
   "outputs": [],
   "source": [
    "import nltk"
   ]
  },
  {
   "cell_type": "code",
   "execution_count": 2,
   "metadata": {},
   "outputs": [],
   "source": [
    "doc= 'For more details please mail us at xyz@abc.com , pqr@mno.com'"
   ]
  },
  {
   "cell_type": "code",
   "execution_count": 3,
   "metadata": {},
   "outputs": [
    {
     "data": {
      "text/plain": [
       "'For more details please mail us at xyz@abc.com , pqr@mno.com'"
      ]
     },
     "execution_count": 3,
     "metadata": {},
     "output_type": "execute_result"
    }
   ],
   "source": [
    "doc"
   ]
  },
  {
   "cell_type": "code",
   "execution_count": 4,
   "metadata": {},
   "outputs": [
    {
     "data": {
      "text/plain": [
       "['xyz@abc', 'pqr@mno']"
      ]
     },
     "execution_count": 4,
     "metadata": {},
     "output_type": "execute_result"
    }
   ],
   "source": [
    "import re\n",
    "re.findall(r'[a-zA-Z]+@[a-zA-Z]+' , doc)"
   ]
  },
  {
   "cell_type": "code",
   "execution_count": 5,
   "metadata": {},
   "outputs": [
    {
     "data": {
      "text/plain": [
       "['xyz@abc.com', 'pqr@mno.com']"
      ]
     },
     "execution_count": 5,
     "metadata": {},
     "output_type": "execute_result"
    }
   ],
   "source": [
    "re.findall(r'[\\w]+@[\\w\\.]+' , doc)"
   ]
  },
  {
   "cell_type": "code",
   "execution_count": 6,
   "metadata": {},
   "outputs": [
    {
     "data": {
      "text/plain": [
       "[\"-------------------------------------------------------------------------\\nGMREADME.TXT\\nCopyright (c) 1998-2000 Microsoft Corporation.  All Rights Reserved.\\n------------\\n\\nThe GM.DLS file contains the Roland SoundCanvas Sound Set which is \\nprotected under the following copyright: \\nRoland GS Sound Set/Microsoft (P) 1996 Roland Corporation U.S.  \\nThe Roland SoundCanvas Sound Set is licensed under Microsoft's \\nEnd User License Agreement for use with Microsoft operating \\nsystem products only.  All other uses require a separate written \\nlicense from Roland.\\n\\n-------------------------------------------------------------------------\\n\"]"
      ]
     },
     "execution_count": 6,
     "metadata": {},
     "output_type": "execute_result"
    }
   ],
   "source": [
    "import os\n",
    "if os.path.isfile('gmreadme.txt') :\n",
    "    with open('gmreadme.txt', 'r' ) as f:\n",
    "        tempApps = f.read()\n",
    "        tempApps = tempApps.split(' , ')\n",
    "        apps = [ x for x  in tempApps if x.strip() ]\n",
    "apps"
   ]
  },
  {
   "cell_type": "code",
   "execution_count": 7,
   "metadata": {},
   "outputs": [
    {
     "data": {
      "text/plain": [
       "\"-------------------------------------------------------------------------\\nGMREADME.TXT\\nCopyright(c)1998-2000MicrosoftCorporation.AllRightsReserved.\\n------------\\n\\nTheGM.DLSfilecontainstheRolandSoundCanvasSoundSetwhichis\\nprotectedunderthefollowingcopyright:\\nRolandGSSoundSet/Microsoft(P)1996RolandCorporationU.S.\\nTheRolandSoundCanvasSoundSetislicensedunderMicrosoft's\\nEndUserLicenseAgreementforusewithMicrosoftoperating\\nsystemproductsonly.Allotherusesrequireaseparatewritten\\nlicensefromRoland.\\n\\n-------------------------------------------------------------------------\\n\""
      ]
     },
     "execution_count": 7,
     "metadata": {},
     "output_type": "execute_result"
    }
   ],
   "source": [
    "spli = ''.join(tempApps[0].split(' '))\n",
    "spli"
   ]
  },
  {
   "cell_type": "code",
   "execution_count": 8,
   "metadata": {},
   "outputs": [
    {
     "data": {
      "text/plain": [
       "'gmreadmetxtcopyrightc19982000microsoftcorporationallrightsreservedthegmdlsfilecontainstherolandsoundcanvassoundsetwhichisprotectedunderthefollowingcopyrightrolandgssoundsetmicrosoftp1996rolandcorporationustherolandsoundcanvassoundsetislicensedundermicrosoftsenduserlicenseagreementforusewithmicrosoftoperatingsystemproductsonlyallotherusesrequireaseparatewrittenlicensefromroland'"
      ]
     },
     "execution_count": 8,
     "metadata": {},
     "output_type": "execute_result"
    }
   ],
   "source": [
    "re.sub('[^A-Za-z0-9]' , '' , spli).lower()"
   ]
  },
  {
   "cell_type": "code",
   "execution_count": 9,
   "metadata": {},
   "outputs": [],
   "source": [
    "spli = '''produced by martin adamson david widger with\n",
    "corrections by andrew sly the idiot by fyodor\n",
    "dostoyevsky translated by eva martin part i i. towards\n",
    "the end of november during a thaw at nine o clock one\n",
    "morning a train on the warsaw and petersburg railway\n",
    "was approaching the latter city at full speed. the\n",
    "morning was so damp and misty that it was only with\n",
    "great difficulty that the day succeeded in breaking\n",
    "and it was impossible to distinguish anything more\n",
    "than a few yards away from the carriage windows.\n",
    "some of the passengers by this particular train were\n",
    "returning from abroad but the third class carriages\n",
    "were the best filled chiefly with insignificant\n",
    "persons of various occupations and degrees picked up\n",
    "at the different stations nearer town. all of them\n",
    "seemed weary and most of them had sleepy eyes and a\n",
    "shivering expression while their complexions generally\n",
    "appeared to have taken on the colour of the fog\n",
    "outside. when da\n",
    "'''"
   ]
  },
  {
   "cell_type": "code",
   "execution_count": 10,
   "metadata": {},
   "outputs": [],
   "source": [
    "spli = re.sub('\\n' , ',' , spli)"
   ]
  },
  {
   "cell_type": "code",
   "execution_count": 11,
   "metadata": {},
   "outputs": [],
   "source": [
    "import pandas as pd\n",
    "li = spli.split(',')\n",
    "data = pd.DataFrame({'Data':li})"
   ]
  },
  {
   "cell_type": "code",
   "execution_count": 12,
   "metadata": {},
   "outputs": [
    {
     "data": {
      "text/html": [
       "<div>\n",
       "<style scoped>\n",
       "    .dataframe tbody tr th:only-of-type {\n",
       "        vertical-align: middle;\n",
       "    }\n",
       "\n",
       "    .dataframe tbody tr th {\n",
       "        vertical-align: top;\n",
       "    }\n",
       "\n",
       "    .dataframe thead th {\n",
       "        text-align: right;\n",
       "    }\n",
       "</style>\n",
       "<table border=\"1\" class=\"dataframe\">\n",
       "  <thead>\n",
       "    <tr style=\"text-align: right;\">\n",
       "      <th></th>\n",
       "      <th>Data</th>\n",
       "    </tr>\n",
       "  </thead>\n",
       "  <tbody>\n",
       "    <tr>\n",
       "      <td>0</td>\n",
       "      <td>produced by martin adamson david widger with</td>\n",
       "    </tr>\n",
       "    <tr>\n",
       "      <td>1</td>\n",
       "      <td>corrections by andrew sly the idiot by fyodor</td>\n",
       "    </tr>\n",
       "    <tr>\n",
       "      <td>2</td>\n",
       "      <td>dostoyevsky translated by eva martin part i i....</td>\n",
       "    </tr>\n",
       "    <tr>\n",
       "      <td>3</td>\n",
       "      <td>the end of november during a thaw at nine o cl...</td>\n",
       "    </tr>\n",
       "    <tr>\n",
       "      <td>4</td>\n",
       "      <td>morning a train on the warsaw and petersburg r...</td>\n",
       "    </tr>\n",
       "    <tr>\n",
       "      <td>5</td>\n",
       "      <td>was approaching the latter city at full speed....</td>\n",
       "    </tr>\n",
       "    <tr>\n",
       "      <td>6</td>\n",
       "      <td>morning was so damp and misty that it was only...</td>\n",
       "    </tr>\n",
       "    <tr>\n",
       "      <td>7</td>\n",
       "      <td>great difficulty that the day succeeded in bre...</td>\n",
       "    </tr>\n",
       "    <tr>\n",
       "      <td>8</td>\n",
       "      <td>and it was impossible to distinguish anything ...</td>\n",
       "    </tr>\n",
       "    <tr>\n",
       "      <td>9</td>\n",
       "      <td>than a few yards away from the carriage windows.</td>\n",
       "    </tr>\n",
       "    <tr>\n",
       "      <td>10</td>\n",
       "      <td>some of the passengers by this particular trai...</td>\n",
       "    </tr>\n",
       "    <tr>\n",
       "      <td>11</td>\n",
       "      <td>returning from abroad but the third class carr...</td>\n",
       "    </tr>\n",
       "    <tr>\n",
       "      <td>12</td>\n",
       "      <td>were the best filled chiefly with insignificant</td>\n",
       "    </tr>\n",
       "    <tr>\n",
       "      <td>13</td>\n",
       "      <td>persons of various occupations and degrees pic...</td>\n",
       "    </tr>\n",
       "    <tr>\n",
       "      <td>14</td>\n",
       "      <td>at the different stations nearer town. all of ...</td>\n",
       "    </tr>\n",
       "    <tr>\n",
       "      <td>15</td>\n",
       "      <td>seemed weary and most of them had sleepy eyes ...</td>\n",
       "    </tr>\n",
       "    <tr>\n",
       "      <td>16</td>\n",
       "      <td>shivering expression while their complexions g...</td>\n",
       "    </tr>\n",
       "    <tr>\n",
       "      <td>17</td>\n",
       "      <td>appeared to have taken on the colour of the fog</td>\n",
       "    </tr>\n",
       "    <tr>\n",
       "      <td>18</td>\n",
       "      <td>outside. when da</td>\n",
       "    </tr>\n",
       "    <tr>\n",
       "      <td>19</td>\n",
       "      <td></td>\n",
       "    </tr>\n",
       "  </tbody>\n",
       "</table>\n",
       "</div>"
      ],
      "text/plain": [
       "                                                 Data\n",
       "0        produced by martin adamson david widger with\n",
       "1       corrections by andrew sly the idiot by fyodor\n",
       "2   dostoyevsky translated by eva martin part i i....\n",
       "3   the end of november during a thaw at nine o cl...\n",
       "4   morning a train on the warsaw and petersburg r...\n",
       "5   was approaching the latter city at full speed....\n",
       "6   morning was so damp and misty that it was only...\n",
       "7   great difficulty that the day succeeded in bre...\n",
       "8   and it was impossible to distinguish anything ...\n",
       "9    than a few yards away from the carriage windows.\n",
       "10  some of the passengers by this particular trai...\n",
       "11  returning from abroad but the third class carr...\n",
       "12    were the best filled chiefly with insignificant\n",
       "13  persons of various occupations and degrees pic...\n",
       "14  at the different stations nearer town. all of ...\n",
       "15  seemed weary and most of them had sleepy eyes ...\n",
       "16  shivering expression while their complexions g...\n",
       "17    appeared to have taken on the colour of the fog\n",
       "18                                   outside. when da\n",
       "19                                                   "
      ]
     },
     "execution_count": 12,
     "metadata": {},
     "output_type": "execute_result"
    }
   ],
   "source": [
    "data"
   ]
  },
  {
   "cell_type": "code",
   "execution_count": 13,
   "metadata": {},
   "outputs": [],
   "source": [
    "data['Data']=data['Data'].apply(lambda x : x.lower() )"
   ]
  },
  {
   "cell_type": "code",
   "execution_count": 14,
   "metadata": {},
   "outputs": [
    {
     "data": {
      "text/html": [
       "<div>\n",
       "<style scoped>\n",
       "    .dataframe tbody tr th:only-of-type {\n",
       "        vertical-align: middle;\n",
       "    }\n",
       "\n",
       "    .dataframe tbody tr th {\n",
       "        vertical-align: top;\n",
       "    }\n",
       "\n",
       "    .dataframe thead th {\n",
       "        text-align: right;\n",
       "    }\n",
       "</style>\n",
       "<table border=\"1\" class=\"dataframe\">\n",
       "  <thead>\n",
       "    <tr style=\"text-align: right;\">\n",
       "      <th></th>\n",
       "      <th>Data</th>\n",
       "    </tr>\n",
       "  </thead>\n",
       "  <tbody>\n",
       "    <tr>\n",
       "      <td>0</td>\n",
       "      <td>produced by martin adamson david widger with</td>\n",
       "    </tr>\n",
       "    <tr>\n",
       "      <td>1</td>\n",
       "      <td>corrections by andrew sly the idiot by fyodor</td>\n",
       "    </tr>\n",
       "    <tr>\n",
       "      <td>2</td>\n",
       "      <td>dostoyevsky translated by eva martin part i i....</td>\n",
       "    </tr>\n",
       "    <tr>\n",
       "      <td>3</td>\n",
       "      <td>the end of november during a thaw at nine o cl...</td>\n",
       "    </tr>\n",
       "    <tr>\n",
       "      <td>4</td>\n",
       "      <td>morning a train on the warsaw and petersburg r...</td>\n",
       "    </tr>\n",
       "    <tr>\n",
       "      <td>5</td>\n",
       "      <td>was approaching the latter city at full speed....</td>\n",
       "    </tr>\n",
       "    <tr>\n",
       "      <td>6</td>\n",
       "      <td>morning was so damp and misty that it was only...</td>\n",
       "    </tr>\n",
       "    <tr>\n",
       "      <td>7</td>\n",
       "      <td>great difficulty that the day succeeded in bre...</td>\n",
       "    </tr>\n",
       "    <tr>\n",
       "      <td>8</td>\n",
       "      <td>and it was impossible to distinguish anything ...</td>\n",
       "    </tr>\n",
       "    <tr>\n",
       "      <td>9</td>\n",
       "      <td>than a few yards away from the carriage windows.</td>\n",
       "    </tr>\n",
       "    <tr>\n",
       "      <td>10</td>\n",
       "      <td>some of the passengers by this particular trai...</td>\n",
       "    </tr>\n",
       "    <tr>\n",
       "      <td>11</td>\n",
       "      <td>returning from abroad but the third class carr...</td>\n",
       "    </tr>\n",
       "    <tr>\n",
       "      <td>12</td>\n",
       "      <td>were the best filled chiefly with insignificant</td>\n",
       "    </tr>\n",
       "    <tr>\n",
       "      <td>13</td>\n",
       "      <td>persons of various occupations and degrees pic...</td>\n",
       "    </tr>\n",
       "    <tr>\n",
       "      <td>14</td>\n",
       "      <td>at the different stations nearer town. all of ...</td>\n",
       "    </tr>\n",
       "    <tr>\n",
       "      <td>15</td>\n",
       "      <td>seemed weary and most of them had sleepy eyes ...</td>\n",
       "    </tr>\n",
       "    <tr>\n",
       "      <td>16</td>\n",
       "      <td>shivering expression while their complexions g...</td>\n",
       "    </tr>\n",
       "    <tr>\n",
       "      <td>17</td>\n",
       "      <td>appeared to have taken on the colour of the fog</td>\n",
       "    </tr>\n",
       "    <tr>\n",
       "      <td>18</td>\n",
       "      <td>outside. when da</td>\n",
       "    </tr>\n",
       "    <tr>\n",
       "      <td>19</td>\n",
       "      <td></td>\n",
       "    </tr>\n",
       "  </tbody>\n",
       "</table>\n",
       "</div>"
      ],
      "text/plain": [
       "                                                 Data\n",
       "0        produced by martin adamson david widger with\n",
       "1       corrections by andrew sly the idiot by fyodor\n",
       "2   dostoyevsky translated by eva martin part i i....\n",
       "3   the end of november during a thaw at nine o cl...\n",
       "4   morning a train on the warsaw and petersburg r...\n",
       "5   was approaching the latter city at full speed....\n",
       "6   morning was so damp and misty that it was only...\n",
       "7   great difficulty that the day succeeded in bre...\n",
       "8   and it was impossible to distinguish anything ...\n",
       "9    than a few yards away from the carriage windows.\n",
       "10  some of the passengers by this particular trai...\n",
       "11  returning from abroad but the third class carr...\n",
       "12    were the best filled chiefly with insignificant\n",
       "13  persons of various occupations and degrees pic...\n",
       "14  at the different stations nearer town. all of ...\n",
       "15  seemed weary and most of them had sleepy eyes ...\n",
       "16  shivering expression while their complexions g...\n",
       "17    appeared to have taken on the colour of the fog\n",
       "18                                   outside. when da\n",
       "19                                                   "
      ]
     },
     "execution_count": 14,
     "metadata": {},
     "output_type": "execute_result"
    }
   ],
   "source": [
    "data"
   ]
  },
  {
   "cell_type": "code",
   "execution_count": 15,
   "metadata": {},
   "outputs": [
    {
     "data": {
      "text/plain": [
       "16"
      ]
     },
     "execution_count": 15,
     "metadata": {},
     "output_type": "execute_result"
    }
   ],
   "source": [
    "len(re.findall('the' , spli))"
   ]
  },
  {
   "cell_type": "markdown",
   "metadata": {},
   "source": [
    "## Web Scraping practices"
   ]
  },
  {
   "cell_type": "code",
   "execution_count": 16,
   "metadata": {},
   "outputs": [
    {
     "name": "stdout",
     "output_type": "stream",
     "text": [
      "b'\\n<!DOCTYPE html>\\n<html lang=\"en\">\\n  <head>\\n  <meta charset=\"utf-8\">\\n  <meta content=\"width=300, initial-scale=1\" name=\"viewport\">\\n  <meta name=\"description\" content=\"Gmail is email that&#39;s intuitive, efficient and useful. 15 GB of storage, less spam and mobile access.\">\\n  <meta name=\"google-site-verification\" content=\"LrdTUW9psUAMbh4Ia074-BPEVmcpBxF6Gwf0MSgQXZs\">\\n  <title>Gmail</title>\\n  <style>\\n  @font-face {\\n  font-family: \\'Open Sans\\';\\n  font-style: normal;\\n  font-weight: 300;\\n  src: local(\\'Open Sans Light\\'), local(\\'OpenSans-Light\\'), url(//fonts.gstatic.com/s/opensans/v15/mem5YaGs126MiZpBA-UN_r8OUuhs.ttf) format(\\'truetype\\');\\n}\\n@font-face {\\n  font-family: \\'Open Sans\\';\\n  font-style: normal;\\n  font-weight: 400;\\n  src: local(\\'Open Sans\\'), local(\\'OpenSans\\'), url(//fonts.gstatic.com/s/opensans/v15/mem8YaGs126MiZpBA-UFVZ0e.ttf) format(\\'truetype\\');\\n}\\n  </style>\\n  <style>\\n  h1, h2 {\\n  -webkit-animation-duration: 0.1s;\\n  -webkit-animation-name: fontfix;\\n  -webkit-animation-iteration-count: 1;\\n  -webkit-animation-timing-function: linear;\\n  -webkit-animation-delay: 0;\\n  }\\n  @-webkit-keyframes fontfix {\\n  from {\\n  opacity: 1;\\n  }\\n  to {\\n  opacity: 1;\\n  }\\n  }\\n  </style>\\n<style>\\n  html, body {\\n  font-family: Arial, sans-serif;\\n  background: #fff;\\n  margin: 0;\\n  padding: 0;\\n  border: 0;\\n  position: absolute;\\n  height: 100%;\\n  min-width: 100%;\\n  font-size: 13px;\\n  color: #404040;\\n  direction: ltr;\\n  -webkit-text-size-adjust: none;\\n  }\\n  button,\\n  input[type=button],\\n  input[type=submit] {\\n  font-family: Arial, sans-serif;\\n  font-size: 13px;\\n  }\\n  a,\\n  a:hover,\\n  a:visited {\\n  color: #427fed;\\n  cursor: pointer;\\n  text-decoration: none;\\n  }\\n  a:hover {\\n  text-decoration: underline;\\n  }\\n  h1 {\\n  font-size: 20px;\\n  color: #262626;\\n  margin: 0 0 15px;\\n  font-weight: normal;\\n  }\\n  h2 {\\n  font-size: 14px;\\n  color: #262626;\\n  margin: 0 0 15px;\\n  font-weight: bold;\\n  }\\n  input[type=email],\\n  input[type=number],\\n  input[type=password],\\n  input[type=tel],\\n  input[type=text],\\n  input[type=url] {\\n  -moz-appearance: none;\\n  -webkit-appearance: none;\\n  appearance: none;\\n  display: inline-block;\\n  height: 36px;\\n  padding: 0 8px;\\n  margin: 0;\\n  background: #fff;\\n  border: 1px solid #d9d9d9;\\n  border-top: 1px solid #c0c0c0;\\n  -moz-box-sizing: border-box;\\n  -webkit-box-sizing: border-box;\\n  box-sizing: border-box;\\n  -moz-border-radius: 1px;\\n  -webkit-border-radius: 1px;\\n  border-radius: 1px;\\n  font-size: 15px;\\n  color: #404040;\\n  }\\n  input[type=email]:hover,\\n  input[type=number]:hover,\\n  input[type=password]:hover,\\n  input[type=tel]:hover,\\n  input[type=text]:hover,\\n  input[type=url]:hover {\\n  border: 1px solid #b9b9b9;\\n  border-top: 1px solid #a0a0a0;\\n  -moz-box-shadow: inset 0 1px 2px rgba(0,0,0,0.1);\\n  -webkit-box-shadow: inset 0 1px 2px rgba(0,0,0,0.1);\\n  box-shadow: inset 0 1px 2px rgba(0,0,0,0.1);\\n  }\\n  input[type=email]:focus,\\n  input[type=number]:focus,\\n  input[type=password]:focus,\\n  input[type=tel]:focus,\\n  input[type=text]:focus,\\n  input[type=url]:focus {\\n  outline: none;\\n  border: 1px solid #4d90fe;\\n  -moz-box-shadow: inset 0 1px 2px rgba(0,0,0,0.3);\\n  -webkit-box-shadow: inset 0 1px 2px rgba(0,0,0,0.3);\\n  box-shadow: inset 0 1px 2px rgba(0,0,0,0.3);\\n  }\\n  input[type=checkbox],\\n  input[type=radio] {\\n  -webkit-appearance: none;\\n  display: inline-block;\\n  width: 13px;\\n  height: 13px;\\n  margin: 0;\\n  cursor: pointer;\\n  vertical-align: bottom;\\n  background: #fff;\\n  border: 1px solid #c6c6c6;\\n  -moz-border-radius: 1px;\\n  -webkit-border-radius: 1px;\\n  border-radius: 1px;\\n  -moz-box-sizing: border-box;\\n  -webkit-box-sizing: border-box;\\n  box-sizing: border-box;\\n  position: relative;\\n  }\\n  input[type=checkbox]:active,\\n  input[type=radio]:active {\\n  background: #ebebeb;\\n  }\\n  input[type=checkbox]:hover {\\n  border-color: #c6c6c6;\\n  -moz-box-shadow: inset 0 1px 2px rgba(0,0,0,0.1);\\n  -webkit-box-shadow: inset 0 1px 2px rgba(0,0,0,0.1);\\n  box-shadow: inset 0 1px 2px rgba(0,0,0,0.1);\\n  }\\n  input[type=radio] {\\n  -moz-border-radius: 1em;\\n  -webkit-border-radius: 1em;\\n  border-radius: 1em;\\n  width: 15px;\\n  height: 15px;\\n  }\\n  input[type=checkbox]:checked,\\n  input[type=radio]:checked {\\n  background: #fff;\\n  }\\n  input[type=radio]:checked::after {\\n  content: \\'\\';\\n  display: block;\\n  position: relative;\\n  top: 3px;\\n  left: 3px;\\n  width: 7px;\\n  height: 7px;\\n  background: #666;\\n  -moz-border-radius: 1em;\\n  -webkit-border-radius: 1em;\\n  border-radius: 1em;\\n  }\\n  input[type=checkbox]:checked::after {\\n  content: url(https://ssl.gstatic.com/ui/v1/menu/checkmark.png);\\n  display: block;\\n  position: absolute;\\n  top: -6px;\\n  left: -5px;\\n  }\\n  input[type=checkbox]:focus {\\n  outline: none;\\n  border-color: #4d90fe;\\n  }\\n  .stacked-label {\\n  display: block;\\n  font-weight: bold;\\n  margin: .5em 0;\\n  }\\n  .hidden-label {\\n  position: absolute !important;\\n  clip: rect(1px 1px 1px 1px); /* IE6, IE7 */\\n  clip: rect(1px, 1px, 1px, 1px);\\n  height: 0px;\\n  width: 0px;\\n  overflow: hidden;\\n  visibility: hidden;\\n  }\\n  input[type=checkbox].form-error,\\n  input[type=email].form-error,\\n  input[type=number].form-error,\\n  input[type=password].form-error,\\n  input[type=text].form-error,\\n  input[type=tel].form-error,\\n  input[type=url].form-error {\\n  border: 1px solid #dd4b39;\\n  }\\n  .error-msg {\\n  margin: .5em 0;\\n  display: block;\\n  color: #dd4b39;\\n  line-height: 17px;\\n  }\\n  .help-link {\\n  background: #dd4b39;\\n  padding: 0 5px;\\n  color: #fff;\\n  font-weight: bold;\\n  display: inline-block;\\n  -moz-border-radius: 1em;\\n  -webkit-border-radius: 1em;\\n  border-radius: 1em;\\n  text-decoration: none;\\n  position: relative;\\n  top: 0px;\\n  }\\n  .help-link:visited {\\n  color: #fff;\\n  }\\n  .help-link:hover {\\n  color: #fff;\\n  background: #c03523;\\n  text-decoration: none;\\n  }\\n  .help-link:active {\\n  opacity: 1;\\n  background: #ae2817;\\n  }\\n  .wrapper {\\n  position: relative;\\n  min-height: 100%;\\n  }\\n  .content {\\n  padding: 0 44px;\\n  }\\n  .main {\\n  padding-bottom: 100px;\\n  }\\n  /* For modern browsers */\\n  .clearfix:before,\\n  .clearfix:after {\\n  content: \"\";\\n  display: table;\\n  }\\n  .clearfix:after {\\n  clear: both;\\n  }\\n  /* For IE 6/7 (trigger hasLayout) */\\n  .clearfix {\\n  zoom:1;\\n  }\\n  .google-header-bar {\\n  height: 71px;\\n  border-bottom: 1px solid #e5e5e5;\\n  overflow: hidden;\\n  }\\n  .header .logo {\\n  background-image: url(https://ssl.gstatic.com/accounts/ui/logo_1x.png);\\n  background-size: 116px 38px;\\n  background-repeat: no-repeat;\\n  margin: 17px 0 0;\\n  float: left;\\n  height: 38px;\\n  width: 116px;\\n  }\\n  .header .logo-w {\\n  background-image: url(https://ssl.gstatic.com/images/branding/googlelogo/1x/googlelogo_color_112x36dp.png);\\n  background-size: 112px 36px;\\n  margin: 21px 0 0;\\n  }\\n  .header .secondary-link {\\n  margin: 28px 0 0;\\n  float: right;\\n  }\\n  .header .secondary-link a {\\n  font-weight: normal;\\n  }\\n  .google-header-bar.centered {\\n  border: 0;\\n  height: 108px;\\n  }\\n  .google-header-bar.centered .header .logo {\\n  float: none;\\n  margin: 40px auto 30px;\\n  display: block;\\n  }\\n  .google-header-bar.centered .header .secondary-link {\\n  display: none\\n  }\\n  .google-footer-bar {\\n  position: absolute;\\n  bottom: 0;\\n  height: 35px;\\n  width: 100%;\\n  border-top: 1px solid #e5e5e5;\\n  overflow: hidden;\\n  }\\n  .footer {\\n  padding-top: 7px;\\n  font-size: .85em;\\n  white-space: nowrap;\\n  line-height: 0;\\n  }\\n  .footer ul {\\n  float: left;\\n  max-width: 80%;\\n  min-height: 16px;\\n  padding: 0;\\n  }\\n  .footer ul li {\\n  color: #737373;\\n  display: inline;\\n  padding: 0;\\n  padding-right: 1.5em;\\n  }\\n  .footer a {\\n  color: #737373;\\n  }\\n  .lang-chooser-wrap {\\n  float: right;\\n  display: inline;\\n  }\\n  .lang-chooser-wrap img {\\n  vertical-align: top;\\n  }\\n  .lang-chooser {\\n  font-size: 13px;\\n  height: 24px;\\n  line-height: 24px;\\n  }\\n  .lang-chooser option {\\n  font-size: 13px;\\n  line-height: 24px;\\n  }\\n  .hidden {\\n  height: 0px;\\n  width: 0px;\\n  overflow: hidden;\\n  visibility: hidden;\\n  display: none !important;\\n  }\\n  .banner {\\n  text-align: center;\\n  }\\n  .card {\\n  background-color: #f7f7f7;\\n  padding: 20px 25px 30px;\\n  margin: 0 auto 25px;\\n  width: 304px;\\n  -moz-border-radius: 2px;\\n  -webkit-border-radius: 2px;\\n  border-radius: 2px;\\n  -moz-box-shadow: 0px 2px 2px rgba(0, 0, 0, 0.3);\\n  -webkit-box-shadow: 0px 2px 2px rgba(0, 0, 0, 0.3);\\n  box-shadow: 0px 2px 2px rgba(0, 0, 0, 0.3);\\n  }\\n  .card > *:first-child {\\n  margin-top: 0;\\n  }\\n  .rc-button,\\n  .rc-button:visited {\\n  display: inline-block;\\n  min-width: 46px;\\n  text-align: center;\\n  color: #444;\\n  font-size: 14px;\\n  font-weight: 700;\\n  height: 36px;\\n  padding: 0 8px;\\n  line-height: 36px;\\n  -moz-border-radius: 3px;\\n  -webkit-border-radius: 3px;\\n  border-radius: 3px;\\n  -o-transition: all 0.218s;\\n  -moz-transition: all 0.218s;\\n  -webkit-transition: all 0.218s;\\n  transition: all 0.218s;\\n  border: 1px solid #dcdcdc;\\n  background-color: #f5f5f5;\\n  background-image: -webkit-linear-gradient(top,#f5f5f5,#f1f1f1);\\n  background-image: -moz-linear-gradient(top,#f5f5f5,#f1f1f1);\\n  background-image: -ms-linear-gradient(top,#f5f5f5,#f1f1f1);\\n  background-image: -o-linear-gradient(top,#f5f5f5,#f1f1f1);\\n  background-image: linear-gradient(top,#f5f5f5,#f1f1f1);\\n  -o-transition: none;\\n  -moz-user-select: none;\\n  -webkit-user-select: none;\\n  user-select: none;\\n  cursor: default;\\n  }\\n  .card .rc-button {\\n  width: 100%;\\n  padding: 0;\\n  }\\n  .rc-button.disabled,\\n  .rc-button[disabled] {\\n  opacity: .5;\\n  filter: alpha(opacity=50);\\n  cursor: default;\\n  pointer-events: none;\\n  }\\n  .rc-button:hover {\\n  border: 1px solid #c6c6c6;\\n  color: #333;\\n  text-decoration: none;\\n  -o-transition: all 0.0s;\\n  -moz-transition: all 0.0s;\\n  -webkit-transition: all 0.0s;\\n  transition: all 0.0s;\\n  background-color: #f8f8f8;\\n  background-image: -webkit-linear-gradient(top,#f8f8f8,#f1f1f1);\\n  background-image: -moz-linear-gradient(top,#f8f8f8,#f1f1f1);\\n  background-image: -ms-linear-gradient(top,#f8f8f8,#f1f1f1);\\n  background-image: -o-linear-gradient(top,#f8f8f8,#f1f1f1);\\n  background-image: linear-gradient(top,#f8f8f8,#f1f1f1);\\n  -moz-box-shadow: 0 1px 1px rgba(0,0,0,0.1);\\n  -webkit-box-shadow: 0 1px 1px rgba(0,0,0,0.1);\\n  box-shadow: 0 1px 1px rgba(0,0,0,0.1);\\n  }\\n  .rc-button:active {\\n  background-color: #f6f6f6;\\n  background-image: -webkit-linear-gradient(top,#f6f6f6,#f1f1f1);\\n  background-image: -moz-linear-gradient(top,#f6f6f6,#f1f1f1);\\n  background-image: -ms-linear-gradient(top,#f6f6f6,#f1f1f1);\\n  background-image: -o-linear-gradient(top,#f6f6f6,#f1f1f1);\\n  background-image: linear-gradient(top,#f6f6f6,#f1f1f1);\\n  -moz-box-shadow: 0 1px 2px rgba(0,0,0,0.1);\\n  -webkit-box-shadow: 0 1px 2px rgba(0,0,0,0.1);\\n  box-shadow: 0 1px 2px rgba(0,0,0,0.1);\\n  }\\n  .rc-button-submit,\\n  .rc-button-submit:visited {\\n  border: 1px solid #3079ed;\\n  color: #fff;\\n  text-shadow: 0 1px rgba(0,0,0,0.1);\\n  background-color: #4d90fe;\\n  background-image: -webkit-linear-gradient(top,#4d90fe,#4787ed);\\n  background-image: -moz-linear-gradient(top,#4d90fe,#4787ed);\\n  background-image: -ms-linear-gradient(top,#4d90fe,#4787ed);\\n  background-image: -o-linear-gradient(top,#4d90fe,#4787ed);\\n  background-image: linear-gradient(top,#4d90fe,#4787ed);\\n  }\\n  .rc-button-submit:hover {\\n  border: 1px solid #2f5bb7;\\n  color: #fff;\\n  text-shadow: 0 1px rgba(0,0,0,0.3);\\n  background-color: #357ae8;\\n  background-image: -webkit-linear-gradient(top,#4d90fe,#357ae8);\\n  background-image: -moz-linear-gradient(top,#4d90fe,#357ae8);\\n  background-image: -ms-linear-gradient(top,#4d90fe,#357ae8);\\n  background-image: -o-linear-gradient(top,#4d90fe,#357ae8);\\n  background-image: linear-gradient(top,#4d90fe,#357ae8);\\n  }\\n  .rc-button-submit:active {\\n  background-color: #357ae8;\\n  background-image: -webkit-linear-gradient(top,#4d90fe,#357ae8);\\n  background-image: -moz-linear-gradient(top,#4d90fe,#357ae8);\\n  background-image: -ms-linear-gradient(top,#4d90fe,#357ae8);\\n  background-image: -o-linear-gradient(top,#4d90fe,#357ae8);\\n  background-image: linear-gradient(top,#4d90fe,#357ae8);\\n  -moz-box-shadow: inset 0 1px 2px rgba(0,0,0,0.3);\\n  -webkit-box-shadow: inset 0 1px 2px rgba(0,0,0,0.3);\\n  box-shadow: inset 0 1px 2px rgba(0,0,0,0.3);\\n  }\\n  .rc-button-red,\\n  .rc-button-red:visited {\\n  border: 1px solid transparent;\\n  color: #fff;\\n  text-shadow: 0 1px rgba(0,0,0,0.1);\\n  background-color: #d14836;\\n  background-image: -webkit-linear-gradient(top,#dd4b39,#d14836);\\n  background-image: -moz-linear-gradient(top,#dd4b39,#d14836);\\n  background-image: -ms-linear-gradient(top,#dd4b39,#d14836);\\n  background-image: -o-linear-gradient(top,#dd4b39,#d14836);\\n  background-image: linear-gradient(top,#dd4b39,#d14836);\\n  }\\n  .rc-button-red:hover {\\n  border: 1px solid #b0281a;\\n  color: #fff;\\n  text-shadow: 0 1px rgba(0,0,0,0.3);\\n  background-color: #c53727;\\n  background-image: -webkit-linear-gradient(top,#dd4b39,#c53727);\\n  background-image: -moz-linear-gradient(top,#dd4b39,#c53727);\\n  background-image: -ms-linear-gradient(top,#dd4b39,#c53727);\\n  background-image: -o-linear-gradient(top,#dd4b39,#c53727);\\n  background-image: linear-gradient(top,#dd4b39,#c53727);\\n  }\\n  .rc-button-red:active {\\n  border: 1px solid #992a1b;\\n  background-color: #b0281a;\\n  background-image: -webkit-linear-gradient(top,#dd4b39,#b0281a);\\n  background-image: -moz-linear-gradient(top,#dd4b39,#b0281a);\\n  background-image: -ms-linear-gradient(top,#dd4b39,#b0281a);\\n  background-image: -o-linear-gradient(top,#dd4b39,#b0281a);\\n  background-image: linear-gradient(top,#dd4b39,#b0281a);\\n  -moz-box-shadow: inset 0 1px 2px rgba(0,0,0,0.3);\\n  -webkit-box-shadow: inset 0 1px 2px rgba(0,0,0,0.3);\\n  box-shadow: inset 0 1px 2px rgba(0,0,0,0.3);\\n  }\\n  .secondary-actions {\\n  text-align: center;\\n  }\\n</style>\\n<style media=\"screen and (max-width: 800px), screen and (max-height: 800px)\">\\n  .google-header-bar.centered {\\n  height: 83px;\\n  }\\n  .google-header-bar.centered .header .logo {\\n  margin: 25px auto 20px;\\n  }\\n  .card {\\n  margin-bottom: 20px;\\n  }\\n</style>\\n<style media=\"screen and (max-width: 580px)\">\\n  html, body {\\n  font-size: 14px;\\n  }\\n  .google-header-bar.centered {\\n  height: 73px;\\n  }\\n  .google-header-bar.centered .header .logo {\\n  margin: 20px auto 15px;\\n  }\\n  .content {\\n  padding-left: 10px;\\n  padding-right: 10px;\\n  }\\n  .hidden-small {\\n  display: none;\\n  }\\n  .card {\\n  padding: 20px 15px 30px;\\n  width: 270px;\\n  }\\n  .footer ul li {\\n  padding-right: 1em;\\n  }\\n  .lang-chooser-wrap {\\n  display: none;\\n  }\\n</style>\\n<style media=\"screen and (-webkit-min-device-pixel-ratio: 1.5), (min--moz-device-pixel-ratio: 1.5), (-o-min-device-pixel-ratio: 3 / 2), (min-device-pixel-ratio: 1.5)\">\\n  .header .logo {\\n  background-image: url(https://ssl.gstatic.com/accounts/ui/logo_2x.png);\\n  }\\n  .header .logo-w {\\n  background-image: url(https://ssl.gstatic.com/images/branding/googlelogo/2x/googlelogo_color_112x36dp.png);\\n  }\\n</style>\\n<style>\\n  pre.debug {\\n  font-family: monospace;\\n  position: absolute;\\n  left: 0;\\n  margin: 0;\\n  padding: 1.5em;\\n  font-size: 13px;\\n  background: #f1f1f1;\\n  border-top: 1px solid #e5e5e5;\\n  direction: ltr;\\n  white-space: pre-wrap;\\n  width: 90%;\\n  overflow: hidden;\\n  }\\n</style>\\n<style>\\n  .banner h1 {\\n  font-family: \\'Open Sans\\', arial;\\n  -webkit-font-smoothing: antialiased;\\n  color: #555;\\n  font-size: 42px;\\n  font-weight: 300;\\n  margin-top: 0;\\n  margin-bottom: 20px;\\n  }\\n  .banner h2 {\\n  font-family: \\'Open Sans\\', arial;\\n  -webkit-font-smoothing: antialiased;\\n  color: #555;\\n  font-size: 18px;\\n  font-weight: 400;\\n  margin-bottom: 20px;\\n  }\\n  .signin-card {\\n  width: 274px;\\n  padding: 40px 40px;\\n  }\\n  .signin-card .profile-img {\\n  width: 96px;\\n  height: 96px;\\n  margin: 0 auto 10px;\\n  display: block;\\n  -moz-border-radius: 50%;\\n  -webkit-border-radius: 50%;\\n  border-radius: 50%;\\n  }\\n  .signin-card .profile-name {\\n  font-size: 16px;\\n  font-weight: bold;\\n  text-align: center;\\n  margin: 10px 0 0;\\n  min-height: 1em;\\n  }\\n  .signin-card .profile-email {\\n  font-size: 16px;\\n  text-align: center;\\n  margin: 10px 0 20px 0;\\n  min-height: 1em;\\n  }\\n  .signin-card input[type=email],\\n  .signin-card input[type=password],\\n  .signin-card input[type=text],\\n  .signin-card input[type=submit] {\\n  width: 100%;\\n  display: block;\\n  margin-bottom: 10px;\\n  z-index: 1;\\n  position: relative;\\n  -moz-box-sizing: border-box;\\n  -webkit-box-sizing: border-box;\\n  box-sizing: border-box;\\n  }\\n  .signin-card #Email,\\n  .signin-card #Passwd,\\n  .signin-card .captcha {\\n  direction: ltr;\\n  height: 44px;\\n  font-size: 16px;\\n  }\\n  .signin-card #Email + .stacked-label {\\n  margin-top: 15px;\\n  }\\n  .signin-card #reauthEmail {\\n  display: block;\\n  margin-bottom: 10px;\\n  line-height: 36px;\\n  padding: 0 8px;\\n  font-size: 15px;\\n  color: #404040;\\n  line-height: 2;\\n  margin-bottom: 10px;\\n  font-size: 14px;\\n  text-align: center;\\n  overflow: hidden;\\n  text-overflow: ellipsis;\\n  white-space: nowrap;\\n  -moz-box-sizing: border-box;\\n  -webkit-box-sizing: border-box;\\n  box-sizing: border-box;\\n  }\\n  .one-google p {\\n  margin: 0 0 10px;\\n  color: #555;\\n  font-size: 14px;\\n  text-align: center;\\n  }\\n  .one-google p.create-account,\\n  .one-google p.switch-account {\\n  margin-bottom: 60px;\\n  }\\n  .one-google .logo-strip {\\n  background-repeat: no-repeat;\\n  display: block;\\n  margin: 10px auto;\\n  background-image: url(https://ssl.gstatic.com/accounts/ui/wlogostrip_230x17_1x.png);\\n  background-size: 230px 17px;\\n  width: 230px;\\n  height: 17px;\\n  }\\n</style>\\n<style media=\"screen and (max-width: 800px), screen and (max-height: 800px)\">\\n  .banner h1 {\\n  font-size: 38px;\\n  margin-bottom: 15px;\\n  }\\n  .banner h2 {\\n  margin-bottom: 15px;\\n  }\\n  .one-google p.create-account,\\n  .one-google p.switch-account {\\n  margin-bottom: 30px;\\n  }\\n  .signin-card #Email {\\n  margin-bottom: 0;\\n  }\\n  .signin-card #Passwd {\\n  margin-top: -1px;\\n  }\\n  .signin-card #Email.form-error,\\n  .signin-card #Passwd.form-error {\\n  z-index: 2;\\n  }\\n  .signin-card #Email:hover,\\n  .signin-card #Email:focus,\\n  .signin-card #Passwd:hover,\\n  .signin-card #Passwd:focus {\\n  z-index: 3;\\n  }\\n</style>\\n<style media=\"screen and (max-width: 580px)\">\\n  .banner h1 {\\n  font-size: 22px;\\n  margin-bottom: 15px;\\n  }\\n  .signin-card {\\n  width: 260px;\\n  padding: 20px 20px;\\n  margin: 0 auto 20px;\\n  }\\n  .signin-card .profile-img {\\n  width: 72px;\\n  height: 72px;\\n  -moz-border-radius: 72px;\\n  -webkit-border-radius: 72px;\\n  border-radius: 72px;\\n  }\\n</style>\\n<style media=\"screen and (-webkit-min-device-pixel-ratio: 1.5), (min--moz-device-pixel-ratio: 1.5), (-o-min-device-pixel-ratio: 3 / 2), (min-device-pixel-ratio: 1.5)\">\\n  .one-google .logo-strip {\\n  background-image: url(https://ssl.gstatic.com/accounts/ui/wlogostrip_230x17_2x.png);\\n  }\\n</style>\\n<style>\\n  .remember .bubble-wrap {\\n  position: absolute;\\n  padding-top: 3px;\\n  -o-transition: opacity .218s ease-in .218s;\\n  -moz-transition: opacity .218s ease-in .218s;\\n  -webkit-transition: opacity .218s ease-in .218s;\\n  transition: opacity .218s ease-in .218s;\\n  left: -999em;\\n  opacity: 0;\\n  width: 314px;\\n  margin-left: -20px;\\n  }\\n  .remember:hover .bubble-wrap,\\n  .remember input:focus ~ .bubble-wrap,\\n  .remember .bubble-wrap:hover,\\n  .remember .bubble-wrap:focus {\\n  opacity: 1;\\n  left: inherit;\\n  }\\n  .bubble-pointer {\\n  border-left: 10px solid transparent;\\n  border-right: 10px solid transparent;\\n  border-bottom: 10px solid #fff;\\n  width: 0;\\n  height: 0;\\n  margin-left: 17px;\\n  }\\n  .bubble {\\n  background-color: #fff;\\n  padding: 15px;\\n  margin-top: -1px;\\n  font-size: 11px;\\n  -moz-border-radius: 2px;\\n  -webkit-border-radius: 2px;\\n  border-radius: 2px;\\n  -moz-box-shadow: 0px 2px 2px rgba(0, 0, 0, 0.3);\\n  -webkit-box-shadow: 0px 2px 2px rgba(0, 0, 0, 0.3);\\n  box-shadow: 0px 2px 2px rgba(0, 0, 0, 0.3);\\n  }\\n  #stay-signed-in {\\n  float: left;\\n  }\\n  #stay-signed-in-tooltip {\\n  left: auto;\\n  margin-left: -20px;\\n  padding-top: 3px;\\n  position: absolute;\\n  top: 0;\\n  visibility: hidden;\\n  width: 314px;\\n  z-index: 1;\\n  }\\n  .dasher-tooltip {\\n  top: 380px;\\n  }\\n</style>\\n<style media=\"screen and (max-width: 800px), screen and (max-height: 800px)\">\\n  .dasher-tooltip {\\n  top: 340px;\\n  }\\n</style>\\n<style>\\n  .jfk-tooltip {\\n  background-color: #fff;\\n  border: 1px solid;\\n  color: #737373;\\n  font-size: 12px;\\n  position: absolute;\\n  z-index: 800 !important;\\n  border-color: #bbb #bbb #a8a8a8;\\n  padding: 16px;\\n  width: 250px;\\n  }\\n .jfk-tooltip h3 {\\n  color: #555;\\n  font-size: 12px;\\n  margin: 0 0 .5em;\\n  }\\n .jfk-tooltip-content p:last-child {\\n  margin-bottom: 0;\\n  }\\n  .jfk-tooltip-arrow {\\n  position: absolute;\\n  }\\n  .jfk-tooltip-arrow .jfk-tooltip-arrowimplbefore,\\n  .jfk-tooltip-arrow .jfk-tooltip-arrowimplafter {\\n  display: block;\\n  height: 0;\\n  position: absolute;\\n  width: 0;\\n  }\\n  .jfk-tooltip-arrow .jfk-tooltip-arrowimplbefore {\\n  border: 9px solid;\\n  }\\n  .jfk-tooltip-arrow .jfk-tooltip-arrowimplafter {\\n  border: 8px solid;\\n  }\\n  .jfk-tooltip-arrowdown {\\n  bottom: 0;\\n  }\\n  .jfk-tooltip-arrowup {\\n  top: -9px;\\n  }\\n  .jfk-tooltip-arrowleft {\\n  left: -9px;\\n  top: 30px;\\n  }\\n  .jfk-tooltip-arrowright {\\n  right: 0;\\n  top: 30px;\\n  }\\n  .jfk-tooltip-arrowdown .jfk-tooltip-arrowimplbefore,.jfk-tooltip-arrowup .jfk-tooltip-arrowimplbefore {\\n  border-color: #bbb transparent;\\n  left: -9px;\\n  }\\n  .jfk-tooltip-arrowdown .jfk-tooltip-arrowimplbefore {\\n  border-color: #a8a8a8 transparent;\\n  }\\n  .jfk-tooltip-arrowdown .jfk-tooltip-arrowimplafter,.jfk-tooltip-arrowup .jfk-tooltip-arrowimplafter {\\n  border-color: #fff transparent;\\n  left: -8px;\\n  }\\n  .jfk-tooltip-arrowdown .jfk-tooltip-arrowimplbefore {\\n  border-bottom-width: 0;\\n  }\\n  .jfk-tooltip-arrowdown .jfk-tooltip-arrowimplafter {\\n  border-bottom-width: 0;\\n  }\\n  .jfk-tooltip-arrowup .jfk-tooltip-arrowimplbefore {\\n  border-top-width: 0;\\n  }\\n  .jfk-tooltip-arrowup .jfk-tooltip-arrowimplafter {\\n  border-top-width: 0;\\n  top: 1px;\\n  }\\n  .jfk-tooltip-arrowleft .jfk-tooltip-arrowimplbefore,\\n  .jfk-tooltip-arrowright .jfk-tooltip-arrowimplbefore {\\n  border-color: transparent #bbb;\\n  top: -9px;\\n  }\\n  .jfk-tooltip-arrowleft .jfk-tooltip-arrowimplafter,\\n  .jfk-tooltip-arrowright .jfk-tooltip-arrowimplafter {\\n  border-color:transparent #fff;\\n  top:-8px;\\n  }\\n  .jfk-tooltip-arrowleft .jfk-tooltip-arrowimplbefore {\\n  border-left-width: 0;\\n  }\\n  .jfk-tooltip-arrowleft .jfk-tooltip-arrowimplafter {\\n  border-left-width: 0;\\n  left: 1px;\\n  }\\n  .jfk-tooltip-arrowright .jfk-tooltip-arrowimplbefore {\\n  border-right-width: 0;\\n  }\\n  .jfk-tooltip-arrowright .jfk-tooltip-arrowimplafter {\\n  border-right-width: 0;\\n  }\\n  .jfk-tooltip-closebtn {\\n  background: url(\"//ssl.gstatic.com/ui/v1/icons/common/x_8px.png\") no-repeat;\\n  border: 1px solid transparent;\\n  height: 21px;\\n  opacity: .4;\\n  outline: 0;\\n  position: absolute;\\n  right: 2px;\\n  top: 2px;\\n  width: 21px;\\n  }\\n  .jfk-tooltip-closebtn:focus,\\n  .jfk-tooltip-closebtn:hover {\\n  opacity: .8;\\n  cursor: pointer;\\n  }\\n  .jfk-tooltip-closebtn:focus {\\n  border-color: #4d90fe;\\n  }\\n</style>\\n<style media=\"screen and (max-width: 580px)\">\\n  .jfk-tooltip {\\n  display: none;\\n  }\\n</style>\\n<style type=\"text/css\">\\n.captcha-box {\\n  background: #fff;\\n  margin: 0 0 10px;\\n  overflow: hidden;\\n  padding: 10px;\\n}\\n.captcha-box .captcha-img {\\n  text-align: center;\\n}\\n.captcha-box .captcha-label {\\n  font-weight: bold;\\n  display: block;\\n  margin: .5em 0;\\n}\\n.captcha-box .captcha-msg {\\n  color: #999;\\n  display: block;\\n  position: relative;\\n}\\n.captcha-box .captcha-msg .accessibility-logo {\\n  float: right;\\n  border: 0;\\n}\\n.captcha-box .audio-box {\\n  position: absolute;\\n  top: 0;\\n}\\n</style>\\n<style>\\n.chromiumsync-custom-content {\\n  padding-top: 20px;\\n  margin-bottom: 0;\\n}\\n.form-panel {\\n  -webkit-box-sizing: border-box;\\n  box-sizing: border-box;\\n  -webkit-transform: translateZ(0);\\n  -moz-transform: translateZ(0);\\n  -ms-transform: translateZ(0);\\n  -o-transform: translateZ(0);\\n  transform: translateZ(0);\\n  width: 100%;\\n}\\n.form-panel.first {\\n  z-index: 2;\\n}\\n.form-panel.second {\\n  z-index: 1;\\n}\\n.shift-form .form-panel.first {\\n  z-index: 1;\\n}\\n.shift-form .form-panel.second {\\n  z-index: 2;\\n}\\n.slide-in,\\n.slide-out {\\n  display: block;\\n  -webkit-transition-property: -webkit-transform, opacity;\\n  -moz-transition-property: -moz-transform, opacity;\\n  -ms-transition-property: -ms-transform, opacity;\\n  -o-transition-property: -o-transform, opacity;\\n  transition-property: transform, opacity;\\n  -webkit-transition-duration: 0.1s;\\n  -moz-transition-duration: 0.1s;\\n  -ms-transition-duration: 0.1s;\\n  -o-transition-duration: 0.1s;\\n  transition-duration: 0.1s;\\n  -webkit-transition-timing-function: cubic-bezier(0.4, 0, 0.2, 1);\\n  -moz-transition-timing-function: cubic-bezier(0.4, 0, 0.2, 1);\\n  -ms-transition-timing-function: cubic-bezier(0.4, 0, 0.2, 1);\\n  -o-transition-timing-function: cubic-bezier(0.4, 0, 0.2, 1);\\n  transition-timing-function: cubic-bezier(0.4, 0, 0.2, 1);\\n}\\n.slide-out {\\n  -webkit-transform: translate3d(0, 0, 0);\\n  -moz-transform: translate3d(0, 0, 0);\\n  -ms-transform: translate3d(0, 0, 0);\\n  -o-transform: translate3d(0, 0, 0);\\n  transform: translate3d(0, 0, 0);\\n}\\n.shift-form .slide-out {\\n  opacity: 0;\\n  -webkit-transform: translate3d(-120%, 0, 0);\\n  -moz-transform: translate3d(-120%, 0, 0);\\n  -ms-transform: translate3d(-120%, 0, 0);\\n  -o-transform: translate3d(-120%, 0, 0);\\n  transform: translate3d(-120%, 0, 0);\\n}\\n.slide-in {\\n  -webkit-transform: translate3d(120%, 0, 0);\\n  -moz-transform: translate3d(120%, 0, 0);\\n  -ms-transform: translate3d(120%, 0, 0);\\n  -o-transform: translate3d(120%, 0, 0);\\n  transform: translate3d(120%, 0, 0);\\n}\\n.shift-form .slide-in {\\n  opacity: 1;\\n  -webkit-transform: translate3d(0, 0, 0);\\n  -moz-transform: translate3d(0, 0, 0);\\n  -ms-transform: translate3d(0, 0, 0);\\n  -o-transform: translate3d(0, 0, 0);\\n  transform: translate3d(0, 0, 0);\\n}\\n.error-msg {\\n  -webkit-transition: max-height 0.3s, opacity 0.3s 0s steps(10, end);\\n  -moz-transition: max-height 0.3s, opacity 0.3s 0s steps(10, end);\\n  -ms-transition: max-height 0.3s, opacity 0.3s 0s steps(10, end);\\n  -o-transition: max-height 0.3s, opacity 0.3s 0s steps(10, end);\\n  transition: max-height 0.3s, opacity 0.3s 0s steps(10, end);\\n  height: auto;\\n  max-height: 0;\\n  opacity: 0;\\n}\\n.has-error .error-msg {\\n  max-height: 3.5em;\\n  margin-top: 10px;\\n  margin-bottom: 10px;\\n  opacity: 1;\\n  visibility: visible;\\n}\\n.back-arrow {\\n  position: absolute;\\n  top: 37px;\\n  width: 24px;\\n  height: 24px;\\n  display: none;\\n  cursor: pointer;\\n}\\n.back-arrow {\\n  border-style: none;\\n}\\n.shift-form.back-arrow {\\n  display: block;\\n}\\n.back-arrow img {\\n  display: block;\\n}\\n#link-signup {\\n  text-align: center;\\n  font-size: 14px;\\n}\\n.shift-form #link-signup{\\n  display: none;\\n}\\n#link-signin-different {\\n  display: none;\\n  text-align: center;\\n  font-size: 14px;\\n}\\n.shift-form #link-signin-different {\\n  display: block;\\n}\\n.signin-card #profile-name {\\n  font-size: 16px;\\n  font-weight: bold;\\n  text-align: center;\\n  margin: 0;\\n  min-height: 1em;\\n}\\n.signin-card.no-name #profile-name {\\n  display: none;\\n}\\n.signin-card.no-name #email-display {\\n  line-height: initial;\\n  margin-bottom: 16px;\\n}\\n.signin-card #email-display {\\n  display: block;\\n  padding: 0px 8px;\\n  color: rgb(64, 64, 64);\\n  line-height: 2;\\n  margin-bottom: 10px;\\n  font-size: 14px;\\n  text-align: center;\\n  overflow: hidden;\\n  text-overflow: ellipsis;\\n  white-space: nowrap;\\n  -moz-box-sizing: border-box;\\n  -webkit-box-sizing: border-box;\\n  box-sizing: border-box;\\n}\\n.signin-card #Email {\\n  margin-top: 16px;\\n}\\n.need-help {\\n  float: right;\\n  text-align: right;\\n}\\n.form-panel {\\n  width: 274px;\\n}\\n#gaia_firstform {\\n  z-index: 2;\\n}\\n.signin-card {\\n  position: relative;\\n  overflow: hidden;\\n}\\n.signin-card #profile-name {\\n  color: #000;\\n}\\n.circle-mask {\\n  display: block;\\n  height: 96px;\\n  width: 96px;\\n  overflow: hidden;\\n  border-radius: 50%;\\n  margin-left: auto;\\n  margin-right: auto;\\n  z-index: 100;\\n  margin-bottom: 10px;\\n}\\n.circle {\\n  -webkit-transition-property: -webkit-transform;\\n  -moz-transition-property: -moz-transform;\\n  -ms-transition-property: -ms-transform;\\n  -o-transition-property: -o-transform;\\n  transition-property: transform;\\n  -webkit-transition-timing-function: cubic-bezier(.645,.045,.355,1);\\n  -moz-transition-timing-function: cubic-bezier(.645,.045,.355,1);\\n  -ms-transition-timing-function: cubic-bezier(.645,.045,.355,1);\\n  -o-transition-timing-function: cubic-bezier(.645,.045,.355,1);\\n  transition-timing-function: cubic-bezier(.645,.045,.355,1);\\n}\\n.circle {\\n  position: absolute;\\n  z-index: 101;\\n  height: 96px;\\n  width: 96px;\\n  border-radius: 50%;\\n  opacity: 0.99;\\n  overflow: hidden;\\n  background-repeat: no-repeat;\\n  background-position: center center;\\n}\\n.main {\\n  overflow: hidden;\\n}\\n.card-mask-wrap {\\n  position: relative;\\n  width: 360px;\\n  margin: 0 auto;\\n  z-index: 1;\\n}\\n.dasher-tooltip {\\n  position: absolute;\\n  left: 50%;\\n  margin-left: 150px;\\n}\\n.dasher-tooltip .tooltip-pointer {\\n  margin-top: 15px;\\n}\\n.dasher-tooltip p {\\n  margin-top: 0;\\n}\\n.dasher-tooltip p span {\\n  display: block;\\n}\\n.card {\\n  margin-bottom: 0;\\n}\\n.one-google {\\n  padding-top: 27px;\\n}\\n#canvas {\\n  -webkit-transition: opacity 0.075s;\\n  -moz-transition: opacity 0.075s;\\n  -ms-transition: opacity 0.075s;\\n  -o-transition: opacity 0.075s;\\n  transition: opacity 0.075s;\\n  opacity: 0.01;\\n}\\n.shift-form #canvas {\\n  opacity: 0.99;\\n}\\n.label {\\n  color: #404040;\\n}\\n#account-chooser-link {\\n  -webkit-transition: opacity 0.3s;\\n  -moz-transition: opacity 0.3s;\\n  -ms-transition: opacity 0.3s;\\n  -o-transition: opacity 0.3s;\\n  transition: opacity 0.3s;\\n}\\n.input-wrapper {\\n  position: relative;\\n}\\n.google-footer-bar {\\n  z-index: 2;\\n}\\n</style>\\n<style media=\"screen and (max-width: 580px)\">\\n.back-arrow {\\n  top: 17px;\\n}\\n.circle-mask {\\n  height: 72px;\\n  width: 72px;\\n  background-size: 72px;\\n}\\n.circle {\\n  height: 72px;\\n  width: 72px;\\n}\\n#canvas {\\n  height: 72px;\\n  width: 72px;\\n}\\n.form-panel {\\n  width: 256px;\\n}\\n.card-mask-wrap {\\n  width: 300px;\\n}\\n.signin-card {\\n  width: 256px;\\n}\\n.signin-card #EmailFirst {\\n  margin-top: 15px;\\n}\\n.one-google {\\n  padding-top: 22px;\\n}\\n</style>\\n  </head>\\n  <body>\\n  <div class=\"wrapper\">\\n  <div  class=\"google-header-bar  centered\">\\n  <div class=\"header content clearfix\">\\n  <div class=\"logo logo-w\" aria-label=\"Google\"></div>\\n  </div>\\n  </div>\\n  <div  class=\"main content clearfix\">\\n<div class=\"banner\">\\n<h1>\\n  One account. All of Google.\\n</h1>\\n  <h2 class=\"hidden-small\">\\n  Sign in to continue to Gmail\\n  </h2>\\n</div>\\n<div class=\"main-content \\n  \\n  \\n    no-name\\n  \\n  \\n  \\n\">\\n<div  class=\"card signin-card\\n  \\n    pre-shift\\n  \\n  \\n  \\n   no-name\">\\n  <img  class=\"circle-mask\"\\n      \\n        \\n          src=\"https://ssl.gstatic.com/accounts/ui/avatar_2x.png\"\\n        \\n      >\\n  <form novalidate method=\"post\" action=\"https://accounts.google.com/signin/v1/lookup\" id=\"gaia_loginform\">\\n  <input name=\"Page\" type=\"hidden\" value=\"PasswordSeparationSignIn\">\\n  <input type=\"hidden\" name=\"\" value=\"\">\\n  <input type=\"hidden\" name=\"gxf\" value=\"AFoagUUXO5SA9XbLMiVQ9JbHd3MfUIdl7g:1588842134819\">\\n  <input type=\"hidden\" name=\"continue\" value=\"https://mail.google.com/mail/?tab=rm&amp;ogbl\">\\n  <input type=\"hidden\" name=\"service\" value=\"mail\">\\n  <input type=\"hidden\" name=\"rm\" value=\"false\">\\n  <input type=\"hidden\" name=\"ltmpl\" value=\"default\">\\n  <input type=\"hidden\" name=\"scc\" value=\"1\">\\n  <input type=\"hidden\" name=\"osid\" value=\"1\">\\n  <input type=\"hidden\" name=\"emr\" value=\"1\">\\n  <input id=\"profile-information\" name=\"ProfileInformation\" type=\"hidden\" value=\"\">\\n  <input id=\"session-state\" name=\"SessionState\" type=\"hidden\" value=\"AEThLlwEyOhoH_i6pz58x_7dNJrfCb3hQAJfjsXju51Mh50aE-uKu-38UpN1BgCoU3r9keuL9df5GJCwCr81hAuRWgzlVZwcoMGVLxF4ioyNOClueySiJFRP7ei67G8FJP8nsKVxUDhfvNPObGLaD1cXr_1fFHtgYwvTCr74o9cqi4h164100m2t6MgBQGj1J2gbYUPDVfMc\">\\n  <input name=\"flowName\" type=\"hidden\" value=\"GlifWebSignIn\">\\n  <input type=\"hidden\" id=\"_utf8\" name=\"_utf8\" value=\"&#9731;\"/>\\n  <input type=\"hidden\" name=\"bgresponse\" id=\"bgresponse\" value=\"js_disabled\">\\n  <div class=\"form-panel first valid\" id=\"gaia_firstform\">\\n  <div  class=\"slide-out \">\\n  <div class=\"input-wrapper focused\">\\n  <div id=\"identifier-shown\">\\n  <div>\\n  <label  class=\"hidden-label\" for=\"Email\">\\n  Enter your email</label>\\n  <input  id=\"Email\" type=\"email\" value=\"\" spellcheck=\"false\"\\n                   name=\"Email\"\\n                   \\n                     placeholder=\"Email or phone\"\\n                   \\n                   \\n                   \\n                   autofocus>\\n  <input id=\"Passwd-hidden\" type=\"password\" spellcheck=\"false\" class=\"hidden\">\\n  </div>\\n  </div>\\n  <span role=\"alert\" class=\"error-msg\" id=\"errormsg_0_Email\"></span>\\n  </div>\\n<input id=\"next\" name=\"signIn\" class=\"rc-button rc-button-submit\" type=\"submit\" value=\"Next\">\\n  <a  class=\"need-help\"\\n          href=\"https://accounts.google.com/signin/usernamerecovery?continue=https%3A%2F%2Fmail.google.com%2Fmail%2F%3Ftab%3Drm%26ogbl&amp;service=mail&amp;scc=1&amp;rm=false&amp;osid=1&amp;ltmpl=default&amp;hl=en-GB\">\\n  Find my account\\n  </a>\\n  </div>\\n  </div>\\n  </form>\\n</div>\\n  <div  class=\"card-mask-wrap\\n    \\n        \\n     no-name\">\\n  <div class=\"card-mask\">\\n  <div class=\"one-google\">\\n  <p class=\"create-account\">\\n  <span id=\"link-signin-different\">\\n  <a href=\"https://accounts.google.com/AccountChooser?continue=https%3A%2F%2Fmail.google.com%2Fmail%2F%3Ftab%3Drm%26ogbl&amp;service=mail&amp;rm=false&amp;ltmpl=default&amp;scc=1&amp;osid=1&amp;emr=1\">\\n  Sign in with a different account\\n  </a>\\n  </span>\\n  <span id=\"link-signup\">\\n  <a  href=\"https://accounts.google.com/SignUp?service=mail&amp;continue=https%3A%2F%2Fmail.google.com%2Fmail%2F%3Ftab%3Drm%26ogbl&amp;ltmpl=default\">\\n  Create account\\n  </a>\\n  </span>\\n  </p>\\n<p class=\"tagline\">\\n  One Google Account for everything Google\\n</p>\\n<div class=\"logo-strip\"></div>\\n  </div>\\n  </div>\\n  </div>\\n</div>\\n  </div>\\n  <div  class=\"google-footer-bar\">\\n  <div class=\"footer content clearfix\">\\n  <ul id=\"footer-list\">\\n  <li>\\n  <a href=\"https://www.google.com/intl/en-GB/about\" target=\"_blank\">\\n  About Google\\n  </a>\\n  </li>\\n  <li>\\n  <a href=\"https://accounts.google.com/TOS?loc=IN&hl=en-GB&privacy=true\" target=\"_blank\">\\n  Privacy\\n  </a>\\n  </li>\\n  <li>\\n  <a href=\"https://accounts.google.com/TOS?loc=IN&hl=en-GB\" target=\"_blank\">\\n  Terms\\n  </a>\\n  </li>\\n  <li>\\n  <a href=\"http://www.google.com/support/accounts?hl=en-GB\" target=\"_blank\">\\n  Help\\n  </a>\\n  </li>\\n  </ul>\\n  <div id=\"lang-vis-control\" style=\"display: none\">\\n  <span id=\"lang-chooser-wrap\" class=\"lang-chooser-wrap\">\\n  <label for=\"lang-chooser\"><img src=\"//ssl.gstatic.com/images/icons/ui/common/universal_language_settings-21.png\" alt=\"Change language\"></label>\\n  <select id=\"lang-chooser\" class=\"lang-chooser\" name=\"lang-chooser\">\\n  <option value=\"af\"\\n                 >\\n  \\xe2\\x80\\xaaAfrikaans\\xe2\\x80\\xac\\n  </option>\\n  <option value=\"az\"\\n                 >\\n  \\xe2\\x80\\xaaaz\\xc9\\x99rbaycan\\xe2\\x80\\xac\\n  </option>\\n  <option value=\"ca\"\\n                 >\\n  \\xe2\\x80\\xaacatal\\xc3\\xa0\\xe2\\x80\\xac\\n  </option>\\n  <option value=\"cs\"\\n                 >\\n  \\xe2\\x80\\xaa\\xc4\\x8ce\\xc5\\xa1tina\\xe2\\x80\\xac\\n  </option>\\n  <option value=\"da\"\\n                 >\\n  \\xe2\\x80\\xaaDansk\\xe2\\x80\\xac\\n  </option>\\n  <option value=\"de\"\\n                 >\\n  \\xe2\\x80\\xaaDeutsch\\xe2\\x80\\xac\\n  </option>\\n  <option value=\"et\"\\n                 >\\n  \\xe2\\x80\\xaaeesti\\xe2\\x80\\xac\\n  </option>\\n  <option value=\"en-GB\"\\n                \\n                  selected=\"selected\"\\n                 >\\n  \\xe2\\x80\\xaaEnglish (United Kingdom)\\xe2\\x80\\xac\\n  </option>\\n  <option value=\"en\"\\n                 >\\n  \\xe2\\x80\\xaaEnglish (United States)\\xe2\\x80\\xac\\n  </option>\\n  <option value=\"es\"\\n                 >\\n  \\xe2\\x80\\xaaEspa\\xc3\\xb1ol (Espa\\xc3\\xb1a)\\xe2\\x80\\xac\\n  </option>\\n  <option value=\"es-419\"\\n                 >\\n  \\xe2\\x80\\xaaEspa\\xc3\\xb1ol (Latinoam\\xc3\\xa9rica)\\xe2\\x80\\xac\\n  </option>\\n  <option value=\"eu\"\\n                 >\\n  \\xe2\\x80\\xaaeuskara\\xe2\\x80\\xac\\n  </option>\\n  <option value=\"fil\"\\n                 >\\n  \\xe2\\x80\\xaaFilipino\\xe2\\x80\\xac\\n  </option>\\n  <option value=\"fr-CA\"\\n                 >\\n  \\xe2\\x80\\xaaFran\\xc3\\xa7ais (Canada)\\xe2\\x80\\xac\\n  </option>\\n  <option value=\"fr\"\\n                 >\\n  \\xe2\\x80\\xaaFran\\xc3\\xa7ais (France)\\xe2\\x80\\xac\\n  </option>\\n  <option value=\"gl\"\\n                 >\\n  \\xe2\\x80\\xaagalego\\xe2\\x80\\xac\\n  </option>\\n  <option value=\"hr\"\\n                 >\\n  \\xe2\\x80\\xaaHrvatski\\xe2\\x80\\xac\\n  </option>\\n  <option value=\"in\"\\n                 >\\n  \\xe2\\x80\\xaaIndonesia\\xe2\\x80\\xac\\n  </option>\\n  <option value=\"zu\"\\n                 >\\n  \\xe2\\x80\\xaaisiZulu\\xe2\\x80\\xac\\n  </option>\\n  <option value=\"is\"\\n                 >\\n  \\xe2\\x80\\xaa\\xc3\\xadslenska\\xe2\\x80\\xac\\n  </option>\\n  <option value=\"it\"\\n                 >\\n  \\xe2\\x80\\xaaItaliano\\xe2\\x80\\xac\\n  </option>\\n  <option value=\"sw\"\\n                 >\\n  \\xe2\\x80\\xaaKiswahili\\xe2\\x80\\xac\\n  </option>\\n  <option value=\"lv\"\\n                 >\\n  \\xe2\\x80\\xaalatvie\\xc5\\xa1u\\xe2\\x80\\xac\\n  </option>\\n  <option value=\"lt\"\\n                 >\\n  \\xe2\\x80\\xaalietuvi\\xc5\\xb3\\xe2\\x80\\xac\\n  </option>\\n  <option value=\"hu\"\\n                 >\\n  \\xe2\\x80\\xaamagyar\\xe2\\x80\\xac\\n  </option>\\n  <option value=\"ms\"\\n                 >\\n  \\xe2\\x80\\xaaMelayu\\xe2\\x80\\xac\\n  </option>\\n  <option value=\"nl\"\\n                 >\\n  \\xe2\\x80\\xaaNederlands\\xe2\\x80\\xac\\n  </option>\\n  <option value=\"no\"\\n                 >\\n  \\xe2\\x80\\xaanorsk\\xe2\\x80\\xac\\n  </option>\\n  <option value=\"pl\"\\n                 >\\n  \\xe2\\x80\\xaapolski\\xe2\\x80\\xac\\n  </option>\\n  <option value=\"pt\"\\n                 >\\n  \\xe2\\x80\\xaaPortugu\\xc3\\xaas (Brasil)\\xe2\\x80\\xac\\n  </option>\\n  <option value=\"pt-PT\"\\n                 >\\n  \\xe2\\x80\\xaaPortugu\\xc3\\xaas (Portugal)\\xe2\\x80\\xac\\n  </option>\\n  <option value=\"ro\"\\n                 >\\n  \\xe2\\x80\\xaarom\\xc3\\xa2n\\xc4\\x83\\xe2\\x80\\xac\\n  </option>\\n  <option value=\"sk\"\\n                 >\\n  \\xe2\\x80\\xaaSloven\\xc4\\x8dina\\xe2\\x80\\xac\\n  </option>\\n  <option value=\"sl\"\\n                 >\\n  \\xe2\\x80\\xaasloven\\xc5\\xa1\\xc4\\x8dina\\xe2\\x80\\xac\\n  </option>\\n  <option value=\"fi\"\\n                 >\\n  \\xe2\\x80\\xaaSuomi\\xe2\\x80\\xac\\n  </option>\\n  <option value=\"sv\"\\n                 >\\n  \\xe2\\x80\\xaaSvenska\\xe2\\x80\\xac\\n  </option>\\n  <option value=\"vi\"\\n                 >\\n  \\xe2\\x80\\xaaTi\\xe1\\xba\\xbfng Vi\\xe1\\xbb\\x87t\\xe2\\x80\\xac\\n  </option>\\n  <option value=\"tr\"\\n                 >\\n  \\xe2\\x80\\xaaT\\xc3\\xbcrk\\xc3\\xa7e\\xe2\\x80\\xac\\n  </option>\\n  <option value=\"el\"\\n                 >\\n  \\xe2\\x80\\xaa\\xce\\x95\\xce\\xbb\\xce\\xbb\\xce\\xb7\\xce\\xbd\\xce\\xb9\\xce\\xba\\xce\\xac\\xe2\\x80\\xac\\n  </option>\\n  <option value=\"bg\"\\n                 >\\n  \\xe2\\x80\\xaa\\xd0\\xb1\\xd1\\x8a\\xd0\\xbb\\xd0\\xb3\\xd0\\xb0\\xd1\\x80\\xd1\\x81\\xd0\\xba\\xd0\\xb8\\xe2\\x80\\xac\\n  </option>\\n  <option value=\"mn\"\\n                 >\\n  \\xe2\\x80\\xaa\\xd0\\xbc\\xd0\\xbe\\xd0\\xbd\\xd0\\xb3\\xd0\\xbe\\xd0\\xbb\\xe2\\x80\\xac\\n  </option>\\n  <option value=\"ru\"\\n                 >\\n  \\xe2\\x80\\xaa\\xd0\\xa0\\xd1\\x83\\xd1\\x81\\xd1\\x81\\xd0\\xba\\xd0\\xb8\\xd0\\xb9\\xe2\\x80\\xac\\n  </option>\\n  <option value=\"sr\"\\n                 >\\n  \\xe2\\x80\\xaa\\xd1\\x81\\xd1\\x80\\xd0\\xbf\\xd1\\x81\\xd0\\xba\\xd0\\xb8\\xe2\\x80\\xac\\n  </option>\\n  <option value=\"uk\"\\n                 >\\n  \\xe2\\x80\\xaa\\xd0\\xa3\\xd0\\xba\\xd1\\x80\\xd0\\xb0\\xd1\\x97\\xd0\\xbd\\xd1\\x81\\xd1\\x8c\\xd0\\xba\\xd0\\xb0\\xe2\\x80\\xac\\n  </option>\\n  <option value=\"ka\"\\n                 >\\n  \\xe2\\x80\\xaa\\xe1\\x83\\xa5\\xe1\\x83\\x90\\xe1\\x83\\xa0\\xe1\\x83\\x97\\xe1\\x83\\xa3\\xe1\\x83\\x9a\\xe1\\x83\\x98\\xe2\\x80\\xac\\n  </option>\\n  <option value=\"hy\"\\n                 >\\n  \\xe2\\x80\\xaa\\xd5\\xb0\\xd5\\xa1\\xd5\\xb5\\xd5\\xa5\\xd6\\x80\\xd5\\xa5\\xd5\\xb6\\xe2\\x80\\xac\\n  </option>\\n  <option value=\"iw\"\\n                 >\\n  \\xe2\\x80\\xab\\xd7\\xa2\\xd7\\x91\\xd7\\xa8\\xd7\\x99\\xd7\\xaa\\xe2\\x80\\xac\\xe2\\x80\\x8e\\n  </option>\\n  <option value=\"ur\"\\n                 >\\n  \\xe2\\x80\\xab\\xd8\\xa7\\xd8\\xb1\\xd8\\xaf\\xd9\\x88\\xe2\\x80\\xac\\xe2\\x80\\x8e\\n  </option>\\n  <option value=\"ar\"\\n                 >\\n  \\xe2\\x80\\xab\\xd8\\xa7\\xd9\\x84\\xd8\\xb9\\xd8\\xb1\\xd8\\xa8\\xd9\\x8a\\xd8\\xa9\\xe2\\x80\\xac\\xe2\\x80\\x8e\\n  </option>\\n  <option value=\"fa\"\\n                 >\\n  \\xe2\\x80\\xab\\xd9\\x81\\xd8\\xa7\\xd8\\xb1\\xd8\\xb3\\xdb\\x8c\\xe2\\x80\\xac\\xe2\\x80\\x8e\\n  </option>\\n  <option value=\"am\"\\n                 >\\n  \\xe2\\x80\\xaa\\xe1\\x8a\\xa0\\xe1\\x88\\x9b\\xe1\\x88\\xad\\xe1\\x8a\\x9b\\xe2\\x80\\xac\\n  </option>\\n  <option value=\"ne\"\\n                 >\\n  \\xe2\\x80\\xaa\\xe0\\xa4\\xa8\\xe0\\xa5\\x87\\xe0\\xa4\\xaa\\xe0\\xa4\\xbe\\xe0\\xa4\\xb2\\xe0\\xa5\\x80\\xe2\\x80\\xac\\n  </option>\\n  <option value=\"mr\"\\n                 >\\n  \\xe2\\x80\\xaa\\xe0\\xa4\\xae\\xe0\\xa4\\xb0\\xe0\\xa4\\xbe\\xe0\\xa4\\xa0\\xe0\\xa5\\x80\\xe2\\x80\\xac\\n  </option>\\n  <option value=\"hi\"\\n                 >\\n  \\xe2\\x80\\xaa\\xe0\\xa4\\xb9\\xe0\\xa4\\xbf\\xe0\\xa4\\xa8\\xe0\\xa5\\x8d\\xe0\\xa4\\xa6\\xe0\\xa5\\x80\\xe2\\x80\\xac\\n  </option>\\n  <option value=\"bn\"\\n                 >\\n  \\xe2\\x80\\xaa\\xe0\\xa6\\xac\\xe0\\xa6\\xbe\\xe0\\xa6\\x82\\xe0\\xa6\\xb2\\xe0\\xa6\\xbe\\xe2\\x80\\xac\\n  </option>\\n  <option value=\"gu\"\\n                 >\\n  \\xe2\\x80\\xaa\\xe0\\xaa\\x97\\xe0\\xab\\x81\\xe0\\xaa\\x9c\\xe0\\xaa\\xb0\\xe0\\xaa\\xbe\\xe0\\xaa\\xa4\\xe0\\xab\\x80\\xe2\\x80\\xac\\n  </option>\\n  <option value=\"ta\"\\n                 >\\n  \\xe2\\x80\\xaa\\xe0\\xae\\xa4\\xe0\\xae\\xae\\xe0\\xae\\xbf\\xe0\\xae\\xb4\\xe0\\xaf\\x8d\\xe2\\x80\\xac\\n  </option>\\n  <option value=\"te\"\\n                 >\\n  \\xe2\\x80\\xaa\\xe0\\xb0\\xa4\\xe0\\xb1\\x86\\xe0\\xb0\\xb2\\xe0\\xb1\\x81\\xe0\\xb0\\x97\\xe0\\xb1\\x81\\xe2\\x80\\xac\\n  </option>\\n  <option value=\"kn\"\\n                 >\\n  \\xe2\\x80\\xaa\\xe0\\xb2\\x95\\xe0\\xb2\\xa8\\xe0\\xb3\\x8d\\xe0\\xb2\\xa8\\xe0\\xb2\\xa1\\xe2\\x80\\xac\\n  </option>\\n  <option value=\"ml\"\\n                 >\\n  \\xe2\\x80\\xaa\\xe0\\xb4\\xae\\xe0\\xb4\\xb2\\xe0\\xb4\\xaf\\xe0\\xb4\\xbe\\xe0\\xb4\\xb3\\xe0\\xb4\\x82\\xe2\\x80\\xac\\n  </option>\\n  <option value=\"si\"\\n                 >\\n  \\xe2\\x80\\xaa\\xe0\\xb7\\x83\\xe0\\xb7\\x92\\xe0\\xb6\\x82\\xe0\\xb7\\x84\\xe0\\xb6\\xbd\\xe2\\x80\\xac\\n  </option>\\n  <option value=\"th\"\\n                 >\\n  \\xe2\\x80\\xaa\\xe0\\xb9\\x84\\xe0\\xb8\\x97\\xe0\\xb8\\xa2\\xe2\\x80\\xac\\n  </option>\\n  <option value=\"lo\"\\n                 >\\n  \\xe2\\x80\\xaa\\xe0\\xba\\xa5\\xe0\\xba\\xb2\\xe0\\xba\\xa7\\xe2\\x80\\xac\\n  </option>\\n  <option value=\"my\"\\n                 >\\n  \\xe2\\x80\\xaa\\xe1\\x80\\x99\\xe1\\x80\\xbc\\xe1\\x80\\x94\\xe1\\x80\\xba\\xe1\\x80\\x99\\xe1\\x80\\xac\\xe2\\x80\\xac\\n  </option>\\n  <option value=\"km\"\\n                 >\\n  \\xe2\\x80\\xaa\\xe1\\x9e\\x81\\xe1\\x9f\\x92\\xe1\\x9e\\x98\\xe1\\x9f\\x82\\xe1\\x9e\\x9a\\xe2\\x80\\xac\\n  </option>\\n  <option value=\"ko\"\\n                 >\\n  \\xe2\\x80\\xaa\\xed\\x95\\x9c\\xea\\xb5\\xad\\xec\\x96\\xb4\\xe2\\x80\\xac\\n  </option>\\n  <option value=\"zh-HK\"\\n                 >\\n  \\xe2\\x80\\xaa\\xe4\\xb8\\xad\\xe6\\x96\\x87\\xef\\xbc\\x88\\xe9\\xa6\\x99\\xe6\\xb8\\xaf\\xef\\xbc\\x89\\xe2\\x80\\xac\\n  </option>\\n  <option value=\"ja\"\\n                 >\\n  \\xe2\\x80\\xaa\\xe6\\x97\\xa5\\xe6\\x9c\\xac\\xe8\\xaa\\x9e\\xe2\\x80\\xac\\n  </option>\\n  <option value=\"zh-CN\"\\n                 >\\n  \\xe2\\x80\\xaa\\xe7\\xae\\x80\\xe4\\xbd\\x93\\xe4\\xb8\\xad\\xe6\\x96\\x87\\xe2\\x80\\xac\\n  </option>\\n  <option value=\"zh-TW\"\\n                 >\\n  \\xe2\\x80\\xaa\\xe7\\xb9\\x81\\xe9\\xab\\x94\\xe4\\xb8\\xad\\xe6\\x96\\x87\\xe2\\x80\\xac\\n  </option>\\n  </select>\\n  </span>\\n  </div>\\n  </div>\\n</div>\\n  </div>\\n  <script nonce=\"10yY7juU/D1ZDSbB8mw1CA\">\\n  (function(){\\n  var splitByFirstChar = function(toBeSplit, splitChar) {\\n  var index = toBeSplit.indexOf(splitChar);\\n  if (index >= 0) {\\n  return [toBeSplit.substring(0, index),\\n  toBeSplit.substring(index + 1)];\\n  }\\n  return [toBeSplit];\\n  }\\n  var langChooser_parseParams = function(paramsSection) {\\n  if (paramsSection) {\\n  var query = {};\\n  var params = paramsSection.split(\\'&\\');\\n  for (var i = 0; i < params.length; i++) {\\n              var param = splitByFirstChar(params[i], \\'=\\');\\n              if (param.length == 2) {\\n                query[param[0]] = param[1];\\n              }\\n            }\\n            return query;\\n          }\\n          return {};\\n        }\\n        var appendHiddenParams = function(query) {\\n          var loginForm = document.getElementById(\\'gaia_loginform\\');\\n          if (loginForm) {\\n            var loginInputs = loginForm.getElementsByTagName(\\'input\\');\\n            for (var i = 0, input; input = loginInputs[i]; i++) {\\n              if (input.type == \\'hidden\\' && input.value && !query[input.name]) {\\n                query[input.name] = input.value;\\n              }\\n            }\\n          }\\n        }\\n        var post = function(path, params) {\\n          var form = document.createElement(\\'form\\');\\n          form.setAttribute(\\'method\\', \\'post\\');\\n          form.setAttribute(\\'action\\', path);\\n\\n          for (var key in params) {\\n            if (params.hasOwnProperty(key)) {\\n              var hiddenField = document.createElement(\\'input\\');\\n              hiddenField.setAttribute(\\'type\\', \\'hidden\\');\\n              hiddenField.setAttribute(\\'name\\', key);\\n              hiddenField.setAttribute(\\'value\\', params[key]);\\n\\n              form.appendChild(hiddenField);\\n            }\\n          }\\n\\n          document.body.appendChild(form);\\n          form.submit();\\n        }\\n        var langChooser_getParamStr = function(params) {\\n          var paramsStr = [];\\n          for (var a in params) {\\n            paramsStr.push(a + \"=\" + params[a]);\\n          }\\n          return paramsStr.join(\\'&\\');\\n        }\\n        var langChooser_currentUrl = window.location.href;\\n        var match = langChooser_currentUrl.match(\"^(.*?)(\\\\\\\\?(.*?))?(#(.*))?$\");\\n        var langChooser_currentPath = match[1];\\n        var langChooser_params = langChooser_parseParams(match[3]);\\n        var langChooser_fragment = match[5];\\n\\n        var langChooser = document.getElementById(\\'lang-chooser\\');\\n        var langChooserWrap = document.getElementById(\\'lang-chooser-wrap\\');\\n        var langVisControl = document.getElementById(\\'lang-vis-control\\');\\n        if (langVisControl && langChooser) {\\n          langVisControl.style.display = \\'inline\\';\\n          langChooser.onchange = function() {\\n            langChooser_params[\\'lp\\'] = 1;\\n            langChooser_params[\\'hl\\'] = encodeURIComponent(this.value);\\n            var hiddenEmailInput = document.getElementById(\\'Email-hidden\\');\\n            if (hiddenEmailInput) {\\n              // If we are in password separation on password page, post to\\n              // /AccountLoginInfo.\\n              appendHiddenParams(langChooser_params);\\n              langChooser_params[\\'Email\\'] = hiddenEmailInput.value;\\n              post(\\'/AccountLoginInfo\\', langChooser_params);\\n            } else {\\n              var paramsStr = langChooser_getParamStr(langChooser_params);\\n              var newHref = langChooser_currentPath + \"?\" + paramsStr;\\n              if (langChooser_fragment) {\\n                newHref = newHref + \"#\" + langChooser_fragment;\\n              }\\n              window.location.href = newHref;\\n            }\\n          };\\n        }\\n      })();\\n    </script>\\n<script type=\"text/javascript\" nonce=\"10yY7juU/D1ZDSbB8mw1CA\">\\n  var gaia_attachEvent = function(element, event, callback) {\\n  if (element && element.addEventListener) {\\n  element.addEventListener(event, callback, false);\\n  } else if (element && element.attachEvent) {\\n  element.attachEvent(\\'on\\' + event, callback);\\n  }\\n  };\\n</script>\\n  <script type=\"text/javascript\" nonce=\"10yY7juU/D1ZDSbB8mw1CA\">/* Anti-spam. Want to say hello? Contact (base64) Ym90Z3VhcmQtY29udGFjdEBnb29nbGUuY29t */Function(\\'var C=function(S,N){return(N=z(S),N&128)&&(N=N&127|z(S)<<7),N},H=function(S,N){N.j.splice(0,0,S)},D=function(S,N,v,b,L){for(L=(b=[],v=0);L<S.length;L++)N=S.charCodeAt(L),128>N?b[v++]=N:(2048>N?b[v++]=N>>6|192:(55296==(N&64512)&&L+1<S.length&&56320==(S.charCodeAt(L+1)&64512)?(N=65536+((N&1023)<<10)+(S.charCodeAt(++L)&1023),b[v++]=N>>18|240,b[v++]=N>>12&63|128):b[v++]=N>>12|224,b[v++]=N>>6&63|128),b[v++]=N&63|128);return b},g={},SZ=function(S,N,v,b,L){for(;N.j.length;){if(S=S&&v)N.G&&N.m?(S=0!=document.hidden?false:true,N.m=false):S=false;if(S){L=N,N.Z4(function(){d(false,v,L,false)});break}b=(S=true,N.j).pop(),b=k(b,N)}return b},V={},p=function(S,N){return N[S]<<24|N[S+1]<<16|N[S+2]<<8|N[S+3]},Z=this||self,Y=function(S,N,v){if(0>=v.G||1<v.f||!v.Y&&S||0!=document.hidden||v.$()-v.a<v.G-N)return false;return!((I((S=(v.m=true,v).S(S?13:23),23),v,v.O),v).j.push([g,S]),0)},eZ=function(S,N,v,b){try{for(b=0;79669387488!=b;)v+=(N<<4^N>>>5)+N^b+S[b&3],b+=2489668359,N+=(v<<4^v>>>5)+v^b+S[b>>>11&3];return[v>>>24,v>>16&255,v>>8&255,v&255,N>>>24,N>>16&255,N>>8&255,N&255]}catch(L){throw L;}},vS=function(S,N){I(((S.R.push(S.M.slice()),S.M)[23]=void 0,23),S,N)},U=function(S,N){for(N=[];S--;)N.push(255*Math.random()|0);return N},as=function(S,N,v,b,L){for((v.X=((v.w=[],v).H=25,v.G=(v.Y=(v.U=(L=0,void 0),false),((v.Ml=function(e,Q,a){return a=(Q=function(){return a()},function(){return e}),Q[this.B]=function(l){e=l},Q},b=[],v).l=function(e,Q,a,l,P,c){return(P=this,c=(l=function(){return l[P.P+(c[P.D]===Q)-!a[P.D]]},function(){return l()}),a=P.N,c[P.B]=function(w){l[P.h]=w},c)[P.B](e),e=c},v).m=false,0),void 0),v).f=0;128>L;L++)b[L]=String.fromCharCode(L);I(219,((I(1,v,(I(136,(I(126,(I(211,v,(I(189,v,(I(68,(I(243,(I(226,(I(121,(I((I(65,v,(I(134,(I(209,(I((I(155,v,(I(45,(I(25,(I((I(125,(I(96,(I(40,v,(I(161,(I(17,(I(148,v,(v.kP=(L=(I(84,(I(246,(I(56,v,(I(254,(I(69,v,(I(90,v,(I(239,((I(83,(I(22,(I((I(13,v,(I(23,v,((v.s=(v.M=[],[]),v).Z=(v.yY=function(e){this.Z=e},v),0)),0)),185),v,function(e,Q){(e=(Q=z(e),e.S(Q)),e)[0].removeEventListener(e[1],e[2],false)}),v),function(e,Q,a){Y(true,5,e)||(a=z(e),Q=z(e),I(Q,e,function(l){return eval(l)}(e.S(a))))}),v),[]),v).R=[],I(130,v,function(e){NH(e,1)}),v),[165,0,0]),0)),[0,0,0])),v),function(e,Q,a,l){I((a=(l=(Q=z((l=z(e),e)),e.S(l)),e.S(Q)),Q),e,a+l)}),function(e,Q,a,l,P,c,w,u,J,O,K,h,y){for(h=(l=(a=(w=(c=z(e),J=0),O=function(f,m){for(;w<f;)J|=z(e)<<w,w+=8;return m=(w-=f,J)&(1<<f)-1,J>>=f,m},O(3))+1,O(5)),Q=[],P=0);h<l;h++)y=O(1),Q.push(y),P+=y?0:1;for(h=(P=(P-(K=[],1)).toString(2).length,0);h<l;h++)Q[h]||(K[h]=O(P));for(h=0;h<l;h++)Q[h]&&(K[h]=z(e));for(h=(u=[],a);h--;)u.push(e.S(z(e)));I(c,e,function(f,m,A,M,B){for(B=(A=(m=[],f.f++,0),[]);A<l;A++){if(!Q[M=K[A],A]){for(;M>=B.length;)B.push(z(f));M=B[M]}m.push(M)}f.U=(f.X=f.l(u.slice(),f.L),f).l(m,f.L)})})),v),function(e){n(e,1)}),I(236,v,function(e){n(e,4)}),v),function(e,Q,a){I((a=(a=z(e),Q=z(e),e).S(a),Q),e,os(a))}),window).performance||{},L.timeOrigin||(L.timing||{}).navigationStart)||0,I(249,v,function(){}),function(e){n(e,2)})),v),function(e,Q,a,l){l=(Q=(Q=z((l=z(e),e)),a=z(e),e.S(Q)),e.S(l)),I(a,e,l[Q])}),v),function(e,Q,a,l,P){(l=(P=(Q=z(e),z(e)),z(e)),e).Z==e&&(l=e.S(l),a=e.S(Q),P=e.S(P),a[P]=l,25==Q&&(e.v=void 0,2==P&&(e.I=void 0,I(23,e,e.S(23)+32))))}),v.j=[],function(e,Q,a,l,P,c,w){Y(true,5,e)||(a=b2(e),l=a.K,w=a.o,c=a.c,P=c.length,0==P?Q=new l[w]:1==P?Q=new l[w](c[0]):2==P?Q=new l[w](c[0],c[1]):3==P?Q=new l[w](c[0],c[1],c[2]):4==P?Q=new l[w](c[0],c[1],c[2],c[3]):F(22,e),I(a.A,e,Q))})),v),v),v),0),70),v,[]),v),[0,0,0]),v),function(e,Q,a,l){a=(l=(Q=z(e),a=z(e),z)(e),e.S(a)),Q=e.S(Q),I(l,e,(Q in a)+0)}),I(14,v,function(e,Q,a,l,P,c,w){if((Q=(P=C((l=z(e),e)),\"\"),e).M[187])for(w=e.S(187),c=0,a=w.length;P--;)c=(c+C(e))%a,Q+=b[w[c]];else for(;P--;)Q+=b[z(e)];I(l,e,Q)}),v.jp=function(e,Q){(Q.push(e[0]<<24|e[1]<<16|e[2]<<8|e[3]),Q).push(e[4]<<24|e[5]<<16|e[6]<<8|e[7]),Q.push(e[8]<<24|e[9]<<16|e[10]<<8|e[11])},function(e){e.T(4)})),171),v,function(e,Q,a,l,P){(l=(P=(Q=z((l=z((a=z(e),P=z(e),e)),e)),e.S(P)),Q=e.S(Q),e.S(l)),I)(a,e,Q$(Q,e,l,P))}),v),function(e,Q){Y(true,5,e)||(Q=b2(e),I(Q.A,e,Q.o.apply(Q.K,Q.c)))}),v),function(e,Q,a,l,P,c){if(!Y(true,255,e)){if((e=(P=(c=(l=(c=(P=(l=(Q=z(e),z(e)),z(e)),z)(e),e.S(l)),e.S(c)),e).S(P),e.S(Q)),\"object\")==os(e)){for(a in Q=[],e)Q.push(a);e=Q}for(a=(Q=0,e).length,P=0<P?P:1;Q<a;Q+=P)l(e.slice(Q,Q+P),c)}}),function(e,Q,a){Q=z(e),a=z(e),I(a,e,\"\"+e.S(Q))})),167),v,function(e,Q,a,l){I((l=z((a=z(e),e)),Q=z(e),Q),e,e.S(a)>>l)}),v),2048),v),function(e,Q,a,l){(a=(Q=(l=(a=z((Q=z(e),e)),z)(e),e.S(Q)),e).S(a),I)(l,e,+(Q==a))}),v),U(4)),v),function(e,Q){vS(e,(Q=e.S(z(e)),Q))}),function(e,Q,a,l,P){for(l=(Q=z(e),C(e)),P=0,a=[];P<l;P++)a.push(z(e));I(Q,e,a)})),function(e,Q,a,l){(l=z((Q=(a=z(e),z(e)),e)),I)(l,e,e.S(a)||e.S(Q))})),I(64,v,function(e,Q,a,l,P){0!==(a=(Q=(a=(Q=z(e),l=z(e),z(e)),P=z(e),P=e.S(P),l=e.S(l),e.S(Q)),e).S(a),Q)&&(a=Q$(1,e,P,a,Q,l),Q.addEventListener(l,a,X),I(90,e,[Q,l,a]))}),v),function(e,Q,a){I((Q=(a=z(e),z)(e),a=e.M[a]&&e.S(a),Q),e,a)}),v),159),L=S.V||function(){},I(109,v,Z),function(e,Q,a,l){if(l=e.R.pop()){for(Q=z(e);0<Q;Q--)a=z(e),l[a]=e.M[a];e.M=(l[83]=e.M[83],l[121]=e.M[121],l)}else I(23,e,e.O)})),I(242,v,function(e){NH(e,4)}),I)(26,v,function(e,Q,a){(a=z(e),Q=z(e),Q=e.S(Q),0)!=e.S(a)&&I(23,e,Q)}),v),{}),N&&\"!\"==N.charAt(0)?(v.F=N,L()):(v.O=0,v.C=[],S=!!S.V,H([t,N],v),H([Ly,L],v),d(true,S,v,false))},z=function(S,N,v,b){if(S.X)return S.L(S.U);if(N=(b=S.S(23),b)>>3,b>=S.O)throw F(31,S),S.i;return(I(23,S,((void 0==S.I&&(S.I=p(N-4,S.C),S.v=void 0),S).v!=N>>3&&(S.v=N>>3,v=S.S(25),S.Sp=eZ([0,0,v[1],v[2]],S.v,S.I)),b+8)),S.C[N])^S.Sp[N%8]},Ly={},Q$=function(S,N,v,b,L,e){return function(){if(N.Z==N){var Q=[R,b,v,void 0,L,e,arguments],a=S&1;if(S&2)var l=d(false,false,N,!(H(Q,N),0));else a&&N.j.length?H(Q,N):a?(H(Q,N),d(false,false,N,true)):l=k(Q,N);return l}}},q={},W,n=function(S,N,v,b){for(v=(b=z(S),0);0<N;N--)v=v<<8|z(S);I(b,S,v)},t={},r=function(S,N){try{as(S,N,this)}catch(v){E(v,this)}},R=(r.prototype.W=(r.prototype.h=36,false),{}),F=function(S,N,v,b,L){if((b=(0==(void 0!=(S=[(L=N.S(13)>>3,S),L>>8&255,L&255],b)&&S.push(b),N).S(83).length&&(N.M[83]=void 0,I(83,N,S)),\"\"),v)&&(v.message&&(b+=v.message),v.stack&&(b+=\":\"+v.stack)),v=N.S(121),3<v){N.Z=(S=(b=D((b=b.slice(0,v-3),v-=b.length+3,b).replace(/\\\\\\\\r\\\\\\\\n/g,\"\\\\\\\\n\")),N.Z),N);try{G(N,243,T(b.length,2).concat(b),12)}finally{N.Z=S}}I(121,N,v)},T=(r.prototype.S=function(S,N){if(void 0===(N=this.M[S],N))throw F(30,this,0,S),this.i;return N()},function(S,N,v,b){for(v=(b=[],N-1);0<=v;v--)b[N-1-v]=S>>8*v&255;return b}),os=(r.prototype.zJ=function(S,N,v){if(3==S.length){for(v=0;3>v;v++)N[v]+=S[v];for(S=[13,8,(v=0,13),12,16,5,3,10,15];9>v;v++)N[3](N,v%3,S[v])}},function(S,N,v){if(\"object\"==(N=typeof S,N))if(S){if(S instanceof Array)return\"array\";if(S instanceof Object)return N;if(\"[object Window]\"==(v=Object.prototype.toString.call(S),v))return\"object\";if(\"[object Array]\"==v||\"number\"==typeof S.length&&\"undefined\"!=typeof S.splice&&\"undefined\"!=typeof S.propertyIsEnumerable&&!S.propertyIsEnumerable(\"splice\"))return\"array\";if(\"[object Function]\"==v||\"undefined\"!=typeof S.call&&\"undefined\"!=typeof S.propertyIsEnumerable&&!S.propertyIsEnumerable(\"call\"))return\"function\"}else return\"null\";else if(\"function\"==N&&\"undefined\"==typeof S.call)return\"object\";return N}),l2=((r.prototype.OR=function(S,N,v,b){try{b=S[(N+2)%3],S[N]=S[N]-S[(N+1)%3]-b^(1==N?b<<v:b>>>v)}catch(L){throw L;}},r).prototype.B=\"toString\",function(S,N,v,b,L,e,Q){S.f++;try{for(v=(b=(Q=0,L=5001,S.O),void 0);(S.W||--L)&&(S.X||(Q=S.S(23))<b);)try{S.X?v=S.L(S.X):(I(13,S,Q),e=z(S),v=S.S(e)),v&&v.call?v(S):F(21,S,0,e),S.Y=true,Y(false,2,S)}catch(a){a!=S.i&&(S.S(136)?F(22,S,a):I(136,S,a))}L||F(33,S)}catch(a){try{F(22,S,a)}catch(l){E(l,S)}}return(b=S.S(219),N)&&I(23,S,N),S.f--,b}),E=(r.prototype.Nl=(r.prototype.X6=function(S,N,v){return S^((N^=N<<13,N^=N>>17,N=(N^N<<5)&v)||(N=1),N)},r.prototype.L=function(S){return(S=S().shift(),this).X().length||this.U().length||(this.U=this.X=void 0,this.f--),S},r.prototype.b=function(S,N,v,b,L,e){if(this.F)return this.F;try{v=[],e=[],b=!!S,H([q,e,N],this),H([V,S,e,v],this),d(true,b,this,false),L=v[0]}catch(Q){E(Q,this),L=this.F,S&&S(L)}return L},function(S,N,v,b){for(;v--;)23!=v&&13!=v&&N.M[v]&&(N.M[v]=N[b](N[S](v),this));N[S]=this}),function(S,N){N.F=(\"E:\"+S.message+\":\"+S.stack).slice(0,2048)}),d=(r.prototype.T=function(S,N,v,b){G((v=z((b=S&4,S&=3,N=z(this),this)),N=this.S(N),b&&(N=D((\"\"+N).replace(/\\\\\\\\r\\\\\\\\n/g,\"\\\\\\\\n\"))),S&&G(this,v,T(N.length,2)),this),v,N)},(r.prototype.D=\"caller\",r.prototype).ql=function(S,N,v,b,L){for(L=b=0;L<S.length;L++)b+=S.charCodeAt(L),b+=b<<10,b^=b>>6;return(b=new Number((S=(b+=b<<3,b^=b>>11,b+(b<<15))>>>0,S)&(1<<N)-1),b)[0]=(S>>>N)%v,b},function(S,N,v,b,L){if(0!=v.j.length){if(L=0==v.f)v.a=v.$();return(S=SZ(S,v,N),L)&&(L=v.$()-v.a,L<(b?10:0)||0>=v.H--||v.w.push(254>=L?L:254)),S}}),x=function(S,N,v){return l2(((v=S.S(23),S.C)&&v<S.O?(I(23,S,S.O),vS(S,N)):I(23,S,N),S),v)},b2=(r.prototype.Z4=Z.requestIdleCallback?function(S){requestIdleCallback(S,{timeout:4})}:Z.setImmediate?function(S){setImmediate(S)}:function(S){setTimeout(S,0)},function(S,N,v,b,L,e){for(L=(N=(((b=z((e={},S)),e).A=z(S),e).c=[],S.Z==S)?z(S)-1:1,v=z(S),0);L<N;L++)e.c.push(z(S));for(e.K=S.S(v),e.o=S.S(b);N--;)e.c[N]=S.S(e.c[N]);return e}),G=(r.prototype.i={},function(S,N,v,b,L,e){if(S.Z==S)for(L=S.S(N),243==N?(N=function(Q,a,l,P){if(L.g!=(a=(l=L.length,l-4)>>3,a)){a=(a<<(L.g=a,3))-(P=[0,0,e[1],e[2]],4);try{L.J=eZ(P,p(a+4,L),p(a,L))}catch(c){throw c;}}L.push(L.J[l&7]^Q)},e=S.S(69)):N=function(Q){L.push(Q)},b&&N(b&255),b=0,S=v.length;b<S;b++)N(v[b])}),k=function(S,N,v,b,L){if((N.Y=(v=S[0],false),v)==q)N.H=25,N.N(S);else if(v==V){L=(v=S[3],S[1]);try{b=N.N(S)}catch(e){E(e,N),b=N.F}(L&&L(b),v).push(b)}else if(v==g)N.N(S);else if(v==t)N.N(S);else if(v==Ly){try{for(b=0;b<N.s.length;b++)try{L=N.s[b],L[0][L[1]](L[2])}catch(e){}}catch(e){}(0,S[N.s=[],1])()}else if(v==R)return b=S[2],I(140,N,S[6]),I(219,N,b),N.N(S)},I=(r.prototype.$=((r.prototype.ro=function(S,N,v,b,L,e){for(e=L=(v=[],0);e<S.length;e++)for(L+=N,b=b<<N|S[e];7<L;)L-=8,v.push(b>>L&255);return v},window.performance)||{}).now?function(){return Math.floor(this.kP+window.performance.now())}:function(){return+new Date},function(S,N,v){if(23==S||13==S)if(N.M[S])N.M[S][N.B](v);else N.M[S]=N.Ml(v);else if(239!=S&&243!=S&&70!=S&&83!=S&&69!=S||!N.M[S])N.M[S]=N.l(v,N.S);25==S&&(N.I=void 0,I(23,N,N.S(23)+32))}),NH=(r.prototype.N=function(S,N,v,b,L,e){if((e=S[0],e)==t){b=S[1];try{for(S=(b=(v=atob(b),[]),N=0);S<v.length;S++)L=v.charCodeAt(S),255<L&&(b[N++]=L&255,L>>=8),b[N++]=L;this.O=(this.C=b,this.C.length<<3)}catch(Q){F(17,this,Q)}l2(this)}else if(e==q)v=S[1],v.push(this.S(239).length,this.S(121),this.S(243).length,this.S(70).length),I(219,this,S[2]),this.M[142]&&x(this,this.S(142));else{if(e==V){L=(S=(v=S[2],T(this.S(239).length+2,2)),this).Z,this.Z=this;try{N=this.S(83),0<N.length&&G(this,239,T(N.length,2).concat(N),15),N=0,N+=this.S(125)&511,N-=this.S(239).length+5,b=this.S(243),4<b.length&&(N-=b.length+3),0<N&&G(this,239,T(N,2).concat(U(N)),10),4<b.length&&G(this,239,T(b.length,2).concat(b),153)}finally{this.Z=L}if(b=((L=U(2).concat(this.S(239)),L[1]=L[0]^3,L)[3]=L[1]^S[0],L[4]=L[1]^S[1],window.btoa)){for(N=\"\",S=0;S<L.length;S+=8192)N+=String.fromCharCode.apply(null,L.slice(S,S+8192));b=b(N).replace(/\\\\\\\\+/g,\"-\").replace(/\\\\\\\\//g,\"_\").replace(/=/g,\"\")}else b=void 0;if(b)b=\"!\"+b;else for(b=\"\",N=0;N<L.length;N++)S=L[N][this.B](16),1==S.length&&(S=\"0\"+S),b+=S;return(I(121,this,((L=b,this.S(239)).length=v.shift(),v.shift())),this.S(243)).length=v.shift(),this.S(70).length=v.shift(),L}if(e==g)x(this,S[1]);else if(e==R)return x(this,S[1])}},function(S,N,v,b){G(S,(b=z((v=z(S),S)),b),T(S.S(v),N))}),X=!(W=Z.botguard||(Z.botguard={}),r.prototype.P=35,1);W.SLX=(W.bg=function(S,N,v){return S&&S.substring&&(v=W[S.substring(0,3)])?new v(S.substring(3),N):new W.SLX(S,N)},function(S,N,v){this.invoke=(v=new r({V:N},S),function(b,L,e){return(e=v.b(L&&b,e),b&&!L)&&b(e),e})});try{W.u||(Z.addEventListener(\"unload\",function(){},X),W.u=1)}catch(S){}try{Z.addEventListener(\"test\",null,Object.defineProperty({},\"passive\",{get:function(){X={passive:true}}}))}catch(S){};\\')();</script>\\n  <script type=\"text/javascript\" nonce=\"10yY7juU/D1ZDSbB8mw1CA\">\\n  document.bg = new botguard.bg(\\'SLXgZVlfDupqizUv2tLixkYc/y3e88QU8XczSriwluWyU8Tl7zmZGJayd7bnK2U+Y+Fy2rrTPet27shcTFrVVdD7ZA+d/KmhHUOt6P15FbJVjWfKAjIVyZN0Tclhf2A7zrscjCip/g2AWJw3/vN0UHwxPbb49tTar5v8oUQYy/3MoqHqDgnPrpOqK2YTwa6PBte1P+kCH3OrxufvHZp8VSgSyGCUcWkqHOjsVFqQqtMZV5HA4oDbnDGbZYOme/kQDQLdMVdS8+5d74WQrav4uz4ih/BInMkYQ7xu3OmW89KlSHt118DAtpNyba26G+j6t1AsRgXxtqc3QgaoOtlFW5Y6lelJGMcHEikgXjcT205SS4sNMCSGrQ5KwcexwIfHIHBulGLg147SIzUBN8qsk4aP7i4uGVpKOo+dopooaLIyYJnBOdlL805IaC1WU2rK+Xc/ylll/QSod3SNM1Hw+Ce9bVelU8RmFb6ADSQMD0zOztv9m7W3vtLgWkXbYqbY9WEM/JCx7L0AJUzAxHueDsHqC9EyYOAyQ0B6foZwTr/WspS2YYVtLyovmcLy8geEUNbTF/ON7n8Vgx+Nu8G1ZZH3RmCH85uA28kEOwl1ve5vhkFwQYDkwEFuzcxIHrv3dkv3QA1+DIE5kHz+f/vTs3SRQ9pDnEkLYWOvqBor2kdmQQvTat9tVt+s7UzUA7z9RHMm8AZjikuIF0IqVLQTVnifYEf6qalTNLn28NQySByGjNui03DJw54KQA4H2jsFfIjYtyotp3nUHhzcRUCtP1NGWSs+3oQmV2OPs1di37d5y+lZeU9QdlKaofX3RUNSeODmhoXTM1xIrCjPkwtGepFyscROKeSPvv7qiFHjbmuFOz9UAT1z5cqdHUXAdVO2TBQfTjcxCEqGwzny0ZwC9cD/mD3xfwjUwz9dOvi0OTiQ7isMDSCA34h56BgHRCA2BW1xEgw9SFoNxA7BgHWXBAOWW0vmfYCj7+N+qm+GiUKfAAxS/5I7C76jLYk49Y3PIF3nqqAuK5grBmKLpuBc2HuO8zWflfIKWXTrRZJR5R7qrRCSxTaL0SZWDso6lDG7zjt5bJSeMC7oL4t+hD+ZSa+Z4tBGreny4NS7Ec5ENqMPbRV7ypZX0o8J6WMfN5wZh1BoFhdz/Lkq5ycAN+vuSE79k8C0oaZp3uzYcBo4LtDos5kt97onDaxHN+yMNKP3FqrJWJSSKM/KDFmcD3jiiYsNaj8BAJXvVbrPJ8JV3rSCh34ptPZL2xa9V2FQGBf/IWp6Q/BTRq8a4B8YSxY5Q2pWT98lzXWax7stYvvZg+PZsc5kaxpbOSxFQwO/+frK7NRyFT5mBQHoTiuWMaMVtcWMOmMWAMGdo5VuRMfaK80T+xVv2YnV4N4gjZmiKroPEB8E+pUDE9tFrJ3H/k+tXwrN8pXE62buozRCzAFu5X/VbIcPxEBp/dYfLZDPFxn2uDW0oIUMy7gmjjrO4p/658oblUFetrldH/qC4kdT1LUMWYZe48oHB1dIYBL2hYGaGdJTa7XCsXz+HwXG8WwlGEVKqDYLnf3A9UhNQsbxrJvCk6KSqdm1QOG/6/A8P4qPDWT0UY88Gzi+L6S+kwy4MkUf/YtWNl1aOwtIQXVJahTzVCq5ck/M4JF8hsZO7Q4a7nj+mr7P5KghEgjb3tPXZ/019J3LSrVMi02AvS+h991O+M9SdBzvVpbr/hoc0TjTKu3VvgD5uSYR5XD8luVGNax//bIyOOUg4fzLBWYWQUpTIj/rU2kOI0ost+DlB3yGLustqaYQKynPiqMBefURj5ofHmVAKJnimjaMV3N3LywckcUAy3mLtTmBGCdacv+uVdflMgNU35VamhU5apdPq2t6T8g2ZrEJnSS6MOLTInxwTNf2UOeClCvw/cKqgvfrcIoRclfEkFyfIoismSYiq1Ly4T/Gm7ppRVXyqe93/N8hOu1+slimd8yksB+V1Nx9beBEFn0zqLqwvDKtlstrdnxqCkwGFiVX6kO9rLJdKMr2cNi7813/b86uu+RDXHy4u4Y+HO80B28XZi7Hqynhc037XOSXif0fyF8MPLlW0xbZByywbP1RB9aJyXwHLZZ0xGYOJTCEuuMfTvM3VmOuvV7YzRqbDMl7qYxDE74KRgMsEschjYc8Fg8WNHpR4z7emzyyPxnWJaX0xizIT1CG4SMDAmSBV5by8rbLMyfhKKTxm0KQAZdPPtFP6jbY1DhNzdY0uNL+INcREtM8Un2x2cWBHI3T0D1deYbFYeq+arVcVTRTMr4+qQ5SIRM2PfrxEWnlnSzu9pzgzLofzxl3jtaxfyZlxHINAXtiNecQcMZHi7ZTm15ZnZky4HVWVm66OlJHaX5/sigLiIhFn/u3dhM1WAsS0ypshvWFUy55rfU4Qp5JTUOMGAiLF6BvFTo710n1gUydFSFr+xZyutC79trwYw1aMvPJS4nc1fRG6nA0iYnAwFRgswPltpvluAbA3eSESHlG8NxU3ma72BTWwPRRCzm/M5KQD//GllArdJtPApI1wO1f+J/g3cmZ8vfQrvQcL0hCewXUZoT9g7DD/eSuVxaWm42ElwV2RO2GsFRfIZqgGgnA3eZy1us6fmu3TV446Vl3P1z1EuvItRdkY1I3+TtKkN4KE3CKcF3/Zn+6NoDsaWFl1nHO2WMrKJ3H0soDh53yEpLDBoaGRSBVUlTT3knxB8w1HRzOstSIT20kJC6BGWkBdI3FaZfR4lNMYPnnaDjZOKJGEZnm/ZqYE/4wFv/pDXTn3mOS7YEC/Y/4+fZr3oFbh05O+Gxka8JPeFhAaYZGmSSg//zdatA7ppoje5qkuuA+Hg45Bd+Rc/g0/Csv8rPrbt1yHKcf3JYTVwFiSY3R1zthphIw1kJ0Eje4bqcphvvLl/hJH+Z6ecCBmCrOUbhqv8dgeCGmFztc4tL0U9W5ATEtR1al/+TYG81Yeg2F7lBTYLFFuSV1ms9t5oOcvYaU5fmW6wALvM3mJcjS0Z/6yAjNuaUiYlar7gpwrBFseKmk9klTEVeTsPZ98O8u61/kzgeOe9XUc8QWg0hu84D0eZVq2BryV2ysLKCv0JVNS2DzQXeXoxLzE1GbS1tYVHCt+lQ6mOC9ZnwqI9dKMDnbaLtNpnkQ8qafZoL4NrneLR9LlMpuWzIi4oGKUhLsHnk63oA28bDXEpSVhUj9XR603p812/gh/dpX/4bRNlFEfR7b1YWSpqZgjqnJFJozFTtI92RpxH4MQsCXMPs6Gn9P6MS5sqQEWA+q1/s3kvCIUE8WiGO2ocJl3W2tTUSA6r+csVwL2oSNvSk4tQ52uE5tgBu5nbuguM74OACCTIqNMgg722CSz2qgEG4oiUCqWdsTGd76AGnOnS5gSFEMFbtmGU++W+N78/gevgKNMtTfJNzAG3iMOJDfW99lk4czh8jvWlWv6kq5t6U88Ubm65V4SfXy/vqJZSgcRGibqubMJrvVU/4PX3ebsDcUyRYP1a3U799qGpSVFofEpQPva7/duxDAtmXhDU5IHd+TKXukO8bjnb6TOkAY1U6MfU2GvuYbR92WqJ/39QfT7FikSo01QecM+05qiH2CHmVM3WYvk97+g1+aLBxzOih53rLRm9l039qC6wmPFiYLffACw0TkKcrEwlgy8pXeHAuk7P4Jkbl/ug/f/mt0qlCO+eH4OKiMolAYbZ6xpmwE9ngXPFLNdsX87jdnHdit4Jx7s+TvR5zxhkCDrzsHu8RbhOyYa5l2ropD/XiAWAfrP1c5lKk6zVCdGBwBpNx8DL7+BpAnBHJZXoGOPpxFyHJc2+6KDNTEZl7C8syBFK/jQAcsuKVVweHMZ5PKX2KiHqwU46w56oFySs2pwxRn/GPGEEITEXk6M2WhM760+P8j+dknTHmYzdD4ZA4GDUmWg3PNGKrNRR5f+gMpfedlMLw5IWr6IRlzBST1I8OfbvbVnKyhcs6hZjhZ5UpCbBmuvpz+rg8UgM+fv3t02qV8BuUteD77ATOVN3Rw9hU016fYsypDdVISUJ9nP+n1TGyKMPb9LxM1qnlcyDt8D3Wege8j4CwWDZYl3MTzQsxK8z2cY/EA6JIIYiEzpq8UVeSA8S6VEljmjrR44d4cLNdcxIfmFOPxQJyXPwAzsQNozm0vknlycDPm+YnTvi3iVJYvPsOYo+q9CoFCdHYnLE3gMzCx76++v/KBDJje7+rswpTnvADAAGW9Razk8DOPJi5S249G8KBrVTtFgqVtg4VipOlQfULgdR+gQZTmaLSqfEIC27RhtQNNUnsRFAPeT/ti6xjKHEI0sJPDyGFiQwkUfm0CwtUCm9fqQWVUN6M/K8+gY1oxuKFMP3645br9cjy1B/+HobFZLurBrZm/d+rcJ/dCDQ2JS3qQVrIBDkoFhBh8NE1k/bX7f0gLUyJRJOwc7rhNu6nzaZznVr4B0we97r8sbITtcA7FGvc7Iphxr0ucE62xtx8kLgR8Vv2GNyP1lLJ+NzIF63oUMQDas2H16cCqUlxIBHrV9mKpR6o+VF8+FN6bMxHGWyiddF/gmxI4zxmJRf0/lEkeJDmmnGK58LGn+CeFOinSoExII9Uk4tl5BhG0kycZNAYxkd0uOlGPkFAJx5dzXLd0HUMGNgMRHjCyXVYrpcAKO1drClryZCire5DIWt7oF3NTJKJLVNjv457HAaxjiMXkbEhu/6wC5YzKX3prjeAg67sjxss8/3cB2o8/lIzLgnbULCz2Bxk9KvsA4F9FIZiOOLA5B/QcKZIGBiSrwAMrykExb1/ElGxwrzjO8n+951fUv1hyRmXfqjxs0GgB4Lm6niWhb9HKC6mZCx27ULed9CmLSFD1WVkS6GXk/PLC/hv2sNrNg6uKM9AuYP6xVJmCXiODeE1kZujBjBwUqmHW6Fc+SeBRfpwAEi5SoSCE82yJvVDM/hIPdk2oDasCUhXe8iG2+mlhloF6GygmWLipStA2XCunER128yZ23TZRQrbtr7+z296m6imbCZx6Ztw4+rfJ5C/htyPtr5mKPlTk0NOUtbbFcTH25rhmqq7NoCwSAqPG7QZqa2lih5Uqo4yoo0Qn5irBqkmL/6FFMAdbMRA/6gIe6dnOJpsA3KFNwvBKP8fSyMSzZbFOaQ0bXL9+89Cq21gRbf8P1nmmaHTfLTRRxiJK4m4N62LdkzIxElB0S4JgTLDdrkHYr1BiZnke9xrKNG9YkahFc9gDtunQGFRbhXWnerWXiDlPXE3iS4nqo+FmxJf/M+f5w9jdcJPWreUPBkJP4ktYMp2idKwW+wSHVamvRt0K65s/QXLCrLoSjgsuH35twXlp/pJY+gLKqEnW6wy87583lI3aNnkanKOvKsnDB4m0o4we2UZQfwmCW5ldxJQYmG67WSlps3JiYecHfxMLZjRVZQsiKosEG2KhvGw6sNcrkwGzh83lzrWh5nE48BVStEWgV+DkGVzRSq+vS6YEflNWlmie6ZpfvaSwF94YK/3nIuEfnWOkktfQEU1DFxwYunZwxP6qxH9zycDjrjGHoKBqimmcuuK7KejdTMBWhtmkasWLJXB1dERmFmgqoZKafYYFMoHa87XaVnnG/MFhyU0T607CqvjuIFvFhXJz/LotxLMtsPDDvOHznX0h85BE8+Gtsx94P306rikyFX1VYoSrzUn3GV+Lbh+EIoDzR83YoITukF7PqbN1wqJHS5AM+cFqZhip6HFArfhyBThG6CjLFeWyHDYBRxWgkkIMGoRDN8cWHXdtZl1g4g9yf7jTtj/VjbpfPT+l9clI9e6fm0+dDsJetQGPb3Djs0IHZ+U1pP1BEQgfQ7NTUIw8JCbZ4CmLZMp4tTWydGhSyrRtTntG1F/SmK/cjUKWyKJMdMhaa09i0hYkQzAtR+9YfNmLKmzTxxTW1KZ/uSPAESD4s2Y9YwWzWbupNWALwIhonxM6wl1pBlXe+oBSsh76K1uth9FGYltSX5gJ88thKG9cA2azRmOz+T+QptoLozO7M3BvEHABOQ3Az1HsrvnmgpIuPSFGyT80rL6NJJfDVba8e13hCWweNJ00MGKVgyySo+C0QY2Wlvk0qpLAhFzZgVeaovZmaaxsa5Oy674XV3emszWLqX9spVtIIwVXPxtfh+r5nYu9lqIzBGfbjOrgmmN2S+qStLuRo+Dn2dMQoMHQRstOoDSEY0lyH6OT095xFSdoO7opMCK0I96hdrmqrUV75ENcZqau3JZzmucR6SBAbp5Nwl1BP0CJEyqGeNq6AxTsXgwFEgRNiqdIooiAa+nr7rldeK9F/JQfdj+5fOROEyNttPWJBUsWEdUQl/wVHAGZ7QxnHhut/5GP7yumyT/H/XypcemlJnmF6ieZRGBIqlCp3KRVwZerUqSpk3/ruYoLnHhzb8oJUOMGY0DEBl+nlJ9vDOjWjAAfL7w1ZAlhh9GDmP1Wt5HEUO3qtFAlYYfSMyrk8xEOWD6XLEAvuzSe1q1h2RgCWKsmzNfQN7VMtIyrcvficJe1B+NjP8wMndJWd9w9LVhLtwmQscAFaa2GIbCaDNYctL//KERKCPVnTdgn2yptDM/eTEouku80w==\\');\\n  </script>\\n<script nonce=\"10yY7juU/D1ZDSbB8mw1CA\">\\n  gaia = window.gaia || {};\\n  gaia.ps = gaia.ps || {};\\n  gaia.ps.hasPrefilledIdentifier = false;\\n  function gaia_parseFragment() {\\n  var hash = location.hash;\\n  var params = {};\\n  if (!hash) {\\n  return params;\\n  }\\n  var paramStrs = decodeURIComponent(hash.substring(1)).split(\\'&\\');\\n  for (var i = 0; i < paramStrs.length; i++) {\\n      var param = paramStrs[i].split(\\'=\\');\\n      params[param[0]] = param[1];\\n    }\\n    return params;\\n  }\\n\\n  function gaia_prefillEmail() {\\n    var email = null;\\n    var form = null;\\n    if (document.getElementById) {\\n      email = document.getElementById(\\'Email\\');\\n      form = document.getElementById(\\'gaia_loginform\\');\\n    }\\n    if (form && email && (email.value == null || email.value == \\'\\')\\n        && (email.type != \\'hidden\\')) {\\n      hashParams = gaia_parseFragment();\\n      if (hashParams[\\'Email\\'] && hashParams[\\'Email\\'] != \\'\\') {\\n        email.value = hashParams[\\'Email\\'];\\n      }\\n    }\\n  }\\n\\n  \\n  try {\\n    gaia_prefillEmail();\\n  } catch (e) {\\n  }\\n  \\n</script>\\n<script nonce=\"10yY7juU/D1ZDSbB8mw1CA\">\\n  var gaia_scrollToElement = function(element) {\\n  var calculateOffsetHeight = function(element) {\\n  var curtop = 0;\\n  if (element.offsetParent) {\\n  while (element) {\\n  curtop += element.offsetTop;\\n  element = element.offsetParent;\\n  }\\n  }\\n  return curtop;\\n  }\\n  var siginOffsetHeight = calculateOffsetHeight(element);\\n  var scrollHeight = siginOffsetHeight - window.innerHeight +\\n  element.clientHeight + 0.02 * window.innerHeight;\\n  window.scroll(0, scrollHeight);\\n  }\\n</script>\\n<script type=\"text/javascript\" nonce=\"10yY7juU/D1ZDSbB8mw1CA\">\\nvar BrowserSupport_={IsBrowserSupported:function(){var agt=navigator.userAgent.toLowerCase();var is_op=agt.indexOf(\"opera\")!=-1;var is_ie=agt.indexOf(\"msie\")!=-1&&document.all&&!is_op;var is_ie5=agt.indexOf(\"msie 5\")!=-1&&document.all&&!is_op;var is_mac=agt.indexOf(\"mac\")!=-1;var is_gk=agt.indexOf(\"gecko\")!=-1;var is_sf=agt.indexOf(\"safari\")!=-1;if(is_ie&&!is_op&&!is_mac){if(agt.indexOf(\"palmsource\")!=\\n-1||agt.indexOf(\"regking\")!=-1||agt.indexOf(\"windows ce\")!=-1||agt.indexOf(\"j2me\")!=-1||agt.indexOf(\"avantgo\")!=-1||agt.indexOf(\" stb\")!=-1)return false;var v=BrowserSupport_.GetFollowingFloat(agt,\"msie \");if(v!=null)return v>=5.5}if(is_gk&&!is_sf){var v=BrowserSupport_.GetFollowingFloat(agt,\"rv:\");if(v!=null)return v>=1.4;else{v=BrowserSupport_.GetFollowingFloat(agt,\"galeon/\");if(v!=null)return v>=\\n1.3}}if(is_sf){if(agt.indexOf(\"rv:3.14.15.92.65\")!=-1)return false;var v=BrowserSupport_.GetFollowingFloat(agt,\"applewebkit/\");if(v!=null)return v>=312}if(is_op){if(agt.indexOf(\"sony/com1\")!=-1)return false;var v=BrowserSupport_.GetFollowingFloat(agt,\"opera \");if(v==null)v=BrowserSupport_.GetFollowingFloat(agt,\"opera/\");if(v!=null)return v>=8}if(agt.indexOf(\"pda; sony/com2\")!=-1)return true;return false},\\nGetFollowingFloat:function(str,pfx){var i=str.indexOf(pfx);if(i!=-1){var v=parseFloat(str.substring(i+pfx.length));if(!isNaN(v))return v}return null}};var is_browser_supported=BrowserSupport_.IsBrowserSupported()\\n  </script>\\n<script type=text/javascript nonce=\"10yY7juU/D1ZDSbB8mw1CA\">\\n<!--\\n\\nvar start_time = (new Date()).getTime();\\n\\nif (top.location != self.location) {\\n top.location = self.location.href;\\n}\\n\\nfunction SetGmailCookie(name, value) {\\n  document.cookie = name + \"=\" + value + \";path=/;domain=.google.com\";\\n}\\n\\nfunction lg() {\\n  var now = (new Date()).getTime();\\n\\n  var cookie = \"T\" + start_time + \"/\" + start_time + \"/\" + now;\\n  SetGmailCookie(\"GMAIL_LOGIN\", cookie);\\n}\\n\\nfunction StripParam(url, param) {\\n  var start = url.indexOf(param);\\n  if (start == -1) return url;\\n  var end = start + param.length;\\n\\n  var charBefore = url.charAt(start-1);\\n  if (charBefore != \\'?\\' && charBefore != \\'&\\') return url;\\n\\n  var charAfter = (url.length >= end+1) ? url.charAt(end) : \\'\\';\\n  if (charAfter != \\'\\' && charAfter != \\'&\\' && charAfter != \\'#\\') return url;\\n  if (charBefore == \\'&\\') {\\n  --start;\\n  } else if (charAfter == \\'&\\') {\\n  ++end;\\n  }\\n  return url.substring(0, start) + url.substring(end);\\n}\\nvar fixed = 0;\\nfunction FixForm() {\\n  if (is_browser_supported) {\\n  var form = el(\"gaia_loginform\");\\n  if (form && form[\"continue\"]) {\\n  var url = form[\"continue\"].value;\\n  url = StripParam(url, \"ui=html\");\\n  url = StripParam(url, \"zy=l\");\\n  form[\"continue\"].value = url;\\n  }\\n  }\\n  fixed = 1;\\n}\\nfunction el(id) {\\n  if (document.getElementById) {\\n  return document.getElementById(id);\\n  } else if (window[id]) {\\n  return window[id];\\n  }\\n  return null;\\n}\\nvar ONE_PX = \"https://mail.google.com/mail/images/cleardot.gif?t=\" +\\n  (new Date()).getTime();\\nfunction LogRoundtripTime() {\\n  var img = new Image();\\n  var start = (new Date()).getTime();\\n  img.onload = GetRoundtripTimeFunction(start);\\n  img.src = ONE_PX;\\n}\\nfunction GetRoundtripTimeFunction(start) {\\n  return function() {\\n  var end = (new Date()).getTime();\\n  SetGmailCookie(\"GMAIL_RTT\", (end - start));\\n  }\\n}\\nfunction MaybePingUser() {\\n  var f = el(\"gaia_loginform\");\\n  if (f.Email.value) {\\n  new Image().src = \\'https://mail.google.com/mail/gxlu?email=\\' +\\n  encodeURIComponent(f.Email.value) +\\n  \\'&zx=\\' + (new Date().getTime());\\n  }\\n}\\nvar passwd_elem = el(\"Passwd\");\\nif (passwd_elem) {\\n  passwd_elem.onfocus = MaybePingUser;\\n}\\nfunction OnLoad() {\\n  MaybePingUser();\\n  LogRoundtripTime();\\n  LoadConversionScript();\\n}\\nvar google_conversion_type = \\'landing\\';\\nvar google_conversion_id = 1069902127;\\nvar google_conversion_language = \"en_US\";\\nvar google_conversion_format = \"1\";\\nvar google_conversion_color = \"FFFFFF\";\\nfunction LoadConversionScript() {\\n  var script = document.createElement(\"script\");\\n  script.type = \"text/javascript\";\\n  script.src = \"https://www.googleadservices.com/pagead/conversion.js\";\\n}\\n// -->\\n</script>\\n<script nonce=\"10yY7juU/D1ZDSbB8mw1CA\">\\ngaia_attachEvent(window, \\'load\\', function() {\\n  OnLoad();\\n  FixForm();\\n});\\n(function() {\\n  var gaiaLoginForm = document.getElementById(\\'gaia_loginform\\');\\n  var gaia_onsubmitHandler = gaiaLoginForm.onsubmit;\\n  gaiaLoginForm.onsubmit = function() {\\n  lg();\\n  if (!fixed) {\\n  FixForm();\\n  }\\n  gaia_onsubmitHandler();\\n  };\\n})();\\n</script>\\n  <script nonce=\"10yY7juU/D1ZDSbB8mw1CA\">\\n  if (gaia.ps.hasPrefilledIdentifier) {\\n  var form = document.getElementById(\\'gaia_loginform\\');\\n  if (form) {\\n  form.submit();\\n  }\\n  }\\n  </script>\\n<script nonce=\"10yY7juU/D1ZDSbB8mw1CA\">\\n  (function(){\\n  gaia_onLoginSubmit = function() {\\n  try {\\n  gaia.loginAutoRedirect.stop();\\n  } catch (err) {\\n  // do not prevent form from being submitted\\n  }\\n  try {\\n  document.bg.invoke(function(response) {\\n  document.getElementById(\\'bgresponse\\').value = response;\\n  });\\n  } catch (err) {\\n  document.getElementById(\\'bgresponse\\').value = \\'\\';\\n  }\\n  return true;\\n  }\\n  document.getElementById(\\'gaia_loginform\\').onsubmit = gaia_onLoginSubmit;\\n  var signinButton;\\n  signinButton = document.getElementById(\\'next\\');\\n  gaia_attachEvent(window, \\'load\\', function(){\\n  gaia_scrollToElement(signinButton);\\n  });\\n  })();\\n</script>\\n  <script nonce=\"10yY7juU/D1ZDSbB8mw1CA\">var e=this,g=function(b,c){b=b.split(\".\");var a=e;b[0]in a||!a.execScript||a.execScript(\"var \"+b[0]);for(var d;b.length&&(d=b.shift());)b.length||void 0===c?a[d]?a=a[d]:a=a[d]={}:a[d]=c};var h=function(){try{return new XMLHttpRequest}catch(a){for(var b=[\"MSXML2.XMLHTTP.6.0\",\"MSXML2.XMLHTTP.3.0\",\"MSXML2.XMLHTTP\",\"Microsoft.XMLHTTP\"],c=0;c<b.length;c++)try{return new ActiveXObject(b[c])}catch(d){}}return null};g(\"gaia.ajax.newXmlHttpRequest\",h);var k=function(){this.a=h();this.parameters={}};g(\"gaia.ajax.XmlHttpFormRequest\",k);\\nk.prototype.send=function(b,c){var a=[],d;for(d in this.parameters)a.push(d+\"=\"+encodeURIComponent(this.parameters[d]));a=a.join(\"&\");var f=this.a;f.open(\"POST\",b,!0);f.setRequestHeader(\"Content-type\",\"application/x-www-form-urlencoded\");f.onreadystatechange=function(){4==f.readyState&&c({status:f.status,text:f.responseText})};f.send(a)};k.prototype.send=k.prototype.send;\\nk.prototype.h=function(b,c,a){var d=this.a;d.open(\"POST\",b,!0);d.setRequestHeader(\"Content-type\",\"application/json\");d.onreadystatechange=function(){4==d.readyState&&a({status:d.status,text:d.responseText})};d.send(c)};k.prototype.sendJson=k.prototype.h;k.prototype.get=function(b,c){var a=this.a;a.open(\"GET\",b,!0);a.onreadystatechange=function(){4==a.readyState&&c({status:a.status,text:a.responseText})};a.send()};k.prototype.get=k.prototype.get;var l=/\\\\s*;\\\\s*/,m=function(){if(!document.cookie)return\"\";for(var b=document.cookie.split(l),c=0;c<b.length;c++){var a=b[c];a=a.replace(/^\\\\s+/,\"\");a=a.replace(/\\\\s+$/,\"\");if(0==a.indexOf(\"APISID=\"))return a.substr(7)}return\"\"};var n=null,p=function(b,c){this.g=b;this.f=c;this.c=m();this.b=!1},q=function(){var b=n,c=m();c==b.c||b.b||(b.c=c,(new k).get(b.f,function(a){var d=n;a&&a.status&&200==a.status&&\"OK\"==a.text&&(d.a&&clearInterval(d.a),d.b||(window.location=d.g))}))};p.prototype.start=function(b){if(this.a)return!1;this.a=setInterval(function(){q()},b);return!0};g(\"gaia.loginAutoRedirect.start\",function(b,c,a){if(n||!a||!c||0>=b)return!1;n=new p(c,a);return n.start(b)});\\ng(\"gaia.loginAutoRedirect.stop\",function(){var b=n;b.b=!0;b.a&&(clearInterval(b.a),b.a=null)});\\n</script>\\n  <script type=\"text/javascript\" nonce=\"10yY7juU/D1ZDSbB8mw1CA\">\\n  gaia.loginAutoRedirect.start(5000,\\n  \\'https:\\\\x2F\\\\x2Faccounts.google.com\\\\x2FServiceLogin?continue=https%3A%2F%2Fmail.google.com%2Fmail%2F%3Ftab%3Drm%26ogbl\\\\x26osid=1\\\\x26service=mail\\\\x26ltmpl=default\\\\x26rm=false\\\\x26passive=true\\\\x26noautologin=true\\',\\n  \\'https:\\\\x2F\\\\x2Faccounts.google.com\\\\x2FPassiveLoginProber?continue=https%3A%2F%2Fmail.google.com%2Fmail%2F%3Ftab%3Drm%26ogbl\\\\x26osid=1\\\\x26service=mail\\\\x26ltmpl=default\\\\x26rm=false\\\\x26passive=true\\');\\n  </script>\\n  </body>\\n</html>\\n'\n",
      "\n"
     ]
    }
   ],
   "source": [
    "from bs4 import BeautifulSoup\n",
    "import requests\n",
    "from urllib.request import urlopen\n",
    "html = urlopen('https://mail.google.com/mail/u/0/?tab=rm&ogbl#inbox')\n",
    "print(html.read())\n",
    "bf = BeautifulSoup(html.read(),'html.parser')\n",
    "print(bf)"
   ]
  },
  {
   "cell_type": "code",
   "execution_count": 17,
   "metadata": {},
   "outputs": [
    {
     "data": {
      "text/html": [
       "<div>\n",
       "<style scoped>\n",
       "    .dataframe tbody tr th:only-of-type {\n",
       "        vertical-align: middle;\n",
       "    }\n",
       "\n",
       "    .dataframe tbody tr th {\n",
       "        vertical-align: top;\n",
       "    }\n",
       "\n",
       "    .dataframe thead th {\n",
       "        text-align: right;\n",
       "    }\n",
       "</style>\n",
       "<table border=\"1\" class=\"dataframe\">\n",
       "  <thead>\n",
       "    <tr style=\"text-align: right;\">\n",
       "      <th></th>\n",
       "      <th>Data</th>\n",
       "    </tr>\n",
       "  </thead>\n",
       "  <tbody>\n",
       "    <tr>\n",
       "      <td>0</td>\n",
       "      <td>produced by martin adamson david widger with</td>\n",
       "    </tr>\n",
       "    <tr>\n",
       "      <td>1</td>\n",
       "      <td>corrections by andrew sly the idiot by fyodor</td>\n",
       "    </tr>\n",
       "    <tr>\n",
       "      <td>2</td>\n",
       "      <td>dostoyevsky translated by eva martin part i i....</td>\n",
       "    </tr>\n",
       "    <tr>\n",
       "      <td>3</td>\n",
       "      <td>the end of november during a thaw at nine o cl...</td>\n",
       "    </tr>\n",
       "    <tr>\n",
       "      <td>4</td>\n",
       "      <td>morning a train on the warsaw and petersburg r...</td>\n",
       "    </tr>\n",
       "    <tr>\n",
       "      <td>5</td>\n",
       "      <td>was approaching the latter city at full speed....</td>\n",
       "    </tr>\n",
       "    <tr>\n",
       "      <td>6</td>\n",
       "      <td>morning was so damp and misty that it was only...</td>\n",
       "    </tr>\n",
       "    <tr>\n",
       "      <td>7</td>\n",
       "      <td>great difficulty that the day succeeded in bre...</td>\n",
       "    </tr>\n",
       "    <tr>\n",
       "      <td>8</td>\n",
       "      <td>and it was impossible to distinguish anything ...</td>\n",
       "    </tr>\n",
       "    <tr>\n",
       "      <td>9</td>\n",
       "      <td>than a few yards away from the carriage windows.</td>\n",
       "    </tr>\n",
       "    <tr>\n",
       "      <td>10</td>\n",
       "      <td>some of the passengers by this particular trai...</td>\n",
       "    </tr>\n",
       "    <tr>\n",
       "      <td>11</td>\n",
       "      <td>returning from abroad but the third class carr...</td>\n",
       "    </tr>\n",
       "    <tr>\n",
       "      <td>12</td>\n",
       "      <td>were the best filled chiefly with insignificant</td>\n",
       "    </tr>\n",
       "    <tr>\n",
       "      <td>13</td>\n",
       "      <td>persons of various occupations and degrees pic...</td>\n",
       "    </tr>\n",
       "    <tr>\n",
       "      <td>14</td>\n",
       "      <td>at the different stations nearer town. all of ...</td>\n",
       "    </tr>\n",
       "    <tr>\n",
       "      <td>15</td>\n",
       "      <td>seemed weary and most of them had sleepy eyes ...</td>\n",
       "    </tr>\n",
       "    <tr>\n",
       "      <td>16</td>\n",
       "      <td>shivering expression while their complexions g...</td>\n",
       "    </tr>\n",
       "    <tr>\n",
       "      <td>17</td>\n",
       "      <td>appeared to have taken on the colour of the fog</td>\n",
       "    </tr>\n",
       "    <tr>\n",
       "      <td>18</td>\n",
       "      <td>outside. when da</td>\n",
       "    </tr>\n",
       "    <tr>\n",
       "      <td>19</td>\n",
       "      <td></td>\n",
       "    </tr>\n",
       "  </tbody>\n",
       "</table>\n",
       "</div>"
      ],
      "text/plain": [
       "                                                 Data\n",
       "0        produced by martin adamson david widger with\n",
       "1       corrections by andrew sly the idiot by fyodor\n",
       "2   dostoyevsky translated by eva martin part i i....\n",
       "3   the end of november during a thaw at nine o cl...\n",
       "4   morning a train on the warsaw and petersburg r...\n",
       "5   was approaching the latter city at full speed....\n",
       "6   morning was so damp and misty that it was only...\n",
       "7   great difficulty that the day succeeded in bre...\n",
       "8   and it was impossible to distinguish anything ...\n",
       "9    than a few yards away from the carriage windows.\n",
       "10  some of the passengers by this particular trai...\n",
       "11  returning from abroad but the third class carr...\n",
       "12    were the best filled chiefly with insignificant\n",
       "13  persons of various occupations and degrees pic...\n",
       "14  at the different stations nearer town. all of ...\n",
       "15  seemed weary and most of them had sleepy eyes ...\n",
       "16  shivering expression while their complexions g...\n",
       "17    appeared to have taken on the colour of the fog\n",
       "18                                   outside. when da\n",
       "19                                                   "
      ]
     },
     "execution_count": 17,
     "metadata": {},
     "output_type": "execute_result"
    }
   ],
   "source": [
    "data"
   ]
  },
  {
   "cell_type": "code",
   "execution_count": 18,
   "metadata": {},
   "outputs": [],
   "source": [
    "data.loc[0] =  '!' + data.loc[0] + ','"
   ]
  },
  {
   "cell_type": "code",
   "execution_count": 19,
   "metadata": {},
   "outputs": [
    {
     "data": {
      "text/plain": [
       "Data    !produced by martin adamson david widger with,\n",
       "Name: 0, dtype: object"
      ]
     },
     "execution_count": 19,
     "metadata": {},
     "output_type": "execute_result"
    }
   ],
   "source": [
    "data.loc[0]"
   ]
  },
  {
   "cell_type": "markdown",
   "metadata": {},
   "source": [
    "## Removing Punctuation\n",
    "# Using AnyTHing"
   ]
  },
  {
   "cell_type": "code",
   "execution_count": 20,
   "metadata": {},
   "outputs": [
    {
     "data": {
      "text/plain": [
       "'Hey  This is me '"
      ]
     },
     "execution_count": 20,
     "metadata": {},
     "output_type": "execute_result"
    }
   ],
   "source": [
    "punct = 'Hey !. This is me !!!'\n",
    "re.sub(r'[^\\w\\s]' , '' ,punct)\n"
   ]
  },
  {
   "cell_type": "code",
   "execution_count": 21,
   "metadata": {},
   "outputs": [],
   "source": [
    "data['Data'] = data['Data'].apply(lambda x : re.sub(r'[^\\w\\s]','' , x))"
   ]
  },
  {
   "cell_type": "code",
   "execution_count": 22,
   "metadata": {},
   "outputs": [
    {
     "data": {
      "text/plain": [
       "0          produced by martin adamson david widger with\n",
       "1         corrections by andrew sly the idiot by fyodor\n",
       "2     dostoyevsky translated by eva martin part i i ...\n",
       "3     the end of november during a thaw at nine o cl...\n",
       "4     morning a train on the warsaw and petersburg r...\n",
       "5     was approaching the latter city at full speed the\n",
       "6     morning was so damp and misty that it was only...\n",
       "7     great difficulty that the day succeeded in bre...\n",
       "8     and it was impossible to distinguish anything ...\n",
       "9       than a few yards away from the carriage windows\n",
       "10    some of the passengers by this particular trai...\n",
       "11    returning from abroad but the third class carr...\n",
       "12      were the best filled chiefly with insignificant\n",
       "13    persons of various occupations and degrees pic...\n",
       "14    at the different stations nearer town all of them\n",
       "15    seemed weary and most of them had sleepy eyes ...\n",
       "16    shivering expression while their complexions g...\n",
       "17      appeared to have taken on the colour of the fog\n",
       "18                                      outside when da\n",
       "19                                                     \n",
       "Name: Data, dtype: object"
      ]
     },
     "execution_count": 22,
     "metadata": {},
     "output_type": "execute_result"
    }
   ],
   "source": [
    "data.Data"
   ]
  },
  {
   "cell_type": "markdown",
   "metadata": {},
   "source": [
    "## Dealing with stopWords\n",
    "# Using StopWord"
   ]
  },
  {
   "cell_type": "code",
   "execution_count": 23,
   "metadata": {},
   "outputs": [],
   "source": [
    "#!pip uninstall nltk\n",
    "from nltk.corpus import stopwords\n",
    "#nltk.download('stopwords')"
   ]
  },
  {
   "cell_type": "code",
   "execution_count": 24,
   "metadata": {},
   "outputs": [
    {
     "data": {
      "text/plain": [
       "\"This example stopword let's see good \""
      ]
     },
     "execution_count": 24,
     "metadata": {},
     "output_type": "execute_result"
    }
   ],
   "source": [
    "stpwrd = stopwords.words('english')\n",
    "Input = 'This is just an example of stopword let\\'s see if this is any good'\n",
    "output = ''\n",
    "for word in Input.split(' '):\n",
    "    if word not in stpwrd:\n",
    "        output += word+ ' '\n",
    "output"
   ]
  },
  {
   "cell_type": "code",
   "execution_count": 25,
   "metadata": {},
   "outputs": [],
   "source": [
    "data2 = data.copy()\n",
    "data2['Data'] = data2['Data'].apply(lambda x : \" \".join(x for x in x.split()  if x not in stpwrd))"
   ]
  },
  {
   "cell_type": "code",
   "execution_count": 26,
   "metadata": {},
   "outputs": [
    {
     "data": {
      "text/plain": [
       "'dostoyevsky translated eva martin part towards'"
      ]
     },
     "execution_count": 26,
     "metadata": {},
     "output_type": "execute_result"
    }
   ],
   "source": [
    "data2.loc[2,'Data']"
   ]
  },
  {
   "cell_type": "code",
   "execution_count": 27,
   "metadata": {},
   "outputs": [
    {
     "data": {
      "text/plain": [
       "'dostoyevsky translated by eva martin part i i towards'"
      ]
     },
     "execution_count": 27,
     "metadata": {},
     "output_type": "execute_result"
    }
   ],
   "source": [
    "data.loc[2,'Data']"
   ]
  },
  {
   "cell_type": "markdown",
   "metadata": {},
   "source": [
    "## Standardizing Text\n",
    "# using Simple Dictionary"
   ]
  },
  {
   "cell_type": "code",
   "execution_count": 28,
   "metadata": {},
   "outputs": [
    {
     "data": {
      "text/html": [
       "<div>\n",
       "<style scoped>\n",
       "    .dataframe tbody tr th:only-of-type {\n",
       "        vertical-align: middle;\n",
       "    }\n",
       "\n",
       "    .dataframe tbody tr th {\n",
       "        vertical-align: top;\n",
       "    }\n",
       "\n",
       "    .dataframe thead th {\n",
       "        text-align: right;\n",
       "    }\n",
       "</style>\n",
       "<table border=\"1\" class=\"dataframe\">\n",
       "  <thead>\n",
       "    <tr style=\"text-align: right;\">\n",
       "      <th></th>\n",
       "      <th>Data</th>\n",
       "    </tr>\n",
       "  </thead>\n",
       "  <tbody>\n",
       "    <tr>\n",
       "      <td>0</td>\n",
       "      <td>produced by martin adamson david widger with</td>\n",
       "    </tr>\n",
       "    <tr>\n",
       "      <td>1</td>\n",
       "      <td>corrections by andrew sly the idiot by fyodor</td>\n",
       "    </tr>\n",
       "    <tr>\n",
       "      <td>2</td>\n",
       "      <td>dostoyevsky translated by eva martin part i i....</td>\n",
       "    </tr>\n",
       "    <tr>\n",
       "      <td>3</td>\n",
       "      <td>the end of november during a thaw at nine o cl...</td>\n",
       "    </tr>\n",
       "    <tr>\n",
       "      <td>4</td>\n",
       "      <td>morning a train on the warsaw and petersburg r...</td>\n",
       "    </tr>\n",
       "    <tr>\n",
       "      <td>5</td>\n",
       "      <td>was approaching the latter city at full speed....</td>\n",
       "    </tr>\n",
       "    <tr>\n",
       "      <td>6</td>\n",
       "      <td>morning was so damp and misty that it was only...</td>\n",
       "    </tr>\n",
       "    <tr>\n",
       "      <td>7</td>\n",
       "      <td>great difficulty that the day succeeded in bre...</td>\n",
       "    </tr>\n",
       "    <tr>\n",
       "      <td>8</td>\n",
       "      <td>and it was impossible to distinguish anything ...</td>\n",
       "    </tr>\n",
       "    <tr>\n",
       "      <td>9</td>\n",
       "      <td>than a few yards away from the carriage windows.</td>\n",
       "    </tr>\n",
       "    <tr>\n",
       "      <td>10</td>\n",
       "      <td>some of the passengers by this particular trai...</td>\n",
       "    </tr>\n",
       "    <tr>\n",
       "      <td>11</td>\n",
       "      <td>returning from abroad but the third class carr...</td>\n",
       "    </tr>\n",
       "    <tr>\n",
       "      <td>12</td>\n",
       "      <td>were the best filled chiefly with insignificant</td>\n",
       "    </tr>\n",
       "    <tr>\n",
       "      <td>13</td>\n",
       "      <td>persons of various occupations and degrees pic...</td>\n",
       "    </tr>\n",
       "    <tr>\n",
       "      <td>14</td>\n",
       "      <td>at the different stations nearer town. all of ...</td>\n",
       "    </tr>\n",
       "    <tr>\n",
       "      <td>15</td>\n",
       "      <td>seemed weary and most of them had sleepy eyes ...</td>\n",
       "    </tr>\n",
       "    <tr>\n",
       "      <td>16</td>\n",
       "      <td>shivering expression while their complexions g...</td>\n",
       "    </tr>\n",
       "    <tr>\n",
       "      <td>17</td>\n",
       "      <td>appeared to have taken on the colour of the fog</td>\n",
       "    </tr>\n",
       "    <tr>\n",
       "      <td>18</td>\n",
       "      <td>outside. when da</td>\n",
       "    </tr>\n",
       "    <tr>\n",
       "      <td>19</td>\n",
       "      <td></td>\n",
       "    </tr>\n",
       "  </tbody>\n",
       "</table>\n",
       "</div>"
      ],
      "text/plain": [
       "                                                 Data\n",
       "0        produced by martin adamson david widger with\n",
       "1       corrections by andrew sly the idiot by fyodor\n",
       "2   dostoyevsky translated by eva martin part i i....\n",
       "3   the end of november during a thaw at nine o cl...\n",
       "4   morning a train on the warsaw and petersburg r...\n",
       "5   was approaching the latter city at full speed....\n",
       "6   morning was so damp and misty that it was only...\n",
       "7   great difficulty that the day succeeded in bre...\n",
       "8   and it was impossible to distinguish anything ...\n",
       "9    than a few yards away from the carriage windows.\n",
       "10  some of the passengers by this particular trai...\n",
       "11  returning from abroad but the third class carr...\n",
       "12    were the best filled chiefly with insignificant\n",
       "13  persons of various occupations and degrees pic...\n",
       "14  at the different stations nearer town. all of ...\n",
       "15  seemed weary and most of them had sleepy eyes ...\n",
       "16  shivering expression while their complexions g...\n",
       "17    appeared to have taken on the colour of the fog\n",
       "18                                   outside. when da\n",
       "19                                                   "
      ]
     },
     "execution_count": 28,
     "metadata": {},
     "output_type": "execute_result"
    }
   ],
   "source": [
    "newData = pd.DataFrame({'Data':spli.split(',')})\n",
    "newData"
   ]
  },
  {
   "cell_type": "code",
   "execution_count": 29,
   "metadata": {},
   "outputs": [],
   "source": [
    "newData.Data[17] = re.sub('appeared' , 'apprd' , newData.Data[17])"
   ]
  },
  {
   "cell_type": "code",
   "execution_count": 30,
   "metadata": {},
   "outputs": [
    {
     "data": {
      "text/plain": [
       "'apprd to have taken on the colour of the fog'"
      ]
     },
     "execution_count": 30,
     "metadata": {},
     "output_type": "execute_result"
    }
   ],
   "source": [
    "newData.Data[17]"
   ]
  },
  {
   "cell_type": "code",
   "execution_count": 31,
   "metadata": {},
   "outputs": [],
   "source": [
    "look_up = {'apprd':'appeared'}\n",
    "newData.Data = newData.Data.apply(lambda x : ' '.join(look_up[x] if x in look_up else x for x in x.split() ))"
   ]
  },
  {
   "cell_type": "code",
   "execution_count": 32,
   "metadata": {},
   "outputs": [
    {
     "data": {
      "text/plain": [
       "'appeared to have taken on the colour of the fog'"
      ]
     },
     "execution_count": 32,
     "metadata": {},
     "output_type": "execute_result"
    }
   ],
   "source": [
    "newData.Data[17]\n"
   ]
  },
  {
   "cell_type": "markdown",
   "metadata": {},
   "source": [
    "## Correcting Spelling\n",
    "# using textBlob"
   ]
  },
  {
   "cell_type": "code",
   "execution_count": 33,
   "metadata": {},
   "outputs": [
    {
     "name": "stdout",
     "output_type": "stream",
     "text": [
      "Requirement already satisfied: textBlob in c:\\users\\prashant\\anaconda3\\lib\\site-packages (0.15.3)\n",
      "Requirement already satisfied: nltk>=3.1 in c:\\users\\prashant\\anaconda3\\lib\\site-packages (from textBlob) (3.5)\n",
      "Requirement already satisfied: regex in c:\\users\\prashant\\anaconda3\\lib\\site-packages (from nltk>=3.1->textBlob) (2020.4.4)\n",
      "Requirement already satisfied: joblib in c:\\users\\prashant\\anaconda3\\lib\\site-packages (from nltk>=3.1->textBlob) (0.13.2)\n",
      "Requirement already satisfied: tqdm in c:\\users\\prashant\\anaconda3\\lib\\site-packages (from nltk>=3.1->textBlob) (4.36.1)\n",
      "Requirement already satisfied: click in c:\\users\\prashant\\anaconda3\\lib\\site-packages (from nltk>=3.1->textBlob) (7.0)\n"
     ]
    }
   ],
   "source": [
    "!pip install textBlob"
   ]
  },
  {
   "cell_type": "code",
   "execution_count": 34,
   "metadata": {},
   "outputs": [
    {
     "data": {
      "text/html": [
       "<div>\n",
       "<style scoped>\n",
       "    .dataframe tbody tr th:only-of-type {\n",
       "        vertical-align: middle;\n",
       "    }\n",
       "\n",
       "    .dataframe tbody tr th {\n",
       "        vertical-align: top;\n",
       "    }\n",
       "\n",
       "    .dataframe thead th {\n",
       "        text-align: right;\n",
       "    }\n",
       "</style>\n",
       "<table border=\"1\" class=\"dataframe\">\n",
       "  <thead>\n",
       "    <tr style=\"text-align: right;\">\n",
       "      <th></th>\n",
       "      <th>Data</th>\n",
       "    </tr>\n",
       "  </thead>\n",
       "  <tbody>\n",
       "    <tr>\n",
       "      <td>0</td>\n",
       "      <td>this is nw data</td>\n",
       "    </tr>\n",
       "    <tr>\n",
       "      <td>1</td>\n",
       "      <td>nd i don't knw wht i am doing wth it</td>\n",
       "    </tr>\n",
       "  </tbody>\n",
       "</table>\n",
       "</div>"
      ],
      "text/plain": [
       "                                    Data\n",
       "0                       this is nw data \n",
       "1   nd i don't knw wht i am doing wth it"
      ]
     },
     "execution_count": 34,
     "metadata": {},
     "output_type": "execute_result"
    }
   ],
   "source": [
    "rawData = 'This is nw data , nd i don\\'t knw wht i am doing wth it' \n",
    "splblob = pd.DataFrame({'Data': rawData.lower().split(',')})\n",
    "splblob"
   ]
  },
  {
   "cell_type": "code",
   "execution_count": 35,
   "metadata": {},
   "outputs": [
    {
     "data": {
      "text/plain": [
       "TextBlob(\"this is an example\")"
      ]
     },
     "execution_count": 35,
     "metadata": {},
     "output_type": "execute_result"
    }
   ],
   "source": [
    "example = 'this is an exmple'\n",
    "from textblob import TextBlob\n",
    "TextBlob(example).correct()"
   ]
  },
  {
   "cell_type": "code",
   "execution_count": 36,
   "metadata": {},
   "outputs": [],
   "source": [
    "splblob.Data = splblob.Data.apply(lambda x : str(TextBlob(str(x)).correct()))"
   ]
  },
  {
   "cell_type": "code",
   "execution_count": 37,
   "metadata": {},
   "outputs": [
    {
     "data": {
      "text/html": [
       "<div>\n",
       "<style scoped>\n",
       "    .dataframe tbody tr th:only-of-type {\n",
       "        vertical-align: middle;\n",
       "    }\n",
       "\n",
       "    .dataframe tbody tr th {\n",
       "        vertical-align: top;\n",
       "    }\n",
       "\n",
       "    .dataframe thead th {\n",
       "        text-align: right;\n",
       "    }\n",
       "</style>\n",
       "<table border=\"1\" class=\"dataframe\">\n",
       "  <thead>\n",
       "    <tr style=\"text-align: right;\">\n",
       "      <th></th>\n",
       "      <th>Data</th>\n",
       "    </tr>\n",
       "  </thead>\n",
       "  <tbody>\n",
       "    <tr>\n",
       "      <td>0</td>\n",
       "      <td>this is no data</td>\n",
       "    </tr>\n",
       "    <tr>\n",
       "      <td>1</td>\n",
       "      <td>nd i don't know who i am doing with it</td>\n",
       "    </tr>\n",
       "  </tbody>\n",
       "</table>\n",
       "</div>"
      ],
      "text/plain": [
       "                                      Data\n",
       "0                         this is no data \n",
       "1   nd i don't know who i am doing with it"
      ]
     },
     "execution_count": 37,
     "metadata": {},
     "output_type": "execute_result"
    }
   ],
   "source": [
    "splblob"
   ]
  },
  {
   "cell_type": "markdown",
   "metadata": {},
   "source": [
    "## Tokenization\n",
    "# Basically split"
   ]
  },
  {
   "cell_type": "code",
   "execution_count": 38,
   "metadata": {},
   "outputs": [
    {
     "data": {
      "text/plain": [
       "['My', 'favorite', 'animal', 'is', 'cat']"
      ]
     },
     "execution_count": 38,
     "metadata": {},
     "output_type": "execute_result"
    }
   ],
   "source": [
    "#Using textblob\n",
    "\n",
    "import nltk\n",
    "#create data\n",
    "mystring = \"My favorite animal is cat\"\n",
    "nltk.word_tokenize(mystring)\n",
    "#from textblob import TextBlob\n",
    "#TextBlob(newData.Data[3]).words\n"
   ]
  },
  {
   "cell_type": "code",
   "execution_count": 39,
   "metadata": {},
   "outputs": [
    {
     "data": {
      "text/plain": [
       "0          produced by martin adamson david widger with\n",
       "1         corrections by andrew sly the idiot by fyodor\n",
       "2     dostoyevsky translated by eva martin part i i....\n",
       "3     the end of november during a thaw at nine o cl...\n",
       "4     morning a train on the warsaw and petersburg r...\n",
       "5     was approaching the latter city at full speed....\n",
       "6     morning was so damp and misty that it was only...\n",
       "7     great difficulty that the day succeeded in bre...\n",
       "8     and it was impossible to distinguish anything ...\n",
       "9      than a few yards away from the carriage windows.\n",
       "10    some of the passengers by this particular trai...\n",
       "11    returning from abroad but the third class carr...\n",
       "12      were the best filled chiefly with insignificant\n",
       "13    persons of various occupations and degrees pic...\n",
       "14    at the different stations nearer town. all of ...\n",
       "15    seemed weary and most of them had sleepy eyes ...\n",
       "16    shivering expression while their complexions g...\n",
       "17      appeared to have taken on the colour of the fog\n",
       "18                                     outside. when da\n",
       "19                                                     \n",
       "Name: Data, dtype: object"
      ]
     },
     "execution_count": 39,
     "metadata": {},
     "output_type": "execute_result"
    }
   ],
   "source": [
    "newData.Data"
   ]
  },
  {
   "cell_type": "code",
   "execution_count": 40,
   "metadata": {},
   "outputs": [],
   "source": [
    "newData.Data = newData.Data.apply(lambda x : nltk.word_tokenize(x))"
   ]
  },
  {
   "cell_type": "code",
   "execution_count": 41,
   "metadata": {},
   "outputs": [
    {
     "data": {
      "text/plain": [
       "0     [produced, by, martin, adamson, david, widger,...\n",
       "1     [corrections, by, andrew, sly, the, idiot, by,...\n",
       "2     [dostoyevsky, translated, by, eva, martin, par...\n",
       "3     [the, end, of, november, during, a, thaw, at, ...\n",
       "4     [morning, a, train, on, the, warsaw, and, pete...\n",
       "5     [was, approaching, the, latter, city, at, full...\n",
       "6     [morning, was, so, damp, and, misty, that, it,...\n",
       "7     [great, difficulty, that, the, day, succeeded,...\n",
       "8     [and, it, was, impossible, to, distinguish, an...\n",
       "9     [than, a, few, yards, away, from, the, carriag...\n",
       "10    [some, of, the, passengers, by, this, particul...\n",
       "11    [returning, from, abroad, but, the, third, cla...\n",
       "12    [were, the, best, filled, chiefly, with, insig...\n",
       "13    [persons, of, various, occupations, and, degre...\n",
       "14    [at, the, different, stations, nearer, town, ....\n",
       "15    [seemed, weary, and, most, of, them, had, slee...\n",
       "16    [shivering, expression, while, their, complexi...\n",
       "17    [appeared, to, have, taken, on, the, colour, o...\n",
       "18                               [outside, ., when, da]\n",
       "19                                                   []\n",
       "Name: Data, dtype: object"
      ]
     },
     "execution_count": 41,
     "metadata": {},
     "output_type": "execute_result"
    }
   ],
   "source": [
    "newData.Data"
   ]
  },
  {
   "cell_type": "markdown",
   "metadata": {},
   "source": [
    "## Stemming\n",
    "leaves -> leave , leafs -> leaf"
   ]
  },
  {
   "cell_type": "code",
   "execution_count": 60,
   "metadata": {},
   "outputs": [
    {
     "data": {
      "text/html": [
       "<div>\n",
       "<style scoped>\n",
       "    .dataframe tbody tr th:only-of-type {\n",
       "        vertical-align: middle;\n",
       "    }\n",
       "\n",
       "    .dataframe tbody tr th {\n",
       "        vertical-align: top;\n",
       "    }\n",
       "\n",
       "    .dataframe thead th {\n",
       "        text-align: right;\n",
       "    }\n",
       "</style>\n",
       "<table border=\"1\" class=\"dataframe\">\n",
       "  <thead>\n",
       "    <tr style=\"text-align: right;\">\n",
       "      <th></th>\n",
       "      <th>Data</th>\n",
       "    </tr>\n",
       "  </thead>\n",
       "  <tbody>\n",
       "    <tr>\n",
       "      <td>0</td>\n",
       "      <td>you look better leaves</td>\n",
       "    </tr>\n",
       "    <tr>\n",
       "      <td>1</td>\n",
       "      <td>what is the matter are you leaf</td>\n",
       "    </tr>\n",
       "    <tr>\n",
       "      <td>2</td>\n",
       "      <td>you look leaf</td>\n",
       "    </tr>\n",
       "  </tbody>\n",
       "</table>\n",
       "</div>"
      ],
      "text/plain": [
       "                                Data\n",
       "0             you look better leaves\n",
       "1   what is the matter are you leaf \n",
       "2                      you look leaf"
      ]
     },
     "execution_count": 60,
     "metadata": {},
     "output_type": "execute_result"
    }
   ],
   "source": [
    "Data= 'you look better leaves, what is the matter are you leaf , you look leaf'\n",
    "newData = pd.DataFrame({'Data': Data.lower().split(',')})\n",
    "newData"
   ]
  },
  {
   "cell_type": "code",
   "execution_count": 61,
   "metadata": {},
   "outputs": [
    {
     "data": {
      "text/plain": [
       "0               you look better leav\n",
       "1    what is the matter are you leaf\n",
       "2                      you look leaf\n",
       "Name: Data, dtype: object"
      ]
     },
     "execution_count": 61,
     "metadata": {},
     "output_type": "execute_result"
    }
   ],
   "source": [
    "stemData = newData.copy()\n",
    "from nltk.stem import PorterStemmer\n",
    "st = PorterStemmer()\n",
    "stemData.Data = stemData.Data.apply(lambda x : ' '.join([st.stem(x) for x in x.split() ]) )\n",
    "stemData.Data\n"
   ]
  },
  {
   "cell_type": "code",
   "execution_count": 44,
   "metadata": {},
   "outputs": [
    {
     "data": {
      "text/plain": [
       "'best'"
      ]
     },
     "execution_count": 44,
     "metadata": {},
     "output_type": "execute_result"
    }
   ],
   "source": [
    "st.stem('Best')"
   ]
  },
  {
   "cell_type": "markdown",
   "metadata": {},
   "source": [
    "## Lemmatization\n",
    "# map cars to car or even car to automible\n",
    "# map better best to good"
   ]
  },
  {
   "cell_type": "markdown",
   "metadata": {},
   "source": [
    "# Lemmatization can get better results.\n",
    "•   The stemmed form of leafs is leaf.\n",
    "•   The stemmed form of leaves is leav.\n",
    "•   The lemmatized form of leafs is leaf.\n",
    "•   The lemmatized form of leaves is leaf.\n"
   ]
  },
  {
   "cell_type": "code",
   "execution_count": 57,
   "metadata": {},
   "outputs": [
    {
     "data": {
      "text/html": [
       "<div>\n",
       "<style scoped>\n",
       "    .dataframe tbody tr th:only-of-type {\n",
       "        vertical-align: middle;\n",
       "    }\n",
       "\n",
       "    .dataframe tbody tr th {\n",
       "        vertical-align: top;\n",
       "    }\n",
       "\n",
       "    .dataframe thead th {\n",
       "        text-align: right;\n",
       "    }\n",
       "</style>\n",
       "<table border=\"1\" class=\"dataframe\">\n",
       "  <thead>\n",
       "    <tr style=\"text-align: right;\">\n",
       "      <th></th>\n",
       "      <th>Data</th>\n",
       "    </tr>\n",
       "  </thead>\n",
       "  <tbody>\n",
       "    <tr>\n",
       "      <td>0</td>\n",
       "      <td>you look better leaves</td>\n",
       "    </tr>\n",
       "    <tr>\n",
       "      <td>1</td>\n",
       "      <td>what is the matter are you leaf</td>\n",
       "    </tr>\n",
       "    <tr>\n",
       "      <td>2</td>\n",
       "      <td>you look leaf</td>\n",
       "    </tr>\n",
       "  </tbody>\n",
       "</table>\n",
       "</div>"
      ],
      "text/plain": [
       "                                Data\n",
       "0             you look better leaves\n",
       "1   what is the matter are you leaf \n",
       "2                      you look leaf"
      ]
     },
     "execution_count": 57,
     "metadata": {},
     "output_type": "execute_result"
    }
   ],
   "source": [
    "data= 'you look better leaves, what is the matter are you leaf , you look leaf'\n",
    "data = pd.DataFrame({'Data':data.split(',')})\n",
    "data"
   ]
  },
  {
   "cell_type": "code",
   "execution_count": 58,
   "metadata": {},
   "outputs": [],
   "source": [
    "from nltk.stem import WordNetLemmatizer"
   ]
  },
  {
   "cell_type": "code",
   "execution_count": 59,
   "metadata": {},
   "outputs": [
    {
     "data": {
      "text/plain": [
       "0                 you look better leaf\n",
       "1     what is the matter are you leaf \n",
       "2                        you look leaf\n",
       "Name: Data, dtype: object"
      ]
     },
     "execution_count": 59,
     "metadata": {},
     "output_type": "execute_result"
    }
   ],
   "source": [
    "lmtzr = WordNetLemmatizer()\n",
    "data.Data = data.Data.apply(lambda x : ' '.join(lmtzr.lemmatize(x) for x in x.split(' ')))\n",
    "data.Data\n"
   ]
  },
  {
   "cell_type": "markdown",
   "metadata": {},
   "source": [
    "## Exploring Data"
   ]
  },
  {
   "cell_type": "code",
   "execution_count": 63,
   "metadata": {},
   "outputs": [
    {
     "name": "stderr",
     "output_type": "stream",
     "text": [
      "[nltk_data] Downloading package webtext to\n",
      "[nltk_data]     C:\\Users\\prashant\\AppData\\Roaming\\nltk_data...\n",
      "[nltk_data]   Unzipping corpora\\webtext.zip.\n"
     ]
    }
   ],
   "source": [
    "nltk.download('webtext')\n",
    "from nltk.corpus import webtext\n",
    "sent = webtext.sents('firefox.txt')\n",
    "words = webtext.words('firefox.txt')"
   ]
  },
  {
   "cell_type": "code",
   "execution_count": 69,
   "metadata": {
    "collapsed": true
   },
   "outputs": [
    {
     "data": {
      "text/plain": [
       "[['Cookie', 'Manager', ':', '\"', 'Don', \"'\", 't', 'allow', 'sites', 'that', 'set', 'removed', 'cookies', 'to', 'set', 'future', 'cookies', '\"', 'should', 'stay', 'checked', 'When', 'in', 'full', 'screen', 'mode', 'Pressing', 'Ctrl', '-', 'N', 'should', 'open', 'a', 'new', 'browser', 'when', 'only', 'download', 'dialog', 'is', 'left', 'open', 'add', 'icons', 'to', 'context', 'menu', 'So', 'called', '\"', 'tab', 'bar', '\"', 'should', 'be', 'made', 'a', 'proper', 'toolbar', 'or', 'given', 'the', 'ability', 'collapse', '/', 'expand', '.'], ['[', 'XUL', ']', 'Implement', 'Cocoa', '-', 'style', 'toolbar', 'customization', '.'], ...]"
      ]
     },
     "execution_count": 69,
     "metadata": {},
     "output_type": "execute_result"
    }
   ],
   "source": [
    "sent"
   ]
  },
  {
   "cell_type": "code",
   "execution_count": 70,
   "metadata": {},
   "outputs": [
    {
     "data": {
      "text/plain": [
       "['Cookie', 'Manager', ':', '\"', 'Don', \"'\", 't', ...]"
      ]
     },
     "execution_count": 70,
     "metadata": {},
     "output_type": "execute_result"
    }
   ],
   "source": [
    "words"
   ]
  },
  {
   "cell_type": "code",
   "execution_count": 71,
   "metadata": {},
   "outputs": [
    {
     "data": {
      "text/plain": [
       "(1142, 102457)"
      ]
     },
     "execution_count": 71,
     "metadata": {},
     "output_type": "execute_result"
    }
   ],
   "source": [
    "len(sent) , len(words)"
   ]
  },
  {
   "cell_type": "markdown",
   "metadata": {},
   "source": [
    "# Compute frequency\n"
   ]
  },
  {
   "cell_type": "code",
   "execution_count": 82,
   "metadata": {
    "collapsed": true
   },
   "outputs": [
    {
     "data": {
      "text/plain": [
       "['.',\n",
       " 'in',\n",
       " 'to',\n",
       " '\"',\n",
       " 'the',\n",
       " \"'\",\n",
       " 'not',\n",
       "       " '#',\n",
       " 'patch',\n",
       " 'progress',\n",
       " 'JS',\n",
       " 'hover',\n",
       " 'colors',\n",
       " 'building',\n",
       " 'General',\n",
       " 'how',\n",
       " 'removing',\n",
       " 'F',\n",
       " ...]"
      ]
     },
     "execution_count": 82,
     "metadata": {},
     "output_type": "execute_result"
    }
   ],
   "source": [
    "from nltk.probability import FreqDist\n",
    "freq = FreqDist(words)\n",
    "sorted(freq , reverse = True , key = freq.__getitem__)"
   ]
  },
  {
   "cell_type": "code",
   "execution_count": 118,
   "metadata": {},
   "outputs": [
    {
     "data": {
      "image/png": "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\n",
      "text/plain": [
       "<Figure size 432x288 with 1 Axes>"
      ]
     },
     "metadata": {
      "needs_background": "light"
     },
     "output_type": "display_data"
    },
    {
     "data": {
      "text/plain": [
       "<matplotlib.axes._subplots.AxesSubplot at 0x14d61108>"
      ]
     },
     "execution_count": 118,
     "metadata": {},
     "output_type": "execute_result"
    }
   ],
   "source": [
    "import matplotlib.pyplot as plt\n",
    "words = dict([ ( k , v ) for k , v in freq.items() if len(k) > 5 ])\n",
    "fd = nltk.FreqDist(words)\n",
    "fd.plot(10 , cumulative = False)\n"
   ]
  },
  {
   "cell_type": "markdown",
   "metadata": {},
   "source": [
    "# WordCloud"
   ]
  },
  {
   "cell_type": "code",
   "execution_count": 104,
   "metadata": {
    "collapsed": true
   },
   "outputs": [
    {
     "name": "stdout",
     "output_type": "stream",
     "text": [
      "Collecting wordcloud\n",
      "  Downloading https://files.pythonhosted.org/packages/65/41/abefdda082c7b211248e412fb2c7a8dc69d474f18ed61a5a784f20f73bb7/wordcloud-1.7.0-cp37-cp37m-win_amd64.whl (157kB)\n",
      "Requirement already satisfied: matplotlib in c:\\users\\prashant\\anaconda3\\lib\\site-packages (from wordcloud) (3.1.1)\n",
      "Requirement already satisfied: pillow in c:\\users\\prashant\\anaconda3\\lib\\site-packages (from wordcloud) (6.2.0)\n",
      "Requirement already satisfied: numpy>=1.6.1 in c:\\users\\prashant\\anaconda3\\lib\\site-packages (from wordcloud) (1.16.5)\n",
      "Requirement already satisfied: cycler>=0.10 in c:\\users\\prashant\\anaconda3\\lib\\site-packages (from matplotlib->wordcloud) (0.10.0)\n",
      "Requirement already satisfied: kiwisolver>=1.0.1 in c:\\users\\prashant\\anaconda3\\lib\\site-packages (from matplotlib->wordcloud) (1.1.0)\n",
      "Requirement already satisfied: pyparsing!=2.0.4,!=2.1.2,!=2.1.6,>=2.0.1 in c:\\users\\prashant\\anaconda3\\lib\\site-packages (from matplotlib->wordcloud) (2.4.2)\n",
      "Requirement already satisfied: python-dateutil>=2.1 in c:\\users\\prashant\\appdata\\roaming\\python\\python37\\site-packages (from matplotlib->wordcloud) (2.8.1)\n",
      "Requirement already satisfied: six in c:\\users\\prashant\\appdata\\roaming\\python\\python37\\site-packages (from cycler>=0.10->matplotlib->wordcloud) (1.14.0)\n",
      "Requirement already satisfied: setuptools in c:\\users\\prashant\\anaconda3\\lib\\site-packages (from kiwisolver>=1.0.1->matplotlib->wordcloud) (41.4.0)\n",
      "Installing collected packages: wordcloud\n",
      "Successfully installed wordcloud-1.7.0\n"
     ]
    }
   ],
   "source": [
    "# !pip install wordcloud"
   ]
  },
  {
   "cell_type": "code",
   "execution_count": 116,
   "metadata": {
    "scrolled": false
   },
   "outputs": [
    {
     "data": {
      "image/png": "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\n",
      "text/plain": [
       "<Figure size 720x1656 with 1 Axes>"
      ]
     },
     "metadata": {
      "needs_background": "light"
     },
     "output_type": "display_data"
    }
   ],
   "source": [
    "from wordcloud import WordCloud\n",
    "wcloud = WordCloud().generate_from_frequencies(fd)\n",
    "plt.figure(figsize = [10,23])\n",
    "plt.imshow(wcloud)\n",
    "plt.axis('off')\n",
    "(-0.5 ,399.5 , 199.5 ,-0.5)\n",
    "plt.show()"
   ]
  },
  {
   "cell_type": "code",
   "execution_count": null,
   "metadata": {},
   "outputs": [],
   "source": []
  }
 ],
 "metadata": {
  "kernelspec": {
   "display_name": "Python 3",
   "language": "python",
   "name": "python3"
  },
  "language_info": {
   "codemirror_mode": {
    "name": "ipython",
    "version": 3
   },
   "file_extension": ".py",
   "mimetype": "text/x-python",
   "name": "python",
   "nbconvert_exporter": "python",
   "pygments_lexer": "ipython3",
   "version": "3.7.4"
  }
 },
 "nbformat": 4,
 "nbformat_minor": 4
}
